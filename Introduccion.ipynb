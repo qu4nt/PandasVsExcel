{
  "nbformat": 4,
  "nbformat_minor": 0,
  "metadata": {
    "colab": {
      "name": "Copia de Introduccion.ipynb",
      "provenance": [],
      "collapsed_sections": [],
      "include_colab_link": true
    },
    "kernelspec": {
      "name": "python3",
      "display_name": "Python 3"
    },
    "language_info": {
      "name": "python"
    }
  },
  "cells": [
    {
      "cell_type": "markdown",
      "metadata": {
        "id": "view-in-github",
        "colab_type": "text"
      },
      "source": [
        "<a href=\"https://colab.research.google.com/github/qu4nt/PandasVsExcel/blob/dev/Introduccion.ipynb\" target=\"_parent\"><img src=\"https://colab.research.google.com/assets/colab-badge.svg\" alt=\"Open In Colab\"/></a>"
      ]
    },
    {
      "cell_type": "markdown",
      "source": [
        "# Introducción"
      ],
      "metadata": {
        "id": "C2Kew-Q7hOHh"
      }
    },
    {
      "cell_type": "markdown",
      "source": [
        "**Contenido**\n",
        "- Vídeo 1\n",
        "  * Descripción del curso\n",
        "- Vídeo 2\n",
        "  * Datos sobre Excel y Python\n",
        "  * Posibles limitaciones y errores comunes en el uso de Excel\n",
        "  * ¿Por qué resulta mejor utilizar Python en lugar de Excel para algunas tareas específicas?"
      ],
      "metadata": {
        "id": "6CjY09GyhOSA"
      }
    },
    {
      "cell_type": "markdown",
      "source": [
        "## Descripción del curso"
      ],
      "metadata": {
        "id": "FI4nQ-mzst6t"
      }
    },
    {
      "cell_type": "markdown",
      "source": [
        "Diariamente realizamos actividades en determinadas herramientas como Excel y posiblemente hayas notado que el rendimiento es limitado en ciertas tareas. Y probablemente te preguntes ¿Qué herramienta me permitirá realizar mis actividades de forma óptima y sencilla? Es una pregunta que tiene diversas respuestas pero hoy te presento a Python, un lenguaje de programación muy versátil que junto con sus bibliotecas Numpy y especialmente pandas se convierte en una excelente herramienta para llevar a cabo muchas de las tareas de Excel, de forma rápida y sencilla.\n",
        "\n",
        "Mi nombre es Anavelyz Perez, actualmente estoy sumergida en el mundo del análisis de datos y tengo conocimientos en Python. Muchas veces en las que estuve utilizando Excel para tareas complejas sentía la necesidad de buscar una herramienta más potente que me permitiera ahorrar tiempo y la forma en la que se debe calcular fuese sencillo. Fue entonces que en el camino de esa búsqueda conocí a Python, un lenguaje de programación de alto nivel que logra captar la información y te permite transformar datos fácilmente a través de sus bibliotecas Numpy y pandas. Hoy te invito a que realicemos un recorrido por algunas de las principales tareas que podemos hacer en Python específicamente con las bibliotecas que mencioné, Numpy y pandas. Estás tareas en contraste a lo que realizamos en Excel.\n",
        "En general, el curso que te presento el día de hoy busca que desarrolles las destrezas necesarias para que las actividades que haz venido realizando en excel en cambio las realices con Python. Esto a partir de ejemplos prácticos, actividades y tareas.\n",
        "\n"
      ],
      "metadata": {
        "id": "7uVDPrMlhOWC"
      }
    },
    {
      "cell_type": "markdown",
      "source": [
        "El curso cuenta con estructura comprendida por 6 sesiones\n",
        "\n",
        "* Introducción\n",
        "* Primeros pasos con Python\n",
        "* Más acerca de Python: Bibliotecas, módulos y funciones\n",
        "* Otras estructuras de datos en Python\n",
        "* Utilizando pandas para el manejo de datos\n",
        "* Haciendo gráficos básicos\n"
      ],
      "metadata": {
        "id": "tkvElDWJhOac"
      }
    },
    {
      "cell_type": "markdown",
      "source": [
        "## Datos sobre Excel y Python"
      ],
      "metadata": {
        "id": "k_AXJzhpsIHt"
      }
    },
    {
      "cell_type": "markdown",
      "source": [
        "Comencemos con hacernos las siguientes preguntas:\n",
        "\n",
        "¿Qué es excel?\n",
        "\n",
        "¿Qué es Python?"
      ],
      "metadata": {
        "id": "U8if1R7mhOeR"
      }
    },
    {
      "cell_type": "markdown",
      "source": [
        " Excel forma parte del paquete de Microsoft y puede definirse como el programa de hojas de cálculo más utilizado del mundo.\n",
        "\n",
        "Existen otros programas de hojas de cálculo como Google Workspace, Quip, Apple Numbers, Zoho Sheet, Minitab Statistical Software, WPS Spreadsheets y OfficeSuite, pero Excel es, con diferencia, el más popular y ha sido el estándar mundial durante muchos años.\n",
        "\n",
        "\n",
        "Gran parte del atractivo de Excel es su versatilidad.Su punto fuerte, por supuesto, es la realización de cálculos numéricos, pero también es útil para aplicaciones no numéricas. Algunos usos de Excel:\n",
        "\n",
        "* Analizar números: crear presupuestos, tabular gastos, analizar resultados de encuestas y realizar cualquier tipo de análisis financiero que se nos ocurra.\n",
        "\n",
        "* Organización de listas.\n",
        "\n",
        "* Manejo de texto, podemos limpiar y normalizar a los datos basados en texto.\n",
        "\n",
        "* Acceder a otros datos, Excel permite importar datos de diversas fuentes.\n",
        "\n",
        "* Crear dashboards, los dashboards son gráficos que permiten resumir una gran cantidad de información empresarial en un formato conciso.\n",
        "\n",
        "* Crear gráficos y diagramas: Utilizar formas y SmartArt para crear diagramas de aspecto profesional.\n",
        "\n",
        "* Automatizar tareas complejas, esto a través de macros."
      ],
      "metadata": {
        "id": "glFewuMLccJv"
      }
    },
    {
      "cell_type": "markdown",
      "source": [
        " Ya comentamos algunos datos importantes sobre Excel, vamos ahora a hablar un poco de Python.\n",
        "\n",
        " Python es un lenguaje de programación de alto nivel, interpretado, interactivo y orientado a objetos. Su flexibilidad permite hacer muchas cosas, tanto grandes como pequeñas. Esto indica que es un lenguaje multiparadigma. Dado que combina propiedades de diferentes paradigmas de programación,\n",
        "Sus aplicaciones no se limitan a un área en concreto. El hecho de que sea multiparadigma permite utilizarlo en campos aparentemente tan dispares como el diseño de aplicaciones web o la inteligencia artificial, entre muchos otros.\n",
        "  Con Python, puedes escribir programas y scripts básicos y también crear soluciones empresariales complejas y a gran escala. Entre las cosas que podemos hacer están:\n",
        " \n",
        " * Construir aplicaciones de escritorio\n",
        " * Realizar análisis de datos de forma matemática y cientifica para datos\n",
        " * Crear aplicaciones web\n",
        " * Administrar sistemas informáticos y automatización de tareas\n",
        " * Realización de tareas DevOps\n",
        " * Python está disponible de forma gratuita, incluso para fines comerciales."
      ],
      "metadata": {
        "id": "BbyuZNsaccPv"
      }
    },
    {
      "cell_type": "markdown",
      "source": [
        "Python ofrece una amplia gama de bibliotecas que nos permiten realizar tareas de forma más fácil, sin tener que programar tanto. Veamos ahora ¿Por qué Numpy y pandas?\n",
        "\n",
        "Numpy facilita el cálculo numérico con Python, proporciona un objeto de arreglo multidimensional, varios objetos derivados (como arreglos enmascarados y matrices), y un surtido de rutinas para realizar operaciones rápidas con arreglos, incluyendo operaciones matemáticas, lógicas, de manipulación de formas, de ordenación, de selección, de E/S, de transformadas discretas de Fourier, de álgebra lineal básica, de operaciones estadísticas básicas, de simulación aleatoria y mucho más.\n",
        "\n",
        "https://numpy.org/doc/stable/\n",
        "\n",
        " pandas es generalmente utilizada en el AED ya que provee de una serie de métodos que permiten indagar sobre el comportamiento de un conjunto de datos. Si se realizan tareas básicas de exploración de datos, sin duda pandas es la mejor opción.\n",
        "\n",
        "https://pandas.pydata.org/docs/#module-pandas"
      ],
      "metadata": {
        "id": "LIKwAYBZccSq"
      }
    },
    {
      "cell_type": "markdown",
      "source": [
        "## Posibles limitaciones y errores comunes en el uso de Excel.\n",
        "Ahora veamos las posibles limitaciones y errores comunes en el uso de Excel.\n",
        "\n",
        "Acudiremos a una página web creada por Patrick O'Beirne, de Systems Modelling, en la que se expresan algunos casos que se han detectado.\n",
        "\n",
        "Caso 1: Datos no controlados, 16000 resultados de la prueba Covid-19 en el Reino Unido perdidos durante una semana.\n",
        "Este caso se debe a que se utilizó una versión antigua de excel limitando la cantidad de filas en los archivos.\n",
        "\n",
        "Caso 2: Los científicos cambian el nombre de los genes humanos para evitar que Microsoft Excel los interprete erróneamente como fechas\n",
        "\n",
        "Caso 3: Un error en la hoja de cálculo provocó el retraso en la apertura del hospital de Edimburgo. \n",
        "\n",
        "Se detectó un valor incorrecto en los reportes lo cual produjo que no se tomará en cuenta en remodelaciones.\n",
        "\n",
        "Caso 4: Fannie Mae (Asociación Federal Nacional Hipotecaria) en 2003 presentó un formulario para corregir su comunicado de prensa en el que habían errores de cálculo. \"Se trataban de errores honestos cometidos en una hoja de cálculo utilizada en la aplicación de una nueva norma contable. La corrección tuvo que ver con un error computacional en la realización de cálculos complicados requeridos en la aplicación de la FAS 149.\"\n",
        "\n",
        "\n",
        "Los errores se generan principalmente porque las personas tienen control directo con las hojas de cálculo y muchas de las fórmulas se pueden alterar al no ser bien codificadas."
      ],
      "metadata": {
        "id": "6qYuJdLlcnYG"
      }
    },
    {
      "cell_type": "markdown",
      "source": [
        "## Ventajas del uso de Python sobre algunas funcionalidades Excel\n",
        "\n",
        "Los cálculos se pueden realizar de manera más eficiente, contarás con herramientas más especializadas y no corres el riesgo de editar por error los valores.\n",
        "\n",
        "Sin embargo, excel es perfecto para transcribir datos y editarlos. Crear tablas de pocos datos y realizar cálculos sencillos."
      ],
      "metadata": {
        "id": "dS_Mx-UKcong"
      }
    }
  ]
}