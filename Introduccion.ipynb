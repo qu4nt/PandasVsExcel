{
  "nbformat": 4,
  "nbformat_minor": 0,
  "metadata": {
    "colab": {
      "name": "Introduccion.ipynb",
      "provenance": [],
      "authorship_tag": "ABX9TyMkNogfkaQuv3eJzEkpN+XL",
      "include_colab_link": true
    },
    "kernelspec": {
      "name": "python3",
      "display_name": "Python 3"
    },
    "language_info": {
      "name": "python"
    }
  },
  "cells": [
    {
      "cell_type": "markdown",
      "metadata": {
        "id": "view-in-github",
        "colab_type": "text"
      },
      "source": [
        "<a href=\"https://colab.research.google.com/github/qu4nt/PandasVsExcel/blob/dev/Introduccion.ipynb\" target=\"_parent\"><img src=\"https://colab.research.google.com/assets/colab-badge.svg\" alt=\"Open In Colab\"/></a>"
      ]
    },
    {
      "cell_type": "markdown",
      "source": [
        "# Introducción"
      ],
      "metadata": {
        "id": "C2Kew-Q7hOHh"
      }
    },
    {
      "cell_type": "markdown",
      "source": [
        "**Contenido**\n",
        "* Descripción del curso\n",
        "* Datos sobre Excel y Python\n",
        "  - ¿Qué es Excel?\n",
        "  - ¿Qué es Python?\n",
        "  - ¿Qué son Numpy y pandas? (Breve introducción)\n",
        "* Posibles limitaciones y errores comunes en el uso de Excel (http://www.eusprig.org/horror-stories.htm)\n",
        "* Ventajas del uso de Python sobre algunas funcionalidades Excel"
      ],
      "metadata": {
        "id": "6CjY09GyhOSA"
      }
    },
    {
      "cell_type": "markdown",
      "source": [
        ""
      ],
      "metadata": {
        "id": "7uVDPrMlhOWC"
      }
    },
    {
      "cell_type": "markdown",
      "source": [
        ""
      ],
      "metadata": {
        "id": "tkvElDWJhOac"
      }
    },
    {
      "cell_type": "markdown",
      "source": [
        ""
      ],
      "metadata": {
        "id": "U8if1R7mhOeR"
      }
    }
  ]
}