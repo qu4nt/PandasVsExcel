{
  "nbformat": 4,
  "nbformat_minor": 0,
  "metadata": {
    "colab": {
      "provenance": [],
      "collapsed_sections": [],
      "include_colab_link": true
    },
    "kernelspec": {
      "name": "python3",
      "display_name": "Python 3"
    },
    "language_info": {
      "name": "python"
    }
  },
  "cells": [
    {
      "cell_type": "markdown",
      "metadata": {
        "id": "view-in-github",
        "colab_type": "text"
      },
      "source": [
        "<a href=\"https://colab.research.google.com/github/qu4nt/PandasVsExcel/blob/main/S07_reporte.ipynb\" target=\"_parent\"><img src=\"https://colab.research.google.com/assets/colab-badge.svg\" alt=\"Open In Colab\"/></a>"
      ]
    },
    {
      "cell_type": "code",
      "source": [
        "from google.colab import drive\n",
        "drive.mount('/content/drive')"
      ],
      "metadata": {
        "colab": {
          "base_uri": "https://localhost:8080/"
        },
        "id": "071ttemZ0OG8",
        "outputId": "13888de4-7e28-4bc1-9cac-af80ca81c25e"
      },
      "execution_count": 2,
      "outputs": [
        {
          "output_type": "stream",
          "name": "stdout",
          "text": [
            "Mounted at /content/drive\n"
          ]
        }
      ]
    },
    {
      "cell_type": "markdown",
      "source": [
        "# Elementos gráficos y tabulares de un reporte con pandas\n",
        "\n",
        "## Reporte: Ventas de videojuegos"
      ],
      "metadata": {
        "id": "k9rk0UU7e22C"
      }
    },
    {
      "cell_type": "markdown",
      "source": [
        "El conjunto de datos que vamos a utilizar está disponible en [kaggle](https://www.kaggle.com/code/juanpoma/estudio-de-base-de-datos-sobre-videojuegos/data?scriptVersionId=58478349&select=vgsales.csv), contiene una lista de videojuegos con ventas superiores a 100.000 copias. Se generó mediante un scrape de vgchartz.com. En este archivo hay 16598 observaciones.\n",
        "\n",
        "Los campos incluyen\n",
        "\n",
        "* _Rank_ - Clasificación de las ventas totales\n",
        "\n",
        "* _Name_ - El nombre del juego\n",
        "\n",
        "* _Platform_ - Plataforma de lanzamiento del juego (es decir, PC, PS4, etc.)\n",
        "\n",
        "* _Year_ - Año de lanzamiento del juego\n",
        "\n",
        "* _Genre_ - Género del juego\n",
        "\n",
        "* _Publisher_ - Editor del juego\n",
        "\n",
        "* _NA_Sales_ - Ventas en Norteamérica (en millones)\n",
        "\n",
        "* _EU_Sales_ - Ventas en Europa (en millones)\n",
        "\n",
        "* _JP_Sales_ - Ventas en Japón (en millones)\n",
        "\n",
        "* _Other_Sales_ - Ventas en el resto del mundo (en millones)\n",
        "\n",
        "* _Global_Sales_ - Ventas totales en todo el mundo."
      ],
      "metadata": {
        "id": "kOsclajLJer6"
      }
    },
    {
      "cell_type": "markdown",
      "source": [
        "Antes de realizar cualquier reporte debemos tener claro lo que necesitamos expresar.\n",
        "\n",
        "En este caso queremos conocer cómo han sido las ventas de videojuegos a lo largo de los años, qué región ha vendido más, qué género y editor tiene mayor cantidad de ventas. Luego estudiar un poco más sobre el editor con más ventas."
      ],
      "metadata": {
        "id": "uJ57G3ehK5LT"
      }
    },
    {
      "cell_type": "markdown",
      "source": [
        "## Lectura y limpieza de datos\n",
        "\n",
        "Vamos a revisar nuestros datos y cambiar los valores que sean necesarios. Comencemos por importar las bibliotecas necesarias"
      ],
      "metadata": {
        "id": "kXBYvAeigL55"
      }
    },
    {
      "cell_type": "code",
      "execution_count": 1,
      "metadata": {
        "id": "AyC8s9PDcc61"
      },
      "outputs": [],
      "source": [
        "import pandas as pd\n",
        "import numpy as np"
      ]
    },
    {
      "cell_type": "markdown",
      "source": [
        "Ahora, vamos a leer nuestros datos"
      ],
      "metadata": {
        "id": "X5iRwGUOcrZl"
      }
    },
    {
      "cell_type": "code",
      "source": [
        "df = pd.read_csv('/content/drive/MyDrive/vgsales.csv')"
      ],
      "metadata": {
        "id": "MGXUk6rhehnE"
      },
      "execution_count": 3,
      "outputs": []
    },
    {
      "cell_type": "markdown",
      "source": [
        "Los valores en las primeras filas"
      ],
      "metadata": {
        "id": "WvNvyHzS8RFe"
      }
    },
    {
      "cell_type": "code",
      "source": [
        "df.head().style"
      ],
      "metadata": {
        "colab": {
          "base_uri": "https://localhost:8080/",
          "height": 313
        },
        "id": "3nUKWn0RiMO7",
        "outputId": "ad7385e7-cdc6-474e-894a-1bff693fd27c"
      },
      "execution_count": 7,
      "outputs": [
        {
          "output_type": "execute_result",
          "data": {
            "text/plain": [
              "<pandas.io.formats.style.Styler at 0x7f748de04d90>"
            ],
            "text/html": [
              "<style type=\"text/css\">\n",
              "</style>\n",
              "<table id=\"T_92d5d_\" class=\"dataframe\">\n",
              "  <thead>\n",
              "    <tr>\n",
              "      <th class=\"blank level0\" >&nbsp;</th>\n",
              "      <th class=\"col_heading level0 col0\" >Rank</th>\n",
              "      <th class=\"col_heading level0 col1\" >Name</th>\n",
              "      <th class=\"col_heading level0 col2\" >Platform</th>\n",
              "      <th class=\"col_heading level0 col3\" >Year</th>\n",
              "      <th class=\"col_heading level0 col4\" >Genre</th>\n",
              "      <th class=\"col_heading level0 col5\" >Publisher</th>\n",
              "      <th class=\"col_heading level0 col6\" >NA_Sales</th>\n",
              "      <th class=\"col_heading level0 col7\" >EU_Sales</th>\n",
              "      <th class=\"col_heading level0 col8\" >JP_Sales</th>\n",
              "      <th class=\"col_heading level0 col9\" >Other_Sales</th>\n",
              "      <th class=\"col_heading level0 col10\" >Global_Sales</th>\n",
              "    </tr>\n",
              "  </thead>\n",
              "  <tbody>\n",
              "    <tr>\n",
              "      <th id=\"T_92d5d_level0_row0\" class=\"row_heading level0 row0\" >0</th>\n",
              "      <td id=\"T_92d5d_row0_col0\" class=\"data row0 col0\" >1</td>\n",
              "      <td id=\"T_92d5d_row0_col1\" class=\"data row0 col1\" >Wii Sports</td>\n",
              "      <td id=\"T_92d5d_row0_col2\" class=\"data row0 col2\" >Wii</td>\n",
              "      <td id=\"T_92d5d_row0_col3\" class=\"data row0 col3\" >2006.000000</td>\n",
              "      <td id=\"T_92d5d_row0_col4\" class=\"data row0 col4\" >Sports</td>\n",
              "      <td id=\"T_92d5d_row0_col5\" class=\"data row0 col5\" >Nintendo</td>\n",
              "      <td id=\"T_92d5d_row0_col6\" class=\"data row0 col6\" >41.490000</td>\n",
              "      <td id=\"T_92d5d_row0_col7\" class=\"data row0 col7\" >29.020000</td>\n",
              "      <td id=\"T_92d5d_row0_col8\" class=\"data row0 col8\" >3.770000</td>\n",
              "      <td id=\"T_92d5d_row0_col9\" class=\"data row0 col9\" >8.460000</td>\n",
              "      <td id=\"T_92d5d_row0_col10\" class=\"data row0 col10\" >82.740000</td>\n",
              "    </tr>\n",
              "    <tr>\n",
              "      <th id=\"T_92d5d_level0_row1\" class=\"row_heading level0 row1\" >1</th>\n",
              "      <td id=\"T_92d5d_row1_col0\" class=\"data row1 col0\" >2</td>\n",
              "      <td id=\"T_92d5d_row1_col1\" class=\"data row1 col1\" >Super Mario Bros.</td>\n",
              "      <td id=\"T_92d5d_row1_col2\" class=\"data row1 col2\" >NES</td>\n",
              "      <td id=\"T_92d5d_row1_col3\" class=\"data row1 col3\" >1985.000000</td>\n",
              "      <td id=\"T_92d5d_row1_col4\" class=\"data row1 col4\" >Platform</td>\n",
              "      <td id=\"T_92d5d_row1_col5\" class=\"data row1 col5\" >Nintendo</td>\n",
              "      <td id=\"T_92d5d_row1_col6\" class=\"data row1 col6\" >29.080000</td>\n",
              "      <td id=\"T_92d5d_row1_col7\" class=\"data row1 col7\" >3.580000</td>\n",
              "      <td id=\"T_92d5d_row1_col8\" class=\"data row1 col8\" >6.810000</td>\n",
              "      <td id=\"T_92d5d_row1_col9\" class=\"data row1 col9\" >0.770000</td>\n",
              "      <td id=\"T_92d5d_row1_col10\" class=\"data row1 col10\" >40.240000</td>\n",
              "    </tr>\n",
              "    <tr>\n",
              "      <th id=\"T_92d5d_level0_row2\" class=\"row_heading level0 row2\" >2</th>\n",
              "      <td id=\"T_92d5d_row2_col0\" class=\"data row2 col0\" >3</td>\n",
              "      <td id=\"T_92d5d_row2_col1\" class=\"data row2 col1\" >Mario Kart Wii</td>\n",
              "      <td id=\"T_92d5d_row2_col2\" class=\"data row2 col2\" >Wii</td>\n",
              "      <td id=\"T_92d5d_row2_col3\" class=\"data row2 col3\" >2008.000000</td>\n",
              "      <td id=\"T_92d5d_row2_col4\" class=\"data row2 col4\" >Racing</td>\n",
              "      <td id=\"T_92d5d_row2_col5\" class=\"data row2 col5\" >Nintendo</td>\n",
              "      <td id=\"T_92d5d_row2_col6\" class=\"data row2 col6\" >15.850000</td>\n",
              "      <td id=\"T_92d5d_row2_col7\" class=\"data row2 col7\" >12.880000</td>\n",
              "      <td id=\"T_92d5d_row2_col8\" class=\"data row2 col8\" >3.790000</td>\n",
              "      <td id=\"T_92d5d_row2_col9\" class=\"data row2 col9\" >3.310000</td>\n",
              "      <td id=\"T_92d5d_row2_col10\" class=\"data row2 col10\" >35.820000</td>\n",
              "    </tr>\n",
              "    <tr>\n",
              "      <th id=\"T_92d5d_level0_row3\" class=\"row_heading level0 row3\" >3</th>\n",
              "      <td id=\"T_92d5d_row3_col0\" class=\"data row3 col0\" >4</td>\n",
              "      <td id=\"T_92d5d_row3_col1\" class=\"data row3 col1\" >Wii Sports Resort</td>\n",
              "      <td id=\"T_92d5d_row3_col2\" class=\"data row3 col2\" >Wii</td>\n",
              "      <td id=\"T_92d5d_row3_col3\" class=\"data row3 col3\" >2009.000000</td>\n",
              "      <td id=\"T_92d5d_row3_col4\" class=\"data row3 col4\" >Sports</td>\n",
              "      <td id=\"T_92d5d_row3_col5\" class=\"data row3 col5\" >Nintendo</td>\n",
              "      <td id=\"T_92d5d_row3_col6\" class=\"data row3 col6\" >15.750000</td>\n",
              "      <td id=\"T_92d5d_row3_col7\" class=\"data row3 col7\" >11.010000</td>\n",
              "      <td id=\"T_92d5d_row3_col8\" class=\"data row3 col8\" >3.280000</td>\n",
              "      <td id=\"T_92d5d_row3_col9\" class=\"data row3 col9\" >2.960000</td>\n",
              "      <td id=\"T_92d5d_row3_col10\" class=\"data row3 col10\" >33.000000</td>\n",
              "    </tr>\n",
              "    <tr>\n",
              "      <th id=\"T_92d5d_level0_row4\" class=\"row_heading level0 row4\" >4</th>\n",
              "      <td id=\"T_92d5d_row4_col0\" class=\"data row4 col0\" >5</td>\n",
              "      <td id=\"T_92d5d_row4_col1\" class=\"data row4 col1\" >Pokemon Red/Pokemon Blue</td>\n",
              "      <td id=\"T_92d5d_row4_col2\" class=\"data row4 col2\" >GB</td>\n",
              "      <td id=\"T_92d5d_row4_col3\" class=\"data row4 col3\" >1996.000000</td>\n",
              "      <td id=\"T_92d5d_row4_col4\" class=\"data row4 col4\" >Role-Playing</td>\n",
              "      <td id=\"T_92d5d_row4_col5\" class=\"data row4 col5\" >Nintendo</td>\n",
              "      <td id=\"T_92d5d_row4_col6\" class=\"data row4 col6\" >11.270000</td>\n",
              "      <td id=\"T_92d5d_row4_col7\" class=\"data row4 col7\" >8.890000</td>\n",
              "      <td id=\"T_92d5d_row4_col8\" class=\"data row4 col8\" >10.220000</td>\n",
              "      <td id=\"T_92d5d_row4_col9\" class=\"data row4 col9\" >1.000000</td>\n",
              "      <td id=\"T_92d5d_row4_col10\" class=\"data row4 col10\" >31.370000</td>\n",
              "    </tr>\n",
              "  </tbody>\n",
              "</table>\n"
            ]
          },
          "metadata": {},
          "execution_count": 7
        }
      ]
    },
    {
      "cell_type": "markdown",
      "source": [
        "Las últimas filas"
      ],
      "metadata": {
        "id": "SDKgp6XT8UMw"
      }
    },
    {
      "cell_type": "code",
      "source": [
        "df.tail()"
      ],
      "metadata": {
        "colab": {
          "base_uri": "https://localhost:8080/",
          "height": 478
        },
        "id": "oT0WZtdliNFB",
        "outputId": "8da2a7cc-b8f5-490e-85b0-cbd903cf257d"
      },
      "execution_count": null,
      "outputs": [
        {
          "output_type": "execute_result",
          "data": {
            "text/plain": [
              "        Rank                                              Name Platform  \\\n",
              "16593  16596                Woody Woodpecker in Crazy Castle 5      GBA   \n",
              "16594  16597                     Men in Black II: Alien Escape       GC   \n",
              "16595  16598  SCORE International Baja 1000: The Official Game      PS2   \n",
              "16596  16599                                        Know How 2       DS   \n",
              "16597  16600                                  Spirits & Spells      GBA   \n",
              "\n",
              "         Year     Genre   Publisher  NA_Sales  EU_Sales  JP_Sales  \\\n",
              "16593  2002.0  Platform       Kemco      0.01      0.00       0.0   \n",
              "16594  2003.0   Shooter  Infogrames      0.01      0.00       0.0   \n",
              "16595  2008.0    Racing  Activision      0.00      0.00       0.0   \n",
              "16596  2010.0    Puzzle    7G//AMES      0.00      0.01       0.0   \n",
              "16597  2003.0  Platform     Wanadoo      0.01      0.00       0.0   \n",
              "\n",
              "       Other_Sales  Global_Sales  \n",
              "16593          0.0          0.01  \n",
              "16594          0.0          0.01  \n",
              "16595          0.0          0.01  \n",
              "16596          0.0          0.01  \n",
              "16597          0.0          0.01  "
            ],
            "text/html": [
              "\n",
              "  <div id=\"df-afdfa72e-5082-4dab-b458-43dc6722a48c\">\n",
              "    <div class=\"colab-df-container\">\n",
              "      <div>\n",
              "<style scoped>\n",
              "    .dataframe tbody tr th:only-of-type {\n",
              "        vertical-align: middle;\n",
              "    }\n",
              "\n",
              "    .dataframe tbody tr th {\n",
              "        vertical-align: top;\n",
              "    }\n",
              "\n",
              "    .dataframe thead th {\n",
              "        text-align: right;\n",
              "    }\n",
              "</style>\n",
              "<table border=\"1\" class=\"dataframe\">\n",
              "  <thead>\n",
              "    <tr style=\"text-align: right;\">\n",
              "      <th></th>\n",
              "      <th>Rank</th>\n",
              "      <th>Name</th>\n",
              "      <th>Platform</th>\n",
              "      <th>Year</th>\n",
              "      <th>Genre</th>\n",
              "      <th>Publisher</th>\n",
              "      <th>NA_Sales</th>\n",
              "      <th>EU_Sales</th>\n",
              "      <th>JP_Sales</th>\n",
              "      <th>Other_Sales</th>\n",
              "      <th>Global_Sales</th>\n",
              "    </tr>\n",
              "  </thead>\n",
              "  <tbody>\n",
              "    <tr>\n",
              "      <th>16593</th>\n",
              "      <td>16596</td>\n",
              "      <td>Woody Woodpecker in Crazy Castle 5</td>\n",
              "      <td>GBA</td>\n",
              "      <td>2002.0</td>\n",
              "      <td>Platform</td>\n",
              "      <td>Kemco</td>\n",
              "      <td>0.01</td>\n",
              "      <td>0.00</td>\n",
              "      <td>0.0</td>\n",
              "      <td>0.0</td>\n",
              "      <td>0.01</td>\n",
              "    </tr>\n",
              "    <tr>\n",
              "      <th>16594</th>\n",
              "      <td>16597</td>\n",
              "      <td>Men in Black II: Alien Escape</td>\n",
              "      <td>GC</td>\n",
              "      <td>2003.0</td>\n",
              "      <td>Shooter</td>\n",
              "      <td>Infogrames</td>\n",
              "      <td>0.01</td>\n",
              "      <td>0.00</td>\n",
              "      <td>0.0</td>\n",
              "      <td>0.0</td>\n",
              "      <td>0.01</td>\n",
              "    </tr>\n",
              "    <tr>\n",
              "      <th>16595</th>\n",
              "      <td>16598</td>\n",
              "      <td>SCORE International Baja 1000: The Official Game</td>\n",
              "      <td>PS2</td>\n",
              "      <td>2008.0</td>\n",
              "      <td>Racing</td>\n",
              "      <td>Activision</td>\n",
              "      <td>0.00</td>\n",
              "      <td>0.00</td>\n",
              "      <td>0.0</td>\n",
              "      <td>0.0</td>\n",
              "      <td>0.01</td>\n",
              "    </tr>\n",
              "    <tr>\n",
              "      <th>16596</th>\n",
              "      <td>16599</td>\n",
              "      <td>Know How 2</td>\n",
              "      <td>DS</td>\n",
              "      <td>2010.0</td>\n",
              "      <td>Puzzle</td>\n",
              "      <td>7G//AMES</td>\n",
              "      <td>0.00</td>\n",
              "      <td>0.01</td>\n",
              "      <td>0.0</td>\n",
              "      <td>0.0</td>\n",
              "      <td>0.01</td>\n",
              "    </tr>\n",
              "    <tr>\n",
              "      <th>16597</th>\n",
              "      <td>16600</td>\n",
              "      <td>Spirits &amp; Spells</td>\n",
              "      <td>GBA</td>\n",
              "      <td>2003.0</td>\n",
              "      <td>Platform</td>\n",
              "      <td>Wanadoo</td>\n",
              "      <td>0.01</td>\n",
              "      <td>0.00</td>\n",
              "      <td>0.0</td>\n",
              "      <td>0.0</td>\n",
              "      <td>0.01</td>\n",
              "    </tr>\n",
              "  </tbody>\n",
              "</table>\n",
              "</div>\n",
              "      <button class=\"colab-df-convert\" onclick=\"convertToInteractive('df-afdfa72e-5082-4dab-b458-43dc6722a48c')\"\n",
              "              title=\"Convert this dataframe to an interactive table.\"\n",
              "              style=\"display:none;\">\n",
              "        \n",
              "  <svg xmlns=\"http://www.w3.org/2000/svg\" height=\"24px\"viewBox=\"0 0 24 24\"\n",
              "       width=\"24px\">\n",
              "    <path d=\"M0 0h24v24H0V0z\" fill=\"none\"/>\n",
              "    <path d=\"M18.56 5.44l.94 2.06.94-2.06 2.06-.94-2.06-.94-.94-2.06-.94 2.06-2.06.94zm-11 1L8.5 8.5l.94-2.06 2.06-.94-2.06-.94L8.5 2.5l-.94 2.06-2.06.94zm10 10l.94 2.06.94-2.06 2.06-.94-2.06-.94-.94-2.06-.94 2.06-2.06.94z\"/><path d=\"M17.41 7.96l-1.37-1.37c-.4-.4-.92-.59-1.43-.59-.52 0-1.04.2-1.43.59L10.3 9.45l-7.72 7.72c-.78.78-.78 2.05 0 2.83L4 21.41c.39.39.9.59 1.41.59.51 0 1.02-.2 1.41-.59l7.78-7.78 2.81-2.81c.8-.78.8-2.07 0-2.86zM5.41 20L4 18.59l7.72-7.72 1.47 1.35L5.41 20z\"/>\n",
              "  </svg>\n",
              "      </button>\n",
              "      \n",
              "  <style>\n",
              "    .colab-df-container {\n",
              "      display:flex;\n",
              "      flex-wrap:wrap;\n",
              "      gap: 12px;\n",
              "    }\n",
              "\n",
              "    .colab-df-convert {\n",
              "      background-color: #E8F0FE;\n",
              "      border: none;\n",
              "      border-radius: 50%;\n",
              "      cursor: pointer;\n",
              "      display: none;\n",
              "      fill: #1967D2;\n",
              "      height: 32px;\n",
              "      padding: 0 0 0 0;\n",
              "      width: 32px;\n",
              "    }\n",
              "\n",
              "    .colab-df-convert:hover {\n",
              "      background-color: #E2EBFA;\n",
              "      box-shadow: 0px 1px 2px rgba(60, 64, 67, 0.3), 0px 1px 3px 1px rgba(60, 64, 67, 0.15);\n",
              "      fill: #174EA6;\n",
              "    }\n",
              "\n",
              "    [theme=dark] .colab-df-convert {\n",
              "      background-color: #3B4455;\n",
              "      fill: #D2E3FC;\n",
              "    }\n",
              "\n",
              "    [theme=dark] .colab-df-convert:hover {\n",
              "      background-color: #434B5C;\n",
              "      box-shadow: 0px 1px 3px 1px rgba(0, 0, 0, 0.15);\n",
              "      filter: drop-shadow(0px 1px 2px rgba(0, 0, 0, 0.3));\n",
              "      fill: #FFFFFF;\n",
              "    }\n",
              "  </style>\n",
              "\n",
              "      <script>\n",
              "        const buttonEl =\n",
              "          document.querySelector('#df-afdfa72e-5082-4dab-b458-43dc6722a48c button.colab-df-convert');\n",
              "        buttonEl.style.display =\n",
              "          google.colab.kernel.accessAllowed ? 'block' : 'none';\n",
              "\n",
              "        async function convertToInteractive(key) {\n",
              "          const element = document.querySelector('#df-afdfa72e-5082-4dab-b458-43dc6722a48c');\n",
              "          const dataTable =\n",
              "            await google.colab.kernel.invokeFunction('convertToInteractive',\n",
              "                                                     [key], {});\n",
              "          if (!dataTable) return;\n",
              "\n",
              "          const docLinkHtml = 'Like what you see? Visit the ' +\n",
              "            '<a target=\"_blank\" href=https://colab.research.google.com/notebooks/data_table.ipynb>data table notebook</a>'\n",
              "            + ' to learn more about interactive tables.';\n",
              "          element.innerHTML = '';\n",
              "          dataTable['output_type'] = 'display_data';\n",
              "          await google.colab.output.renderOutput(dataTable, element);\n",
              "          const docLink = document.createElement('div');\n",
              "          docLink.innerHTML = docLinkHtml;\n",
              "          element.appendChild(docLink);\n",
              "        }\n",
              "      </script>\n",
              "    </div>\n",
              "  </div>\n",
              "  "
            ]
          },
          "metadata": {},
          "execution_count": 4
        }
      ]
    },
    {
      "cell_type": "markdown",
      "source": [
        "Las columnas almacenadas"
      ],
      "metadata": {
        "id": "7_TvKqr482AF"
      }
    },
    {
      "cell_type": "code",
      "source": [
        "df.columns"
      ],
      "metadata": {
        "colab": {
          "base_uri": "https://localhost:8080/"
        },
        "id": "EaVLz7RiemTW",
        "outputId": "3e6386f3-f84b-41ad-e1a7-27409fb4be0a"
      },
      "execution_count": null,
      "outputs": [
        {
          "output_type": "execute_result",
          "data": {
            "text/plain": [
              "Index(['Rank', 'Name', 'Platform', 'Year', 'Genre', 'Publisher', 'NA_Sales',\n",
              "       'EU_Sales', 'JP_Sales', 'Other_Sales', 'Global_Sales'],\n",
              "      dtype='object')"
            ]
          },
          "metadata": {},
          "execution_count": 5
        }
      ]
    },
    {
      "cell_type": "markdown",
      "source": [
        "Un resumen sobre nuestro DataFrame"
      ],
      "metadata": {
        "id": "PoMwpK18DkSW"
      }
    },
    {
      "cell_type": "code",
      "source": [
        "df.info()"
      ],
      "metadata": {
        "colab": {
          "base_uri": "https://localhost:8080/"
        },
        "id": "i-RilIHuDb6t",
        "outputId": "55f5dc29-6eed-48d9-cd33-5c087ec76059"
      },
      "execution_count": null,
      "outputs": [
        {
          "output_type": "stream",
          "name": "stdout",
          "text": [
            "<class 'pandas.core.frame.DataFrame'>\n",
            "RangeIndex: 16598 entries, 0 to 16597\n",
            "Data columns (total 11 columns):\n",
            " #   Column        Non-Null Count  Dtype  \n",
            "---  ------        --------------  -----  \n",
            " 0   Rank          16598 non-null  int64  \n",
            " 1   Name          16598 non-null  object \n",
            " 2   Platform      16598 non-null  object \n",
            " 3   Year          16327 non-null  float64\n",
            " 4   Genre         16598 non-null  object \n",
            " 5   Publisher     16540 non-null  object \n",
            " 6   NA_Sales      16598 non-null  float64\n",
            " 7   EU_Sales      16598 non-null  float64\n",
            " 8   JP_Sales      16598 non-null  float64\n",
            " 9   Other_Sales   16598 non-null  float64\n",
            " 10  Global_Sales  16598 non-null  float64\n",
            "dtypes: float64(6), int64(1), object(4)\n",
            "memory usage: 1.4+ MB\n"
          ]
        }
      ]
    },
    {
      "cell_type": "markdown",
      "source": [
        "Podemos observar aquí que tenemos 11 columnas, 16598 filas (observaciones), ocupa 1.4 MB de la memoria, hay 6 columnas de tipo números flotantes, 1 de enteros y 4 de tipo object. De donde podemos decir que es necesario convertir las variables *Platform*, *Genre* y *Publisher* en tipo `category` porque cada columna tiene una determinada lista de valores o categorías. Así mismo *Year* debería ser de tipo datetime.\n",
        "\n",
        "Además, podemos notar que Publisher y Year tienen valores faltantes. En este caso, tomaremos la decisión de excluir estos datos en el estudio."
      ],
      "metadata": {
        "id": "LTUmjz9ItT0N"
      }
    },
    {
      "cell_type": "markdown",
      "source": [
        "Para eliminar los faltantes utilizaremos dropna"
      ],
      "metadata": {
        "id": "O_wS-ghmuolC"
      }
    },
    {
      "cell_type": "code",
      "source": [
        "df = df.dropna()"
      ],
      "metadata": {
        "id": "vePnZTERYlCJ"
      },
      "execution_count": null,
      "outputs": []
    },
    {
      "cell_type": "markdown",
      "source": [
        "En el caso de convertir nuestras columnas a `category` utilizaremos `astype`"
      ],
      "metadata": {
        "id": "tSFd_wofu3dJ"
      }
    },
    {
      "cell_type": "code",
      "source": [
        "df[['Platform', 'Genre', 'Publisher']] = df[['Platform', 'Genre',\n",
        "                                             'Publisher']].astype('category')"
      ],
      "metadata": {
        "id": "YIyGlMutDcN-"
      },
      "execution_count": 15,
      "outputs": []
    },
    {
      "cell_type": "markdown",
      "source": [
        "Para convertir los años a valores de tipo datetime vamos a utilizar `to_datetime`, pero debemos pasarle a la función que nuestra fecha viene en formato `%Y`. Este formato nos va a permitir que la función ajuste los años a una fecha de forma correcta, porque si no se tomará como un punto de tiempo en segundos."
      ],
      "metadata": {
        "id": "BbbH4tLYvk8A"
      }
    },
    {
      "cell_type": "code",
      "source": [
        "df['Year']= pd.to_datetime(df.Year, format=\"%Y\")"
      ],
      "metadata": {
        "id": "JIXhA7mU1VzM"
      },
      "execution_count": null,
      "outputs": []
    },
    {
      "cell_type": "code",
      "source": [
        "df.dtypes"
      ],
      "metadata": {
        "colab": {
          "base_uri": "https://localhost:8080/"
        },
        "id": "uylYZEtFEJs9",
        "outputId": "7e253395-4ff5-4837-b5b9-eeb7e60184bc"
      },
      "execution_count": null,
      "outputs": [
        {
          "output_type": "execute_result",
          "data": {
            "text/plain": [
              "Rank                     int64\n",
              "Name                    object\n",
              "Platform              category\n",
              "Year            datetime64[ns]\n",
              "Genre                 category\n",
              "Publisher             category\n",
              "NA_Sales               float64\n",
              "EU_Sales               float64\n",
              "JP_Sales               float64\n",
              "Other_Sales            float64\n",
              "Global_Sales           float64\n",
              "dtype: object"
            ]
          },
          "metadata": {},
          "execution_count": 10
        }
      ]
    },
    {
      "cell_type": "markdown",
      "source": [
        "Ahora, ya tenemos los tipos de datos correctos. Además, en el resumen del DataFrame, que nos muestra info, observamos que no existen valores faltantes."
      ],
      "metadata": {
        "id": "OcYVLUk_H7SM"
      }
    },
    {
      "cell_type": "markdown",
      "source": [
        "## Cálculo de estadísticas básicas\n",
        "\n",
        "Estos cálculos los haremos con la función `describe`."
      ],
      "metadata": {
        "id": "IlJbpKpeOVSP"
      }
    },
    {
      "cell_type": "markdown",
      "source": [
        "Para las variables numéricas tenemos"
      ],
      "metadata": {
        "id": "cAW3Y0MTLx1v"
      }
    },
    {
      "cell_type": "code",
      "source": [
        "df.describe().style"
      ],
      "metadata": {
        "colab": {
          "base_uri": "https://localhost:8080/",
          "height": 300
        },
        "id": "P1Q9pKyCN2pd",
        "outputId": "b772f4ad-dadb-4234-d39c-55b0a7f61974"
      },
      "execution_count": 8,
      "outputs": [
        {
          "output_type": "execute_result",
          "data": {
            "text/plain": [
              "<pandas.io.formats.style.Styler at 0x7f748d62e7d0>"
            ],
            "text/html": [
              "<style type=\"text/css\">\n",
              "</style>\n",
              "<table id=\"T_d88be_\" class=\"dataframe\">\n",
              "  <thead>\n",
              "    <tr>\n",
              "      <th class=\"blank level0\" >&nbsp;</th>\n",
              "      <th class=\"col_heading level0 col0\" >Rank</th>\n",
              "      <th class=\"col_heading level0 col1\" >Year</th>\n",
              "      <th class=\"col_heading level0 col2\" >NA_Sales</th>\n",
              "      <th class=\"col_heading level0 col3\" >EU_Sales</th>\n",
              "      <th class=\"col_heading level0 col4\" >JP_Sales</th>\n",
              "      <th class=\"col_heading level0 col5\" >Other_Sales</th>\n",
              "      <th class=\"col_heading level0 col6\" >Global_Sales</th>\n",
              "    </tr>\n",
              "  </thead>\n",
              "  <tbody>\n",
              "    <tr>\n",
              "      <th id=\"T_d88be_level0_row0\" class=\"row_heading level0 row0\" >count</th>\n",
              "      <td id=\"T_d88be_row0_col0\" class=\"data row0 col0\" >16598.000000</td>\n",
              "      <td id=\"T_d88be_row0_col1\" class=\"data row0 col1\" >16327.000000</td>\n",
              "      <td id=\"T_d88be_row0_col2\" class=\"data row0 col2\" >16598.000000</td>\n",
              "      <td id=\"T_d88be_row0_col3\" class=\"data row0 col3\" >16598.000000</td>\n",
              "      <td id=\"T_d88be_row0_col4\" class=\"data row0 col4\" >16598.000000</td>\n",
              "      <td id=\"T_d88be_row0_col5\" class=\"data row0 col5\" >16598.000000</td>\n",
              "      <td id=\"T_d88be_row0_col6\" class=\"data row0 col6\" >16598.000000</td>\n",
              "    </tr>\n",
              "    <tr>\n",
              "      <th id=\"T_d88be_level0_row1\" class=\"row_heading level0 row1\" >mean</th>\n",
              "      <td id=\"T_d88be_row1_col0\" class=\"data row1 col0\" >8300.605254</td>\n",
              "      <td id=\"T_d88be_row1_col1\" class=\"data row1 col1\" >2006.406443</td>\n",
              "      <td id=\"T_d88be_row1_col2\" class=\"data row1 col2\" >0.264667</td>\n",
              "      <td id=\"T_d88be_row1_col3\" class=\"data row1 col3\" >0.146652</td>\n",
              "      <td id=\"T_d88be_row1_col4\" class=\"data row1 col4\" >0.077782</td>\n",
              "      <td id=\"T_d88be_row1_col5\" class=\"data row1 col5\" >0.048063</td>\n",
              "      <td id=\"T_d88be_row1_col6\" class=\"data row1 col6\" >0.537441</td>\n",
              "    </tr>\n",
              "    <tr>\n",
              "      <th id=\"T_d88be_level0_row2\" class=\"row_heading level0 row2\" >std</th>\n",
              "      <td id=\"T_d88be_row2_col0\" class=\"data row2 col0\" >4791.853933</td>\n",
              "      <td id=\"T_d88be_row2_col1\" class=\"data row2 col1\" >5.828981</td>\n",
              "      <td id=\"T_d88be_row2_col2\" class=\"data row2 col2\" >0.816683</td>\n",
              "      <td id=\"T_d88be_row2_col3\" class=\"data row2 col3\" >0.505351</td>\n",
              "      <td id=\"T_d88be_row2_col4\" class=\"data row2 col4\" >0.309291</td>\n",
              "      <td id=\"T_d88be_row2_col5\" class=\"data row2 col5\" >0.188588</td>\n",
              "      <td id=\"T_d88be_row2_col6\" class=\"data row2 col6\" >1.555028</td>\n",
              "    </tr>\n",
              "    <tr>\n",
              "      <th id=\"T_d88be_level0_row3\" class=\"row_heading level0 row3\" >min</th>\n",
              "      <td id=\"T_d88be_row3_col0\" class=\"data row3 col0\" >1.000000</td>\n",
              "      <td id=\"T_d88be_row3_col1\" class=\"data row3 col1\" >1980.000000</td>\n",
              "      <td id=\"T_d88be_row3_col2\" class=\"data row3 col2\" >0.000000</td>\n",
              "      <td id=\"T_d88be_row3_col3\" class=\"data row3 col3\" >0.000000</td>\n",
              "      <td id=\"T_d88be_row3_col4\" class=\"data row3 col4\" >0.000000</td>\n",
              "      <td id=\"T_d88be_row3_col5\" class=\"data row3 col5\" >0.000000</td>\n",
              "      <td id=\"T_d88be_row3_col6\" class=\"data row3 col6\" >0.010000</td>\n",
              "    </tr>\n",
              "    <tr>\n",
              "      <th id=\"T_d88be_level0_row4\" class=\"row_heading level0 row4\" >25%</th>\n",
              "      <td id=\"T_d88be_row4_col0\" class=\"data row4 col0\" >4151.250000</td>\n",
              "      <td id=\"T_d88be_row4_col1\" class=\"data row4 col1\" >2003.000000</td>\n",
              "      <td id=\"T_d88be_row4_col2\" class=\"data row4 col2\" >0.000000</td>\n",
              "      <td id=\"T_d88be_row4_col3\" class=\"data row4 col3\" >0.000000</td>\n",
              "      <td id=\"T_d88be_row4_col4\" class=\"data row4 col4\" >0.000000</td>\n",
              "      <td id=\"T_d88be_row4_col5\" class=\"data row4 col5\" >0.000000</td>\n",
              "      <td id=\"T_d88be_row4_col6\" class=\"data row4 col6\" >0.060000</td>\n",
              "    </tr>\n",
              "    <tr>\n",
              "      <th id=\"T_d88be_level0_row5\" class=\"row_heading level0 row5\" >50%</th>\n",
              "      <td id=\"T_d88be_row5_col0\" class=\"data row5 col0\" >8300.500000</td>\n",
              "      <td id=\"T_d88be_row5_col1\" class=\"data row5 col1\" >2007.000000</td>\n",
              "      <td id=\"T_d88be_row5_col2\" class=\"data row5 col2\" >0.080000</td>\n",
              "      <td id=\"T_d88be_row5_col3\" class=\"data row5 col3\" >0.020000</td>\n",
              "      <td id=\"T_d88be_row5_col4\" class=\"data row5 col4\" >0.000000</td>\n",
              "      <td id=\"T_d88be_row5_col5\" class=\"data row5 col5\" >0.010000</td>\n",
              "      <td id=\"T_d88be_row5_col6\" class=\"data row5 col6\" >0.170000</td>\n",
              "    </tr>\n",
              "    <tr>\n",
              "      <th id=\"T_d88be_level0_row6\" class=\"row_heading level0 row6\" >75%</th>\n",
              "      <td id=\"T_d88be_row6_col0\" class=\"data row6 col0\" >12449.750000</td>\n",
              "      <td id=\"T_d88be_row6_col1\" class=\"data row6 col1\" >2010.000000</td>\n",
              "      <td id=\"T_d88be_row6_col2\" class=\"data row6 col2\" >0.240000</td>\n",
              "      <td id=\"T_d88be_row6_col3\" class=\"data row6 col3\" >0.110000</td>\n",
              "      <td id=\"T_d88be_row6_col4\" class=\"data row6 col4\" >0.040000</td>\n",
              "      <td id=\"T_d88be_row6_col5\" class=\"data row6 col5\" >0.040000</td>\n",
              "      <td id=\"T_d88be_row6_col6\" class=\"data row6 col6\" >0.470000</td>\n",
              "    </tr>\n",
              "    <tr>\n",
              "      <th id=\"T_d88be_level0_row7\" class=\"row_heading level0 row7\" >max</th>\n",
              "      <td id=\"T_d88be_row7_col0\" class=\"data row7 col0\" >16600.000000</td>\n",
              "      <td id=\"T_d88be_row7_col1\" class=\"data row7 col1\" >2020.000000</td>\n",
              "      <td id=\"T_d88be_row7_col2\" class=\"data row7 col2\" >41.490000</td>\n",
              "      <td id=\"T_d88be_row7_col3\" class=\"data row7 col3\" >29.020000</td>\n",
              "      <td id=\"T_d88be_row7_col4\" class=\"data row7 col4\" >10.220000</td>\n",
              "      <td id=\"T_d88be_row7_col5\" class=\"data row7 col5\" >10.570000</td>\n",
              "      <td id=\"T_d88be_row7_col6\" class=\"data row7 col6\" >82.740000</td>\n",
              "    </tr>\n",
              "  </tbody>\n",
              "</table>\n"
            ]
          },
          "metadata": {},
          "execution_count": 8
        }
      ]
    },
    {
      "cell_type": "markdown",
      "source": [
        "La cantidad de ventas promedio en millones son mayores para Norteamérica indicando que este país es una de las principales fuentes de ingresos para esta industria, sus ventas varian entre 0 y un poco más de 41 millones.\n",
        "\n",
        "Mientras que las ventas con el valor más pequeño de los máximos corresponde a las ventas en Japón."
      ],
      "metadata": {
        "id": "ERsD00XXNuFn"
      }
    },
    {
      "cell_type": "markdown",
      "source": [
        "Podemos ver los datos de las ventas con un poco más de detenimiento al gráficarlos en un diagrama de caja"
      ],
      "metadata": {
        "id": "08AnagFEdbEa"
      }
    },
    {
      "cell_type": "code",
      "source": [
        "df[['NA_Sales', 'EU_Sales', 'JP_Sales',\n",
        "    'Other_Sales', 'Global_Sales']].plot(kind='box',\n",
        "                                         title='Boxplot para las cantidades de ventas');"
      ],
      "metadata": {
        "colab": {
          "base_uri": "https://localhost:8080/",
          "height": 282
        },
        "id": "v3BaK_oLL3Zw",
        "outputId": "576a0df1-5d7c-47ec-cb28-ed1b9901915c"
      },
      "execution_count": 10,
      "outputs": [
        {
          "output_type": "display_data",
          "data": {
            "text/plain": [
              "<Figure size 432x288 with 1 Axes>"
            ],
            "image/png": "[encoded data removed]"
          },
          "metadata": {
            "needs_background": "light"
          }
        }
      ]
    },
    {
      "cell_type": "markdown",
      "source": [
        "Podemos notar que existen datos fuera de lo común, atípicos. (Si deseas conocer más sobre esto, te invito a inscribirte en nuestro [curso](https://drive.google.com/drive/folders/1WsKFzOggXbjBpkKow3tL5n0CJ9b71vMr)*Curso Yurely*)\n",
        "\n",
        "\n",
        "Podemos determinar en qué observación se encuentra. Por ejemplo, para Global Sales, el valor fuera de lo común es para Wii Sports, un juego lanzado el 19 de noviembre de 2006"
      ],
      "metadata": {
        "id": "JINLzlwxWVmQ"
      }
    },
    {
      "cell_type": "code",
      "source": [
        "df.iloc[df.Global_Sales.idxmax()]"
      ],
      "metadata": {
        "colab": {
          "base_uri": "https://localhost:8080/"
        },
        "id": "-lSfYt60b6Tc",
        "outputId": "7062be97-2123-4452-9314-88ed67c11237"
      },
      "execution_count": 11,
      "outputs": [
        {
          "output_type": "execute_result",
          "data": {
            "text/plain": [
              "Rank                     1\n",
              "Name            Wii Sports\n",
              "Platform               Wii\n",
              "Year                2006.0\n",
              "Genre               Sports\n",
              "Publisher         Nintendo\n",
              "NA_Sales             41.49\n",
              "EU_Sales             29.02\n",
              "JP_Sales              3.77\n",
              "Other_Sales           8.46\n",
              "Global_Sales         82.74\n",
              "Name: 0, dtype: object"
            ]
          },
          "metadata": {},
          "execution_count": 11
        }
      ]
    },
    {
      "cell_type": "markdown",
      "source": [
        "Aquí estamos utilizando la función idxmax que devuelve la posición del máximo de los datos seleccionados, este valor lo pasamos al método `iloc` y obtenemos una serie que muestra el nombre de las columnas con los respectivos valores para la posición correspondiente."
      ],
      "metadata": {
        "id": "4uU5aAb-j34E"
      }
    },
    {
      "cell_type": "markdown",
      "source": [
        "Continuemos con las estadísticas para nuestros datos categóricos."
      ],
      "metadata": {
        "id": "VEu2nBn7cQRO"
      }
    },
    {
      "cell_type": "code",
      "source": [
        "df.describe(include='category').style"
      ],
      "metadata": {
        "colab": {
          "base_uri": "https://localhost:8080/",
          "height": 175
        },
        "id": "4bcyq28JOfJn",
        "outputId": "8a924fa2-ae9a-4bca-d042-24985cd39515"
      },
      "execution_count": 16,
      "outputs": [
        {
          "output_type": "execute_result",
          "data": {
            "text/plain": [
              "<pandas.io.formats.style.Styler at 0x7f748cf01950>"
            ],
            "text/html": [
              "<style type=\"text/css\">\n",
              "</style>\n",
              "<table id=\"T_feaa9_\" class=\"dataframe\">\n",
              "  <thead>\n",
              "    <tr>\n",
              "      <th class=\"blank level0\" >&nbsp;</th>\n",
              "      <th class=\"col_heading level0 col0\" >Platform</th>\n",
              "      <th class=\"col_heading level0 col1\" >Genre</th>\n",
              "      <th class=\"col_heading level0 col2\" >Publisher</th>\n",
              "    </tr>\n",
              "  </thead>\n",
              "  <tbody>\n",
              "    <tr>\n",
              "      <th id=\"T_feaa9_level0_row0\" class=\"row_heading level0 row0\" >count</th>\n",
              "      <td id=\"T_feaa9_row0_col0\" class=\"data row0 col0\" >16598</td>\n",
              "      <td id=\"T_feaa9_row0_col1\" class=\"data row0 col1\" >16598</td>\n",
              "      <td id=\"T_feaa9_row0_col2\" class=\"data row0 col2\" >16540</td>\n",
              "    </tr>\n",
              "    <tr>\n",
              "      <th id=\"T_feaa9_level0_row1\" class=\"row_heading level0 row1\" >unique</th>\n",
              "      <td id=\"T_feaa9_row1_col0\" class=\"data row1 col0\" >31</td>\n",
              "      <td id=\"T_feaa9_row1_col1\" class=\"data row1 col1\" >12</td>\n",
              "      <td id=\"T_feaa9_row1_col2\" class=\"data row1 col2\" >578</td>\n",
              "    </tr>\n",
              "    <tr>\n",
              "      <th id=\"T_feaa9_level0_row2\" class=\"row_heading level0 row2\" >top</th>\n",
              "      <td id=\"T_feaa9_row2_col0\" class=\"data row2 col0\" >DS</td>\n",
              "      <td id=\"T_feaa9_row2_col1\" class=\"data row2 col1\" >Action</td>\n",
              "      <td id=\"T_feaa9_row2_col2\" class=\"data row2 col2\" >Electronic Arts</td>\n",
              "    </tr>\n",
              "    <tr>\n",
              "      <th id=\"T_feaa9_level0_row3\" class=\"row_heading level0 row3\" >freq</th>\n",
              "      <td id=\"T_feaa9_row3_col0\" class=\"data row3 col0\" >2163</td>\n",
              "      <td id=\"T_feaa9_row3_col1\" class=\"data row3 col1\" >3316</td>\n",
              "      <td id=\"T_feaa9_row3_col2\" class=\"data row3 col2\" >1351</td>\n",
              "    </tr>\n",
              "  </tbody>\n",
              "</table>\n"
            ]
          },
          "metadata": {},
          "execution_count": 16
        }
      ]
    },
    {
      "cell_type": "markdown",
      "source": [
        "Tenemos que existen 31 plataformas, 12 géneros y 576 editores para los videojuegos.\n",
        "\n",
        "Ahora veamos la cantidad de videojuegos por género. Haremos una agrupación de valores por Género, le aplicaremos la función de conteo y veremos la cantidad de nombres."
      ],
      "metadata": {
        "id": "-l-762PSXv9d"
      }
    },
    {
      "cell_type": "markdown",
      "source": [
        "## Cantidad de videojuegos por género"
      ],
      "metadata": {
        "id": "34mbvXVmEHbO"
      }
    },
    {
      "cell_type": "code",
      "source": [
        "num_genero = df.groupby('Genre').count()[['Name']]\n",
        "num_genero = num_genero.rename(columns={'Name':'Count'})\n",
        "num_genero.style"
      ],
      "metadata": {
        "id": "zdQENJBhoi_Q",
        "colab": {
          "base_uri": "https://localhost:8080/",
          "height": 457
        },
        "outputId": "619da7d1-c66e-430b-91c7-8ac943ab5ced"
      },
      "execution_count": 17,
      "outputs": [
        {
          "output_type": "execute_result",
          "data": {
            "text/plain": [
              "<pandas.io.formats.style.Styler at 0x7f748d3d9cd0>"
            ],
            "text/html": [
              "<style type=\"text/css\">\n",
              "</style>\n",
              "<table id=\"T_33925_\" class=\"dataframe\">\n",
              "  <thead>\n",
              "    <tr>\n",
              "      <th class=\"blank level0\" >&nbsp;</th>\n",
              "      <th class=\"col_heading level0 col0\" >Count</th>\n",
              "    </tr>\n",
              "    <tr>\n",
              "      <th class=\"index_name level0\" >Genre</th>\n",
              "      <th class=\"blank col0\" >&nbsp;</th>\n",
              "    </tr>\n",
              "  </thead>\n",
              "  <tbody>\n",
              "    <tr>\n",
              "      <th id=\"T_33925_level0_row0\" class=\"row_heading level0 row0\" >Action</th>\n",
              "      <td id=\"T_33925_row0_col0\" class=\"data row0 col0\" >3316</td>\n",
              "    </tr>\n",
              "    <tr>\n",
              "      <th id=\"T_33925_level0_row1\" class=\"row_heading level0 row1\" >Adventure</th>\n",
              "      <td id=\"T_33925_row1_col0\" class=\"data row1 col0\" >1286</td>\n",
              "    </tr>\n",
              "    <tr>\n",
              "      <th id=\"T_33925_level0_row2\" class=\"row_heading level0 row2\" >Fighting</th>\n",
              "      <td id=\"T_33925_row2_col0\" class=\"data row2 col0\" >848</td>\n",
              "    </tr>\n",
              "    <tr>\n",
              "      <th id=\"T_33925_level0_row3\" class=\"row_heading level0 row3\" >Misc</th>\n",
              "      <td id=\"T_33925_row3_col0\" class=\"data row3 col0\" >1739</td>\n",
              "    </tr>\n",
              "    <tr>\n",
              "      <th id=\"T_33925_level0_row4\" class=\"row_heading level0 row4\" >Platform</th>\n",
              "      <td id=\"T_33925_row4_col0\" class=\"data row4 col0\" >886</td>\n",
              "    </tr>\n",
              "    <tr>\n",
              "      <th id=\"T_33925_level0_row5\" class=\"row_heading level0 row5\" >Puzzle</th>\n",
              "      <td id=\"T_33925_row5_col0\" class=\"data row5 col0\" >582</td>\n",
              "    </tr>\n",
              "    <tr>\n",
              "      <th id=\"T_33925_level0_row6\" class=\"row_heading level0 row6\" >Racing</th>\n",
              "      <td id=\"T_33925_row6_col0\" class=\"data row6 col0\" >1249</td>\n",
              "    </tr>\n",
              "    <tr>\n",
              "      <th id=\"T_33925_level0_row7\" class=\"row_heading level0 row7\" >Role-Playing</th>\n",
              "      <td id=\"T_33925_row7_col0\" class=\"data row7 col0\" >1488</td>\n",
              "    </tr>\n",
              "    <tr>\n",
              "      <th id=\"T_33925_level0_row8\" class=\"row_heading level0 row8\" >Shooter</th>\n",
              "      <td id=\"T_33925_row8_col0\" class=\"data row8 col0\" >1310</td>\n",
              "    </tr>\n",
              "    <tr>\n",
              "      <th id=\"T_33925_level0_row9\" class=\"row_heading level0 row9\" >Simulation</th>\n",
              "      <td id=\"T_33925_row9_col0\" class=\"data row9 col0\" >867</td>\n",
              "    </tr>\n",
              "    <tr>\n",
              "      <th id=\"T_33925_level0_row10\" class=\"row_heading level0 row10\" >Sports</th>\n",
              "      <td id=\"T_33925_row10_col0\" class=\"data row10 col0\" >2346</td>\n",
              "    </tr>\n",
              "    <tr>\n",
              "      <th id=\"T_33925_level0_row11\" class=\"row_heading level0 row11\" >Strategy</th>\n",
              "      <td id=\"T_33925_row11_col0\" class=\"data row11 col0\" >681</td>\n",
              "    </tr>\n",
              "  </tbody>\n",
              "</table>\n"
            ]
          },
          "metadata": {},
          "execution_count": 17
        }
      ]
    },
    {
      "cell_type": "markdown",
      "source": [
        "Podemos notar que el género con más cantidad de nombres distintos es Acción. El que menos tiene es puzzle.\n",
        "\n",
        "Veamos si las ventas por género corresponden a estos números o actuan de forma diferente, haremos un gráfico pero antes debemos crear una tabla que contenga el género y la suma de las ventas para cada caso."
      ],
      "metadata": {
        "id": "tLgpX70Z42bv"
      }
    },
    {
      "cell_type": "markdown",
      "source": [
        "# Total de ventas en todo el mundo por género"
      ],
      "metadata": {
        "id": "jCOzHs2kPL0y"
      }
    },
    {
      "cell_type": "code",
      "source": [
        "total_genero = df.pivot_table(index='Genre', aggfunc={'Global_Sales':sum})\n",
        "total_genero.style"
      ],
      "metadata": {
        "colab": {
          "base_uri": "https://localhost:8080/",
          "height": 457
        },
        "id": "p7sKsAvVPMsm",
        "outputId": "cd5f0e45-2575-48ba-9fb7-a10c30ba7958"
      },
      "execution_count": 18,
      "outputs": [
        {
          "output_type": "execute_result",
          "data": {
            "text/plain": [
              "<pandas.io.formats.style.Styler at 0x7f748d4f1cd0>"
            ],
            "text/html": [
              "<style type=\"text/css\">\n",
              "</style>\n",
              "<table id=\"T_a6c58_\" class=\"dataframe\">\n",
              "  <thead>\n",
              "    <tr>\n",
              "      <th class=\"blank level0\" >&nbsp;</th>\n",
              "      <th class=\"col_heading level0 col0\" >Global_Sales</th>\n",
              "    </tr>\n",
              "    <tr>\n",
              "      <th class=\"index_name level0\" >Genre</th>\n",
              "      <th class=\"blank col0\" >&nbsp;</th>\n",
              "    </tr>\n",
              "  </thead>\n",
              "  <tbody>\n",
              "    <tr>\n",
              "      <th id=\"T_a6c58_level0_row0\" class=\"row_heading level0 row0\" >Action</th>\n",
              "      <td id=\"T_a6c58_row0_col0\" class=\"data row0 col0\" >1751.180000</td>\n",
              "    </tr>\n",
              "    <tr>\n",
              "      <th id=\"T_a6c58_level0_row1\" class=\"row_heading level0 row1\" >Adventure</th>\n",
              "      <td id=\"T_a6c58_row1_col0\" class=\"data row1 col0\" >239.040000</td>\n",
              "    </tr>\n",
              "    <tr>\n",
              "      <th id=\"T_a6c58_level0_row2\" class=\"row_heading level0 row2\" >Fighting</th>\n",
              "      <td id=\"T_a6c58_row2_col0\" class=\"data row2 col0\" >448.910000</td>\n",
              "    </tr>\n",
              "    <tr>\n",
              "      <th id=\"T_a6c58_level0_row3\" class=\"row_heading level0 row3\" >Misc</th>\n",
              "      <td id=\"T_a6c58_row3_col0\" class=\"data row3 col0\" >809.960000</td>\n",
              "    </tr>\n",
              "    <tr>\n",
              "      <th id=\"T_a6c58_level0_row4\" class=\"row_heading level0 row4\" >Platform</th>\n",
              "      <td id=\"T_a6c58_row4_col0\" class=\"data row4 col0\" >831.370000</td>\n",
              "    </tr>\n",
              "    <tr>\n",
              "      <th id=\"T_a6c58_level0_row5\" class=\"row_heading level0 row5\" >Puzzle</th>\n",
              "      <td id=\"T_a6c58_row5_col0\" class=\"data row5 col0\" >244.950000</td>\n",
              "    </tr>\n",
              "    <tr>\n",
              "      <th id=\"T_a6c58_level0_row6\" class=\"row_heading level0 row6\" >Racing</th>\n",
              "      <td id=\"T_a6c58_row6_col0\" class=\"data row6 col0\" >732.040000</td>\n",
              "    </tr>\n",
              "    <tr>\n",
              "      <th id=\"T_a6c58_level0_row7\" class=\"row_heading level0 row7\" >Role-Playing</th>\n",
              "      <td id=\"T_a6c58_row7_col0\" class=\"data row7 col0\" >927.370000</td>\n",
              "    </tr>\n",
              "    <tr>\n",
              "      <th id=\"T_a6c58_level0_row8\" class=\"row_heading level0 row8\" >Shooter</th>\n",
              "      <td id=\"T_a6c58_row8_col0\" class=\"data row8 col0\" >1037.370000</td>\n",
              "    </tr>\n",
              "    <tr>\n",
              "      <th id=\"T_a6c58_level0_row9\" class=\"row_heading level0 row9\" >Simulation</th>\n",
              "      <td id=\"T_a6c58_row9_col0\" class=\"data row9 col0\" >392.200000</td>\n",
              "    </tr>\n",
              "    <tr>\n",
              "      <th id=\"T_a6c58_level0_row10\" class=\"row_heading level0 row10\" >Sports</th>\n",
              "      <td id=\"T_a6c58_row10_col0\" class=\"data row10 col0\" >1330.930000</td>\n",
              "    </tr>\n",
              "    <tr>\n",
              "      <th id=\"T_a6c58_level0_row11\" class=\"row_heading level0 row11\" >Strategy</th>\n",
              "      <td id=\"T_a6c58_row11_col0\" class=\"data row11 col0\" >175.120000</td>\n",
              "    </tr>\n",
              "  </tbody>\n",
              "</table>\n"
            ]
          },
          "metadata": {},
          "execution_count": 18
        }
      ]
    },
    {
      "cell_type": "code",
      "source": [
        "total_genero.plot(kind='barh', title='Ventas globales por género');"
      ],
      "metadata": {
        "colab": {
          "base_uri": "https://localhost:8080/",
          "height": 281
        },
        "id": "X4ISlEqwdXv4",
        "outputId": "6eb8c800-6548-4ef0-efa5-c823de7c61fa"
      },
      "execution_count": null,
      "outputs": [
        {
          "output_type": "display_data",
          "data": {
            "text/plain": [
              "<Figure size 432x288 with 1 Axes>"
            ],
            "image/png": "[encoded data removed]"
          },
          "metadata": {
            "needs_background": "light"
          }
        }
      ]
    },
    {
      "cell_type": "markdown",
      "source": [
        "La mayor cantidad de videojuegos vendidos corresponden a los géneros de acción y deportes."
      ],
      "metadata": {
        "id": "aWqgBfsoQlGR"
      }
    },
    {
      "cell_type": "markdown",
      "source": [
        "Ahora, ¿cómo podemos observar el comportamiento entre la cantidad de ventas globales y la cantidad de videojuegos?\n",
        "\n",
        "Tenemos los DataFrames que creamos, num_genero y total_genero, vamos a unirlos y luego crearemos un diagrama de dispersión mediante el cual observaremos cómo varia la cantidad de ventas a partir de la cantidad de videojuegos por género."
      ],
      "metadata": {
        "id": "FGT660Cm521e"
      }
    },
    {
      "cell_type": "code",
      "source": [
        "ventas_cantidad = num_genero.merge(total_genero,left_on='Genre', right_on='Genre')\n",
        "\n",
        "ventas_cantidad.plot(kind='scatter', x='Count', y='Global_Sales',\n",
        "                     title='Ventas globales vs cantidad de videojuegos');"
      ],
      "metadata": {
        "id": "gouHA0-z6MSY",
        "colab": {
          "base_uri": "https://localhost:8080/",
          "height": 295
        },
        "outputId": "2ac4e63d-a0fb-4d0c-b379-f144aa51bdb7"
      },
      "execution_count": null,
      "outputs": [
        {
          "output_type": "display_data",
          "data": {
            "text/plain": [
              "<Figure size 432x288 with 1 Axes>"
            ],
            "image/png": "[encoded data removed]"
          },
          "metadata": {
            "needs_background": "light"
          }
        }
      ]
    },
    {
      "cell_type": "markdown",
      "source": [
        "De este gráfico podemos notar que las ventas si pueden variar de acuerdo a las cantidades de videojuegos que se creen."
      ],
      "metadata": {
        "id": "f_UfkNW4L3P3"
      }
    },
    {
      "cell_type": "markdown",
      "source": [
        "Ahora, ¿en qué años se vendieron más videojuegos?"
      ],
      "metadata": {
        "id": "M0pcI2Jshlb6"
      }
    },
    {
      "cell_type": "markdown",
      "source": [
        "## Cantidad de Ventas por años en todo el mundo\n",
        "\n",
        "Para calcular esta cantidad y visualizarla en el gráfico, primero debemos hacer una tabla pivote donde nuestro índice sean los años y los valores correspondan a las ventas en esos años en todo el mundo es decir, las ventas globales."
      ],
      "metadata": {
        "id": "NzKQnPcXJnNn"
      }
    },
    {
      "cell_type": "code",
      "source": [
        "table_year = df.pivot_table(index='Year', values='Global_Sales', \n",
        "                            aggfunc={'Global_Sales':sum})\n",
        "table_year"
      ],
      "metadata": {
        "colab": {
          "base_uri": "https://localhost:8080/",
          "height": 1000
        },
        "id": "qadzE6oO8Wmq",
        "outputId": "3edb35b0-bcc4-4bf8-c4a7-bd6e5374810b"
      },
      "execution_count": null,
      "outputs": [
        {
          "output_type": "execute_result",
          "data": {
            "text/plain": [
              "            Global_Sales\n",
              "Year                    \n",
              "1980-01-01         11.38\n",
              "1981-01-01         35.77\n",
              "1982-01-01         28.86\n",
              "1983-01-01         16.79\n",
              "1984-01-01         50.36\n",
              "1985-01-01         53.94\n",
              "1986-01-01         37.07\n",
              "1987-01-01         21.74\n",
              "1988-01-01         47.22\n",
              "1989-01-01         73.45\n",
              "1990-01-01         49.39\n",
              "1991-01-01         32.23\n",
              "1992-01-01         76.16\n",
              "1993-01-01         45.98\n",
              "1994-01-01         79.17\n",
              "1995-01-01         88.11\n",
              "1996-01-01        199.15\n",
              "1997-01-01        200.98\n",
              "1998-01-01        256.47\n",
              "1999-01-01        251.27\n",
              "2000-01-01        201.56\n",
              "2001-01-01        331.47\n",
              "2002-01-01        395.52\n",
              "2003-01-01        357.85\n",
              "2004-01-01        414.01\n",
              "2005-01-01        458.51\n",
              "2006-01-01        521.04\n",
              "2007-01-01        609.92\n",
              "2008-01-01        678.90\n",
              "2009-01-01        667.30\n",
              "2010-01-01        600.29\n",
              "2011-01-01        515.80\n",
              "2012-01-01        363.49\n",
              "2013-01-01        368.11\n",
              "2014-01-01        337.03\n",
              "2015-01-01        264.44\n",
              "2016-01-01         70.90\n",
              "2017-01-01          0.05\n",
              "2020-01-01          0.29"
            ],
            "text/html": [
              "\n",
              "  <div id=\"df-9401be22-17f0-4fb3-8bd8-5f63dd984558\">\n",
              "    <div class=\"colab-df-container\">\n",
              "      <div>\n",
              "<style scoped>\n",
              "    .dataframe tbody tr th:only-of-type {\n",
              "        vertical-align: middle;\n",
              "    }\n",
              "\n",
              "    .dataframe tbody tr th {\n",
              "        vertical-align: top;\n",
              "    }\n",
              "\n",
              "    .dataframe thead th {\n",
              "        text-align: right;\n",
              "    }\n",
              "</style>\n",
              "<table border=\"1\" class=\"dataframe\">\n",
              "  <thead>\n",
              "    <tr style=\"text-align: right;\">\n",
              "      <th></th>\n",
              "      <th>Global_Sales</th>\n",
              "    </tr>\n",
              "    <tr>\n",
              "      <th>Year</th>\n",
              "      <th></th>\n",
              "    </tr>\n",
              "  </thead>\n",
              "  <tbody>\n",
              "    <tr>\n",
              "      <th>1980-01-01</th>\n",
              "      <td>11.38</td>\n",
              "    </tr>\n",
              "    <tr>\n",
              "      <th>1981-01-01</th>\n",
              "      <td>35.77</td>\n",
              "    </tr>\n",
              "    <tr>\n",
              "      <th>1982-01-01</th>\n",
              "      <td>28.86</td>\n",
              "    </tr>\n",
              "    <tr>\n",
              "      <th>1983-01-01</th>\n",
              "      <td>16.79</td>\n",
              "    </tr>\n",
              "    <tr>\n",
              "      <th>1984-01-01</th>\n",
              "      <td>50.36</td>\n",
              "    </tr>\n",
              "    <tr>\n",
              "      <th>1985-01-01</th>\n",
              "      <td>53.94</td>\n",
              "    </tr>\n",
              "    <tr>\n",
              "      <th>1986-01-01</th>\n",
              "      <td>37.07</td>\n",
              "    </tr>\n",
              "    <tr>\n",
              "      <th>1987-01-01</th>\n",
              "      <td>21.74</td>\n",
              "    </tr>\n",
              "    <tr>\n",
              "      <th>1988-01-01</th>\n",
              "      <td>47.22</td>\n",
              "    </tr>\n",
              "    <tr>\n",
              "      <th>1989-01-01</th>\n",
              "      <td>73.45</td>\n",
              "    </tr>\n",
              "    <tr>\n",
              "      <th>1990-01-01</th>\n",
              "      <td>49.39</td>\n",
              "    </tr>\n",
              "    <tr>\n",
              "      <th>1991-01-01</th>\n",
              "      <td>32.23</td>\n",
              "    </tr>\n",
              "    <tr>\n",
              "      <th>1992-01-01</th>\n",
              "      <td>76.16</td>\n",
              "    </tr>\n",
              "    <tr>\n",
              "      <th>1993-01-01</th>\n",
              "      <td>45.98</td>\n",
              "    </tr>\n",
              "    <tr>\n",
              "      <th>1994-01-01</th>\n",
              "      <td>79.17</td>\n",
              "    </tr>\n",
              "    <tr>\n",
              "      <th>1995-01-01</th>\n",
              "      <td>88.11</td>\n",
              "    </tr>\n",
              "    <tr>\n",
              "      <th>1996-01-01</th>\n",
              "      <td>199.15</td>\n",
              "    </tr>\n",
              "    <tr>\n",
              "      <th>1997-01-01</th>\n",
              "      <td>200.98</td>\n",
              "    </tr>\n",
              "    <tr>\n",
              "      <th>1998-01-01</th>\n",
              "      <td>256.47</td>\n",
              "    </tr>\n",
              "    <tr>\n",
              "      <th>1999-01-01</th>\n",
              "      <td>251.27</td>\n",
              "    </tr>\n",
              "    <tr>\n",
              "      <th>2000-01-01</th>\n",
              "      <td>201.56</td>\n",
              "    </tr>\n",
              "    <tr>\n",
              "      <th>2001-01-01</th>\n",
              "      <td>331.47</td>\n",
              "    </tr>\n",
              "    <tr>\n",
              "      <th>2002-01-01</th>\n",
              "      <td>395.52</td>\n",
              "    </tr>\n",
              "    <tr>\n",
              "      <th>2003-01-01</th>\n",
              "      <td>357.85</td>\n",
              "    </tr>\n",
              "    <tr>\n",
              "      <th>2004-01-01</th>\n",
              "      <td>414.01</td>\n",
              "    </tr>\n",
              "    <tr>\n",
              "      <th>2005-01-01</th>\n",
              "      <td>458.51</td>\n",
              "    </tr>\n",
              "    <tr>\n",
              "      <th>2006-01-01</th>\n",
              "      <td>521.04</td>\n",
              "    </tr>\n",
              "    <tr>\n",
              "      <th>2007-01-01</th>\n",
              "      <td>609.92</td>\n",
              "    </tr>\n",
              "    <tr>\n",
              "      <th>2008-01-01</th>\n",
              "      <td>678.90</td>\n",
              "    </tr>\n",
              "    <tr>\n",
              "      <th>2009-01-01</th>\n",
              "      <td>667.30</td>\n",
              "    </tr>\n",
              "    <tr>\n",
              "      <th>2010-01-01</th>\n",
              "      <td>600.29</td>\n",
              "    </tr>\n",
              "    <tr>\n",
              "      <th>2011-01-01</th>\n",
              "      <td>515.80</td>\n",
              "    </tr>\n",
              "    <tr>\n",
              "      <th>2012-01-01</th>\n",
              "      <td>363.49</td>\n",
              "    </tr>\n",
              "    <tr>\n",
              "      <th>2013-01-01</th>\n",
              "      <td>368.11</td>\n",
              "    </tr>\n",
              "    <tr>\n",
              "      <th>2014-01-01</th>\n",
              "      <td>337.03</td>\n",
              "    </tr>\n",
              "    <tr>\n",
              "      <th>2015-01-01</th>\n",
              "      <td>264.44</td>\n",
              "    </tr>\n",
              "    <tr>\n",
              "      <th>2016-01-01</th>\n",
              "      <td>70.90</td>\n",
              "    </tr>\n",
              "    <tr>\n",
              "      <th>2017-01-01</th>\n",
              "      <td>0.05</td>\n",
              "    </tr>\n",
              "    <tr>\n",
              "      <th>2020-01-01</th>\n",
              "      <td>0.29</td>\n",
              "    </tr>\n",
              "  </tbody>\n",
              "</table>\n",
              "</div>\n",
              "      <button class=\"colab-df-convert\" onclick=\"convertToInteractive('df-9401be22-17f0-4fb3-8bd8-5f63dd984558')\"\n",
              "              title=\"Convert this dataframe to an interactive table.\"\n",
              "              style=\"display:none;\">\n",
              "        \n",
              "  <svg xmlns=\"http://www.w3.org/2000/svg\" height=\"24px\"viewBox=\"0 0 24 24\"\n",
              "       width=\"24px\">\n",
              "    <path d=\"M0 0h24v24H0V0z\" fill=\"none\"/>\n",
              "    <path d=\"M18.56 5.44l.94 2.06.94-2.06 2.06-.94-2.06-.94-.94-2.06-.94 2.06-2.06.94zm-11 1L8.5 8.5l.94-2.06 2.06-.94-2.06-.94L8.5 2.5l-.94 2.06-2.06.94zm10 10l.94 2.06.94-2.06 2.06-.94-2.06-.94-.94-2.06-.94 2.06-2.06.94z\"/><path d=\"M17.41 7.96l-1.37-1.37c-.4-.4-.92-.59-1.43-.59-.52 0-1.04.2-1.43.59L10.3 9.45l-7.72 7.72c-.78.78-.78 2.05 0 2.83L4 21.41c.39.39.9.59 1.41.59.51 0 1.02-.2 1.41-.59l7.78-7.78 2.81-2.81c.8-.78.8-2.07 0-2.86zM5.41 20L4 18.59l7.72-7.72 1.47 1.35L5.41 20z\"/>\n",
              "  </svg>\n",
              "      </button>\n",
              "      \n",
              "  <style>\n",
              "    .colab-df-container {\n",
              "      display:flex;\n",
              "      flex-wrap:wrap;\n",
              "      gap: 12px;\n",
              "    }\n",
              "\n",
              "    .colab-df-convert {\n",
              "      background-color: #E8F0FE;\n",
              "      border: none;\n",
              "      border-radius: 50%;\n",
              "      cursor: pointer;\n",
              "      display: none;\n",
              "      fill: #1967D2;\n",
              "      height: 32px;\n",
              "      padding: 0 0 0 0;\n",
              "      width: 32px;\n",
              "    }\n",
              "\n",
              "    .colab-df-convert:hover {\n",
              "      background-color: #E2EBFA;\n",
              "      box-shadow: 0px 1px 2px rgba(60, 64, 67, 0.3), 0px 1px 3px 1px rgba(60, 64, 67, 0.15);\n",
              "      fill: #174EA6;\n",
              "    }\n",
              "\n",
              "    [theme=dark] .colab-df-convert {\n",
              "      background-color: #3B4455;\n",
              "      fill: #D2E3FC;\n",
              "    }\n",
              "\n",
              "    [theme=dark] .colab-df-convert:hover {\n",
              "      background-color: #434B5C;\n",
              "      box-shadow: 0px 1px 3px 1px rgba(0, 0, 0, 0.15);\n",
              "      filter: drop-shadow(0px 1px 2px rgba(0, 0, 0, 0.3));\n",
              "      fill: #FFFFFF;\n",
              "    }\n",
              "  </style>\n",
              "\n",
              "      <script>\n",
              "        const buttonEl =\n",
              "          document.querySelector('#df-9401be22-17f0-4fb3-8bd8-5f63dd984558 button.colab-df-convert');\n",
              "        buttonEl.style.display =\n",
              "          google.colab.kernel.accessAllowed ? 'block' : 'none';\n",
              "\n",
              "        async function convertToInteractive(key) {\n",
              "          const element = document.querySelector('#df-9401be22-17f0-4fb3-8bd8-5f63dd984558');\n",
              "          const dataTable =\n",
              "            await google.colab.kernel.invokeFunction('convertToInteractive',\n",
              "                                                     [key], {});\n",
              "          if (!dataTable) return;\n",
              "\n",
              "          const docLinkHtml = 'Like what you see? Visit the ' +\n",
              "            '<a target=\"_blank\" href=https://colab.research.google.com/notebooks/data_table.ipynb>data table notebook</a>'\n",
              "            + ' to learn more about interactive tables.';\n",
              "          element.innerHTML = '';\n",
              "          dataTable['output_type'] = 'display_data';\n",
              "          await google.colab.output.renderOutput(dataTable, element);\n",
              "          const docLink = document.createElement('div');\n",
              "          docLink.innerHTML = docLinkHtml;\n",
              "          element.appendChild(docLink);\n",
              "        }\n",
              "      </script>\n",
              "    </div>\n",
              "  </div>\n",
              "  "
            ]
          },
          "metadata": {},
          "execution_count": 19
        }
      ]
    },
    {
      "cell_type": "markdown",
      "source": [
        "Esto mismo pero ahora de forma gráfica"
      ],
      "metadata": {
        "id": "01LnyMxzM2aQ"
      }
    },
    {
      "cell_type": "code",
      "source": [
        "table_year.plot(title='Ventas globales por año');"
      ],
      "metadata": {
        "colab": {
          "base_uri": "https://localhost:8080/",
          "height": 285
        },
        "id": "r0wj_sXSMnON",
        "outputId": "7e227127-03b1-4200-884a-bf35f2ae9ad5"
      },
      "execution_count": null,
      "outputs": [
        {
          "output_type": "display_data",
          "data": {
            "text/plain": [
              "<Figure size 432x288 with 1 Axes>"
            ],
            "image/png": "[encoded data removed]"
          },
          "metadata": {
            "needs_background": "light"
          }
        }
      ]
    },
    {
      "cell_type": "markdown",
      "source": [
        "Aquí notamos que existe un valor bastante pronunciado, te puedes preguntar cómo determinamos con exactitud ese valor sin mirar con detenimiento la tabla.\n",
        "\n",
        "Podemos utilizar nuevamente `idxmax`, recordemos nos devuelve la posición del máximo de los datos seleccionados o, como en este caso, el índice."
      ],
      "metadata": {
        "id": "3b_L_GXiM8GV"
      }
    },
    {
      "cell_type": "code",
      "source": [
        "table_year.idxmax()"
      ],
      "metadata": {
        "colab": {
          "base_uri": "https://localhost:8080/"
        },
        "id": "-zPhR5zZPUg2",
        "outputId": "5d7f1501-f952-4d34-92d2-32e14ae5e316"
      },
      "execution_count": null,
      "outputs": [
        {
          "output_type": "execute_result",
          "data": {
            "text/plain": [
              "Global_Sales   2008-01-01\n",
              "dtype: datetime64[ns]"
            ]
          },
          "metadata": {},
          "execution_count": 21
        }
      ]
    },
    {
      "cell_type": "markdown",
      "source": [
        "Observamos que para 2008 hubo la mayor cantidad de ventas."
      ],
      "metadata": {
        "id": "gaWYPIGQ8sQB"
      }
    },
    {
      "cell_type": "markdown",
      "source": [
        "Estudiemos este año creando una consulta y luego veamos la cantidad de videojuegos lanzados al mercado por género."
      ],
      "metadata": {
        "id": "_YDISoJHONk8"
      }
    },
    {
      "cell_type": "code",
      "source": [
        "datos2008 = df.query('Year == 2008')\n",
        "datos2008.groupby('Genre').count()[['Name']].sort_values(by='Name', ascending=False)"
      ],
      "metadata": {
        "colab": {
          "base_uri": "https://localhost:8080/",
          "height": 457
        },
        "id": "jGNeZz6R86xh",
        "outputId": "25053ad6-3767-48c0-c670-64fc3222bd74"
      },
      "execution_count": null,
      "outputs": [
        {
          "output_type": "execute_result",
          "data": {
            "text/plain": [
              "              Name\n",
              "Genre             \n",
              "Action         221\n",
              "Misc           212\n",
              "Sports         200\n",
              "Adventure      166\n",
              "Simulation     119\n",
              "Role-Playing   112\n",
              "Shooter         83\n",
              "Racing          82\n",
              "Puzzle          64\n",
              "Platform        62\n",
              "Fighting        57\n",
              "Strategy        50"
            ],
            "text/html": [
              "\n",
              "  <div id=\"df-9af2d06f-d3e3-4b29-bf0e-8ad23f719d12\">\n",
              "    <div class=\"colab-df-container\">\n",
              "      <div>\n",
              "<style scoped>\n",
              "    .dataframe tbody tr th:only-of-type {\n",
              "        vertical-align: middle;\n",
              "    }\n",
              "\n",
              "    .dataframe tbody tr th {\n",
              "        vertical-align: top;\n",
              "    }\n",
              "\n",
              "    .dataframe thead th {\n",
              "        text-align: right;\n",
              "    }\n",
              "</style>\n",
              "<table border=\"1\" class=\"dataframe\">\n",
              "  <thead>\n",
              "    <tr style=\"text-align: right;\">\n",
              "      <th></th>\n",
              "      <th>Name</th>\n",
              "    </tr>\n",
              "    <tr>\n",
              "      <th>Genre</th>\n",
              "      <th></th>\n",
              "    </tr>\n",
              "  </thead>\n",
              "  <tbody>\n",
              "    <tr>\n",
              "      <th>Action</th>\n",
              "      <td>221</td>\n",
              "    </tr>\n",
              "    <tr>\n",
              "      <th>Misc</th>\n",
              "      <td>212</td>\n",
              "    </tr>\n",
              "    <tr>\n",
              "      <th>Sports</th>\n",
              "      <td>200</td>\n",
              "    </tr>\n",
              "    <tr>\n",
              "      <th>Adventure</th>\n",
              "      <td>166</td>\n",
              "    </tr>\n",
              "    <tr>\n",
              "      <th>Simulation</th>\n",
              "      <td>119</td>\n",
              "    </tr>\n",
              "    <tr>\n",
              "      <th>Role-Playing</th>\n",
              "      <td>112</td>\n",
              "    </tr>\n",
              "    <tr>\n",
              "      <th>Shooter</th>\n",
              "      <td>83</td>\n",
              "    </tr>\n",
              "    <tr>\n",
              "      <th>Racing</th>\n",
              "      <td>82</td>\n",
              "    </tr>\n",
              "    <tr>\n",
              "      <th>Puzzle</th>\n",
              "      <td>64</td>\n",
              "    </tr>\n",
              "    <tr>\n",
              "      <th>Platform</th>\n",
              "      <td>62</td>\n",
              "    </tr>\n",
              "    <tr>\n",
              "      <th>Fighting</th>\n",
              "      <td>57</td>\n",
              "    </tr>\n",
              "    <tr>\n",
              "      <th>Strategy</th>\n",
              "      <td>50</td>\n",
              "    </tr>\n",
              "  </tbody>\n",
              "</table>\n",
              "</div>\n",
              "      <button class=\"colab-df-convert\" onclick=\"convertToInteractive('df-9af2d06f-d3e3-4b29-bf0e-8ad23f719d12')\"\n",
              "              title=\"Convert this dataframe to an interactive table.\"\n",
              "              style=\"display:none;\">\n",
              "        \n",
              "  <svg xmlns=\"http://www.w3.org/2000/svg\" height=\"24px\"viewBox=\"0 0 24 24\"\n",
              "       width=\"24px\">\n",
              "    <path d=\"M0 0h24v24H0V0z\" fill=\"none\"/>\n",
              "    <path d=\"M18.56 5.44l.94 2.06.94-2.06 2.06-.94-2.06-.94-.94-2.06-.94 2.06-2.06.94zm-11 1L8.5 8.5l.94-2.06 2.06-.94-2.06-.94L8.5 2.5l-.94 2.06-2.06.94zm10 10l.94 2.06.94-2.06 2.06-.94-2.06-.94-.94-2.06-.94 2.06-2.06.94z\"/><path d=\"M17.41 7.96l-1.37-1.37c-.4-.4-.92-.59-1.43-.59-.52 0-1.04.2-1.43.59L10.3 9.45l-7.72 7.72c-.78.78-.78 2.05 0 2.83L4 21.41c.39.39.9.59 1.41.59.51 0 1.02-.2 1.41-.59l7.78-7.78 2.81-2.81c.8-.78.8-2.07 0-2.86zM5.41 20L4 18.59l7.72-7.72 1.47 1.35L5.41 20z\"/>\n",
              "  </svg>\n",
              "      </button>\n",
              "      \n",
              "  <style>\n",
              "    .colab-df-container {\n",
              "      display:flex;\n",
              "      flex-wrap:wrap;\n",
              "      gap: 12px;\n",
              "    }\n",
              "\n",
              "    .colab-df-convert {\n",
              "      background-color: #E8F0FE;\n",
              "      border: none;\n",
              "      border-radius: 50%;\n",
              "      cursor: pointer;\n",
              "      display: none;\n",
              "      fill: #1967D2;\n",
              "      height: 32px;\n",
              "      padding: 0 0 0 0;\n",
              "      width: 32px;\n",
              "    }\n",
              "\n",
              "    .colab-df-convert:hover {\n",
              "      background-color: #E2EBFA;\n",
              "      box-shadow: 0px 1px 2px rgba(60, 64, 67, 0.3), 0px 1px 3px 1px rgba(60, 64, 67, 0.15);\n",
              "      fill: #174EA6;\n",
              "    }\n",
              "\n",
              "    [theme=dark] .colab-df-convert {\n",
              "      background-color: #3B4455;\n",
              "      fill: #D2E3FC;\n",
              "    }\n",
              "\n",
              "    [theme=dark] .colab-df-convert:hover {\n",
              "      background-color: #434B5C;\n",
              "      box-shadow: 0px 1px 3px 1px rgba(0, 0, 0, 0.15);\n",
              "      filter: drop-shadow(0px 1px 2px rgba(0, 0, 0, 0.3));\n",
              "      fill: #FFFFFF;\n",
              "    }\n",
              "  </style>\n",
              "\n",
              "      <script>\n",
              "        const buttonEl =\n",
              "          document.querySelector('#df-9af2d06f-d3e3-4b29-bf0e-8ad23f719d12 button.colab-df-convert');\n",
              "        buttonEl.style.display =\n",
              "          google.colab.kernel.accessAllowed ? 'block' : 'none';\n",
              "\n",
              "        async function convertToInteractive(key) {\n",
              "          const element = document.querySelector('#df-9af2d06f-d3e3-4b29-bf0e-8ad23f719d12');\n",
              "          const dataTable =\n",
              "            await google.colab.kernel.invokeFunction('convertToInteractive',\n",
              "                                                     [key], {});\n",
              "          if (!dataTable) return;\n",
              "\n",
              "          const docLinkHtml = 'Like what you see? Visit the ' +\n",
              "            '<a target=\"_blank\" href=https://colab.research.google.com/notebooks/data_table.ipynb>data table notebook</a>'\n",
              "            + ' to learn more about interactive tables.';\n",
              "          element.innerHTML = '';\n",
              "          dataTable['output_type'] = 'display_data';\n",
              "          await google.colab.output.renderOutput(dataTable, element);\n",
              "          const docLink = document.createElement('div');\n",
              "          docLink.innerHTML = docLinkHtml;\n",
              "          element.appendChild(docLink);\n",
              "        }\n",
              "      </script>\n",
              "    </div>\n",
              "  </div>\n",
              "  "
            ]
          },
          "metadata": {},
          "execution_count": 22
        }
      ]
    },
    {
      "cell_type": "markdown",
      "source": [
        "La mayor cantidad de videojuegos vendidos en 2008 correspondió al género de acción."
      ],
      "metadata": {
        "id": "EbZ53hzo-Wh2"
      }
    },
    {
      "cell_type": "markdown",
      "source": [
        "💡 Si colocas el nombre de la variable entre corchetes obtedremos una serie pero si lo colocamos dentro de dos pares de corchetes (`[['nombre_variable']]`) se obtendrá un DataFrame."
      ],
      "metadata": {
        "id": "AiQmwy-K9XZi"
      }
    },
    {
      "cell_type": "markdown",
      "source": [
        "Ahora pasemos a revisar la cantidad de ventas por regiones."
      ],
      "metadata": {
        "id": "x9_0VsXvd8TE"
      }
    },
    {
      "cell_type": "markdown",
      "source": [
        "## Cantidad de ventas por regiones"
      ],
      "metadata": {
        "id": "Mx1AcrIs-uJO"
      }
    },
    {
      "cell_type": "markdown",
      "source": [
        "Para este caso podemos acceder a las columnas correspondientes y sumar sus valores para obtener el resultado de la venta total por regiones."
      ],
      "metadata": {
        "id": "Qj8rVtfY6niw"
      }
    },
    {
      "cell_type": "code",
      "source": [
        "regiones = df[['NA_Sales', 'EU_Sales', 'JP_Sales', 'Other_Sales']]"
      ],
      "metadata": {
        "id": "MbBn1w5h63O7"
      },
      "execution_count": null,
      "outputs": []
    },
    {
      "cell_type": "code",
      "source": [
        "regiones.sum().plot(kind='bar', title='Cantidad de Ventas por regiones');"
      ],
      "metadata": {
        "colab": {
          "base_uri": "https://localhost:8080/",
          "height": 331
        },
        "id": "vG9IPZSjPkDL",
        "outputId": "acccaca7-11aa-4f66-bf91-05d9fd8dd286"
      },
      "execution_count": null,
      "outputs": [
        {
          "output_type": "display_data",
          "data": {
            "text/plain": [
              "<Figure size 432x288 with 1 Axes>"
            ],
            "image/png": "[encoded data removed]"
          },
          "metadata": {
            "needs_background": "light"
          }
        }
      ]
    },
    {
      "cell_type": "markdown",
      "source": [
        "#### ¿Cómo han sido las ventas por regiones a lo largo de los años?\n",
        "\n",
        "Para conocer esto vamos a realizar una tabla pivote, esta tabla debe tener los años en el índice y para cada una de las regiones se debe tener la cantidad de ventas en millones (sumar las ventas que corresponden)."
      ],
      "metadata": {
        "id": "rcTK5-xS-zQ8"
      }
    },
    {
      "cell_type": "code",
      "source": [
        "regiones_year = df.pivot_table(index='Year',\n",
        "                               values=['NA_Sales', 'EU_Sales', 'JP_Sales', 'Other_Sales'],\n",
        "                               aggfunc={'NA_Sales':sum, 'EU_Sales':sum,\n",
        "                                        'JP_Sales':sum, 'Other_Sales':sum}\n",
        "                               )\n",
        "regiones_year.plot(title='Ventas por regiones');"
      ],
      "metadata": {
        "colab": {
          "base_uri": "https://localhost:8080/",
          "height": 285
        },
        "id": "IHMe5R2Ns5mE",
        "outputId": "44ce5807-a881-4aaa-e568-9ec0a9535af3"
      },
      "execution_count": null,
      "outputs": [
        {
          "output_type": "display_data",
          "data": {
            "text/plain": [
              "<Figure size 432x288 with 1 Axes>"
            ],
            "image/png": "[encoded data removed]"
          },
          "metadata": {
            "needs_background": "light"
          }
        }
      ]
    },
    {
      "cell_type": "markdown",
      "source": [
        "Esto también lo podemos ver de forma individual para cada caso"
      ],
      "metadata": {
        "id": "tizldYHunP_M"
      }
    },
    {
      "cell_type": "code",
      "source": [
        "regiones_year.NA_Sales.plot(colormap='autumn', \n",
        "                            title='Ventas anuales para Norteamérica');"
      ],
      "metadata": {
        "id": "zo8m6sDE782z",
        "colab": {
          "base_uri": "https://localhost:8080/",
          "height": 269
        },
        "outputId": "df7a3e4b-a1eb-4952-c5d1-d72a6ac97a84"
      },
      "execution_count": null,
      "outputs": [
        {
          "output_type": "display_data",
          "data": {
            "text/plain": [
              "<Figure size 432x288 with 1 Axes>"
            ],
            "image/png": "[encoded data removed]"
          },
          "metadata": {
            "needs_background": "light"
          }
        }
      ]
    },
    {
      "cell_type": "markdown",
      "source": [
        "Ahora, pasemos a ver la cantidad de ventas por plataformas.\n",
        "\n",
        "#### ¿Qué plataforma ha vendido más?"
      ],
      "metadata": {
        "id": "ta8oNF64UZJh"
      }
    },
    {
      "cell_type": "code",
      "source": [
        "plataforma = df.pivot_table(index=['Platform'],  values='Global_Sales', aggfunc={'Global_Sales':sum})\n",
        "\n",
        "plataforma.plot(kind='bar',\n",
        "                title='Cantidad de ventas por plataforma');"
      ],
      "metadata": {
        "colab": {
          "base_uri": "https://localhost:8080/",
          "height": 312
        },
        "id": "sSe42jDHJn7z",
        "outputId": "9c909d5a-648b-4e9b-965e-0909ea4529b8"
      },
      "execution_count": null,
      "outputs": [
        {
          "output_type": "display_data",
          "data": {
            "text/plain": [
              "<Figure size 432x288 with 1 Axes>"
            ],
            "image/png": "[encoded data removed]"
          },
          "metadata": {
            "needs_background": "light"
          }
        }
      ]
    },
    {
      "cell_type": "markdown",
      "source": [
        "La mayor cantidad de ventas las ha hecho la plataforma PS2. Para esta plataforma los géneros se distribuyen de la siguiente manera:\n",
        "\n",
        "Haremos un gráfico de torta/pie pero antes debemos hacer una consulta de los datos que correspondan a la plataforma PS2 y luego una tabla pivote por los géneros."
      ],
      "metadata": {
        "id": "yAKz9QBYENRz"
      }
    },
    {
      "cell_type": "code",
      "source": [
        "ps2_genero = df.query(\"Platform == 'PS2'\").pivot_table(index='Genre',\n",
        "                                          aggfunc={'Global_Sales':sum})\n",
        "\n",
        "ps2_genero.plot(kind='pie',\n",
        "                subplots=True,\n",
        "                title='Ventas para PS2 según la plataforma',\n",
        "                figsize=(10, 10));"
      ],
      "metadata": {
        "colab": {
          "base_uri": "https://localhost:8080/",
          "height": 646
        },
        "id": "24igzbbtUrDd",
        "outputId": "bcaee4e0-6585-41cd-b861-188f5541fab3"
      },
      "execution_count": null,
      "outputs": [
        {
          "output_type": "display_data",
          "data": {
            "text/plain": [
              "<Figure size 720x720 with 1 Axes>"
            ],
            "image/png": "[encoded data removed]"
          },
          "metadata": {}
        }
      ]
    },
    {
      "cell_type": "markdown",
      "source": [
        "Ahora, veamos las ventas por editor y de allí determinemos ¿Cuál es el que ha vendido más?"
      ],
      "metadata": {
        "id": "D62GQE3Zodbf"
      }
    },
    {
      "cell_type": "code",
      "source": [
        "editores = df.pivot_table(aggfunc={'Global_Sales':sum},\n",
        "                          index='Publisher').sort_values('Global_Sales', ascending=False)[:10]\n",
        "editores.plot(kind='bar', \n",
        "              title='Ventas por editores');"
      ],
      "metadata": {
        "colab": {
          "base_uri": "https://localhost:8080/",
          "height": 437
        },
        "id": "1BmcLbckYkBd",
        "outputId": "c23997b2-6a60-4da6-c7ec-ff112369f9a3"
      },
      "execution_count": null,
      "outputs": [
        {
          "output_type": "display_data",
          "data": {
            "text/plain": [
              "<Figure size 432x288 with 1 Axes>"
            ],
            "image/png": "[encoded data removed]"
          },
          "metadata": {
            "needs_background": "light"
          }
        }
      ]
    },
    {
      "cell_type": "markdown",
      "source": [
        "Nintendo es el editor o empresa que tiene mayor cantidad de ventas. \n",
        "\n",
        "Veamos cómo es su comportamiento a lo largo de los años. Esto lo podemos ver en un gráfico de líneas. Vamos a crearlo a partir de una tabla que contenga solo la información correspondiente a este editor, ordenada por años junto con la cantidad de ventas total."
      ],
      "metadata": {
        "id": "KfYRMEcqZ5hG"
      }
    },
    {
      "cell_type": "code",
      "source": [
        "nintendo_anual = df.query(\"Publisher == 'Nintendo'\").pivot_table(\n",
        "    index='Year', aggfunc={'Global_Sales':sum})\n",
        "\n",
        "nintendo_anual.plot(title='Ventas anuales para Nintendo');"
      ],
      "metadata": {
        "colab": {
          "base_uri": "https://localhost:8080/",
          "height": 295
        },
        "id": "W3grM34YZ5rG",
        "outputId": "90ea43af-2fe3-4650-ecc6-854deea3b18e"
      },
      "execution_count": null,
      "outputs": [
        {
          "output_type": "display_data",
          "data": {
            "text/plain": [
              "<Figure size 432x288 with 1 Axes>"
            ],
            "image/png": "[encoded data removed]"
          },
          "metadata": {
            "needs_background": "light"
          }
        }
      ]
    },
    {
      "cell_type": "code",
      "source": [
        "nintendo_anual.idxmax()"
      ],
      "metadata": {
        "colab": {
          "base_uri": "https://localhost:8080/"
        },
        "id": "zE_XTjPxP9LF",
        "outputId": "e516b9a3-bdd4-4d47-92d7-207100ca28af"
      },
      "execution_count": null,
      "outputs": [
        {
          "output_type": "execute_result",
          "data": {
            "text/plain": [
              "Global_Sales   2006-01-01\n",
              "dtype: datetime64[ns]"
            ]
          },
          "metadata": {},
          "execution_count": 32
        }
      ]
    },
    {
      "cell_type": "markdown",
      "source": [
        "El punto más alto de las ventas para Nintendo fue en el año 2006. Veamos cuáles fueron las ventas por plataformas en ese año"
      ],
      "metadata": {
        "id": "tfJNI9xYQQwC"
      }
    },
    {
      "cell_type": "code",
      "source": [
        "pico = df.query(\"Publisher == 'Nintendo' and Year == 2006\").pivot_table(index='Platform', aggfunc={'Global_Sales':sum})\n",
        "\n",
        "pico.query('Global_Sales > 0')"
      ],
      "metadata": {
        "colab": {
          "base_uri": "https://localhost:8080/",
          "height": 206
        },
        "id": "jfRhHLnsZ5IG",
        "outputId": "73c522bd-12b2-4f4f-80d8-884e77d1061e"
      },
      "execution_count": null,
      "outputs": [
        {
          "output_type": "execute_result",
          "data": {
            "text/plain": [
              "          Global_Sales\n",
              "Platform              \n",
              "DS               77.75\n",
              "GBA               1.30\n",
              "GC                1.70\n",
              "Wii             124.86"
            ],
            "text/html": [
              "\n",
              "  <div id=\"df-0d4e5605-142f-44e9-b38f-4b510844e222\">\n",
              "    <div class=\"colab-df-container\">\n",
              "      <div>\n",
              "<style scoped>\n",
              "    .dataframe tbody tr th:only-of-type {\n",
              "        vertical-align: middle;\n",
              "    }\n",
              "\n",
              "    .dataframe tbody tr th {\n",
              "        vertical-align: top;\n",
              "    }\n",
              "\n",
              "    .dataframe thead th {\n",
              "        text-align: right;\n",
              "    }\n",
              "</style>\n",
              "<table border=\"1\" class=\"dataframe\">\n",
              "  <thead>\n",
              "    <tr style=\"text-align: right;\">\n",
              "      <th></th>\n",
              "      <th>Global_Sales</th>\n",
              "    </tr>\n",
              "    <tr>\n",
              "      <th>Platform</th>\n",
              "      <th></th>\n",
              "    </tr>\n",
              "  </thead>\n",
              "  <tbody>\n",
              "    <tr>\n",
              "      <th>DS</th>\n",
              "      <td>77.75</td>\n",
              "    </tr>\n",
              "    <tr>\n",
              "      <th>GBA</th>\n",
              "      <td>1.30</td>\n",
              "    </tr>\n",
              "    <tr>\n",
              "      <th>GC</th>\n",
              "      <td>1.70</td>\n",
              "    </tr>\n",
              "    <tr>\n",
              "      <th>Wii</th>\n",
              "      <td>124.86</td>\n",
              "    </tr>\n",
              "  </tbody>\n",
              "</table>\n",
              "</div>\n",
              "      <button class=\"colab-df-convert\" onclick=\"convertToInteractive('df-0d4e5605-142f-44e9-b38f-4b510844e222')\"\n",
              "              title=\"Convert this dataframe to an interactive table.\"\n",
              "              style=\"display:none;\">\n",
              "        \n",
              "  <svg xmlns=\"http://www.w3.org/2000/svg\" height=\"24px\"viewBox=\"0 0 24 24\"\n",
              "       width=\"24px\">\n",
              "    <path d=\"M0 0h24v24H0V0z\" fill=\"none\"/>\n",
              "    <path d=\"M18.56 5.44l.94 2.06.94-2.06 2.06-.94-2.06-.94-.94-2.06-.94 2.06-2.06.94zm-11 1L8.5 8.5l.94-2.06 2.06-.94-2.06-.94L8.5 2.5l-.94 2.06-2.06.94zm10 10l.94 2.06.94-2.06 2.06-.94-2.06-.94-.94-2.06-.94 2.06-2.06.94z\"/><path d=\"M17.41 7.96l-1.37-1.37c-.4-.4-.92-.59-1.43-.59-.52 0-1.04.2-1.43.59L10.3 9.45l-7.72 7.72c-.78.78-.78 2.05 0 2.83L4 21.41c.39.39.9.59 1.41.59.51 0 1.02-.2 1.41-.59l7.78-7.78 2.81-2.81c.8-.78.8-2.07 0-2.86zM5.41 20L4 18.59l7.72-7.72 1.47 1.35L5.41 20z\"/>\n",
              "  </svg>\n",
              "      </button>\n",
              "      \n",
              "  <style>\n",
              "    .colab-df-container {\n",
              "      display:flex;\n",
              "      flex-wrap:wrap;\n",
              "      gap: 12px;\n",
              "    }\n",
              "\n",
              "    .colab-df-convert {\n",
              "      background-color: #E8F0FE;\n",
              "      border: none;\n",
              "      border-radius: 50%;\n",
              "      cursor: pointer;\n",
              "      display: none;\n",
              "      fill: #1967D2;\n",
              "      height: 32px;\n",
              "      padding: 0 0 0 0;\n",
              "      width: 32px;\n",
              "    }\n",
              "\n",
              "    .colab-df-convert:hover {\n",
              "      background-color: #E2EBFA;\n",
              "      box-shadow: 0px 1px 2px rgba(60, 64, 67, 0.3), 0px 1px 3px 1px rgba(60, 64, 67, 0.15);\n",
              "      fill: #174EA6;\n",
              "    }\n",
              "\n",
              "    [theme=dark] .colab-df-convert {\n",
              "      background-color: #3B4455;\n",
              "      fill: #D2E3FC;\n",
              "    }\n",
              "\n",
              "    [theme=dark] .colab-df-convert:hover {\n",
              "      background-color: #434B5C;\n",
              "      box-shadow: 0px 1px 3px 1px rgba(0, 0, 0, 0.15);\n",
              "      filter: drop-shadow(0px 1px 2px rgba(0, 0, 0, 0.3));\n",
              "      fill: #FFFFFF;\n",
              "    }\n",
              "  </style>\n",
              "\n",
              "      <script>\n",
              "        const buttonEl =\n",
              "          document.querySelector('#df-0d4e5605-142f-44e9-b38f-4b510844e222 button.colab-df-convert');\n",
              "        buttonEl.style.display =\n",
              "          google.colab.kernel.accessAllowed ? 'block' : 'none';\n",
              "\n",
              "        async function convertToInteractive(key) {\n",
              "          const element = document.querySelector('#df-0d4e5605-142f-44e9-b38f-4b510844e222');\n",
              "          const dataTable =\n",
              "            await google.colab.kernel.invokeFunction('convertToInteractive',\n",
              "                                                     [key], {});\n",
              "          if (!dataTable) return;\n",
              "\n",
              "          const docLinkHtml = 'Like what you see? Visit the ' +\n",
              "            '<a target=\"_blank\" href=https://colab.research.google.com/notebooks/data_table.ipynb>data table notebook</a>'\n",
              "            + ' to learn more about interactive tables.';\n",
              "          element.innerHTML = '';\n",
              "          dataTable['output_type'] = 'display_data';\n",
              "          await google.colab.output.renderOutput(dataTable, element);\n",
              "          const docLink = document.createElement('div');\n",
              "          docLink.innerHTML = docLinkHtml;\n",
              "          element.appendChild(docLink);\n",
              "        }\n",
              "      </script>\n",
              "    </div>\n",
              "  </div>\n",
              "  "
            ]
          },
          "metadata": {},
          "execution_count": 33
        }
      ]
    },
    {
      "cell_type": "code",
      "source": [
        "pico.query('Global_Sales > 0').plot(kind='barh',\n",
        "                                    title='Ventas para Nintendo por plataforma');"
      ],
      "metadata": {
        "colab": {
          "base_uri": "https://localhost:8080/",
          "height": 281
        },
        "id": "dm4N3KWvqAKg",
        "outputId": "2531c355-25be-40db-c455-704df3127d48"
      },
      "execution_count": null,
      "outputs": [
        {
          "output_type": "display_data",
          "data": {
            "text/plain": [
              "<Figure size 432x288 with 1 Axes>"
            ],
            "image/png": "[encoded data removed]"
          },
          "metadata": {
            "needs_background": "light"
          }
        }
      ]
    },
    {
      "cell_type": "markdown",
      "source": [
        "La mayor cantidad de ventas por Nintendo corresponde a la plataforma Wii. Ahora nos podemos preguntar, ¿qué género es el más común? en el 2006 para Nintendo"
      ],
      "metadata": {
        "id": "iADt5ddOrWja"
      }
    },
    {
      "cell_type": "code",
      "source": [
        "genero_ = df.query(\"Publisher == 'Nintendo' and Year == 2006\").pivot_table(index='Genre', aggfunc={'Global_Sales':sum})"
      ],
      "metadata": {
        "id": "0-pf8fRZR24W"
      },
      "execution_count": 19,
      "outputs": []
    },
    {
      "cell_type": "code",
      "source": [
        "genero_.plot(kind='pie', subplots=True,\n",
        "             figsize=(10,10), colormap='jet',\n",
        "             title='Ventas por género para Nintendo');"
      ],
      "metadata": {
        "colab": {
          "base_uri": "https://localhost:8080/",
          "height": 646
        },
        "id": "CuzTE3rOR_h5",
        "outputId": "29016337-4342-42b2-980f-4198c823056e"
      },
      "execution_count": 20,
      "outputs": [
        {
          "output_type": "display_data",
          "data": {
            "text/plain": [
              "<Figure size 720x720 with 1 Axes>"
            ],
            "image/png": "[encoded data removed]"
          },
          "metadata": {}
        }
      ]
    },
    {
      "cell_type": "markdown",
      "source": [
        "Hay muchas categórías es mejor verlo en un gráfico de barras."
      ],
      "metadata": {
        "id": "eLN8uMB_1aRD"
      }
    },
    {
      "cell_type": "code",
      "source": [
        "genero_.plot(kind='bar', subplots=True,\n",
        "             figsize=(10,10), colormap='jet',\n",
        "             title='Ventas por género para Nintendo');"
      ],
      "metadata": {
        "colab": {
          "base_uri": "https://localhost:8080/",
          "height": 729
        },
        "id": "WC3-47jL1PsB",
        "outputId": "233e366b-5de7-42ab-b2bd-6b9402e3b989"
      },
      "execution_count": 21,
      "outputs": [
        {
          "output_type": "display_data",
          "data": {
            "text/plain": [
              "<Figure size 720x720 with 1 Axes>"
            ],
            "image/png": "[encoded data removed]"
          },
          "metadata": {
            "needs_background": "light"
          }
        }
      ]
    },
    {
      "cell_type": "code",
      "source": [
        "df.query(\"Publisher == 'Nintendo' and Year == 2006 and Genre=='Sports'\")"
      ],
      "metadata": {
        "colab": {
          "base_uri": "https://localhost:8080/",
          "height": 288
        },
        "id": "2E7fW5PKSCZM",
        "outputId": "1e72d954-b2cf-4f9d-e5c2-dc2a73f48a7d"
      },
      "execution_count": null,
      "outputs": [
        {
          "output_type": "execute_result",
          "data": {
            "text/plain": [
              "        Rank                Name Platform       Year   Genre Publisher  \\\n",
              "0          1          Wii Sports      Wii 2006-01-01  Sports  Nintendo   \n",
              "1136    1138  Mario Hoops 3 on 3       DS 2006-01-01  Sports  Nintendo   \n",
              "7080    7082    Super Swing Golf      Wii 2006-01-01  Sports  Nintendo   \n",
              "14626  14629          Calcio Bit      GBA 2006-01-01  Sports  Nintendo   \n",
              "\n",
              "       NA_Sales  EU_Sales  JP_Sales  Other_Sales  Global_Sales  \n",
              "0         41.49     29.02      3.77         8.46         82.74  \n",
              "1136       0.99      0.04      0.49         0.10          1.62  \n",
              "7080       0.14      0.01      0.07         0.01          0.23  \n",
              "14626      0.00      0.00      0.03         0.00          0.03  "
            ],
            "text/html": [
              "\n",
              "  <div id=\"df-ebf408fe-3796-41e9-a3f8-0bc4c097c2f1\">\n",
              "    <div class=\"colab-df-container\">\n",
              "      <div>\n",
              "<style scoped>\n",
              "    .dataframe tbody tr th:only-of-type {\n",
              "        vertical-align: middle;\n",
              "    }\n",
              "\n",
              "    .dataframe tbody tr th {\n",
              "        vertical-align: top;\n",
              "    }\n",
              "\n",
              "    .dataframe thead th {\n",
              "        text-align: right;\n",
              "    }\n",
              "</style>\n",
              "<table border=\"1\" class=\"dataframe\">\n",
              "  <thead>\n",
              "    <tr style=\"text-align: right;\">\n",
              "      <th></th>\n",
              "      <th>Rank</th>\n",
              "      <th>Name</th>\n",
              "      <th>Platform</th>\n",
              "      <th>Year</th>\n",
              "      <th>Genre</th>\n",
              "      <th>Publisher</th>\n",
              "      <th>NA_Sales</th>\n",
              "      <th>EU_Sales</th>\n",
              "      <th>JP_Sales</th>\n",
              "      <th>Other_Sales</th>\n",
              "      <th>Global_Sales</th>\n",
              "    </tr>\n",
              "  </thead>\n",
              "  <tbody>\n",
              "    <tr>\n",
              "      <th>0</th>\n",
              "      <td>1</td>\n",
              "      <td>Wii Sports</td>\n",
              "      <td>Wii</td>\n",
              "      <td>2006-01-01</td>\n",
              "      <td>Sports</td>\n",
              "      <td>Nintendo</td>\n",
              "      <td>41.49</td>\n",
              "      <td>29.02</td>\n",
              "      <td>3.77</td>\n",
              "      <td>8.46</td>\n",
              "      <td>82.74</td>\n",
              "    </tr>\n",
              "    <tr>\n",
              "      <th>1136</th>\n",
              "      <td>1138</td>\n",
              "      <td>Mario Hoops 3 on 3</td>\n",
              "      <td>DS</td>\n",
              "      <td>2006-01-01</td>\n",
              "      <td>Sports</td>\n",
              "      <td>Nintendo</td>\n",
              "      <td>0.99</td>\n",
              "      <td>0.04</td>\n",
              "      <td>0.49</td>\n",
              "      <td>0.10</td>\n",
              "      <td>1.62</td>\n",
              "    </tr>\n",
              "    <tr>\n",
              "      <th>7080</th>\n",
              "      <td>7082</td>\n",
              "      <td>Super Swing Golf</td>\n",
              "      <td>Wii</td>\n",
              "      <td>2006-01-01</td>\n",
              "      <td>Sports</td>\n",
              "      <td>Nintendo</td>\n",
              "      <td>0.14</td>\n",
              "      <td>0.01</td>\n",
              "      <td>0.07</td>\n",
              "      <td>0.01</td>\n",
              "      <td>0.23</td>\n",
              "    </tr>\n",
              "    <tr>\n",
              "      <th>14626</th>\n",
              "      <td>14629</td>\n",
              "      <td>Calcio Bit</td>\n",
              "      <td>GBA</td>\n",
              "      <td>2006-01-01</td>\n",
              "      <td>Sports</td>\n",
              "      <td>Nintendo</td>\n",
              "      <td>0.00</td>\n",
              "      <td>0.00</td>\n",
              "      <td>0.03</td>\n",
              "      <td>0.00</td>\n",
              "      <td>0.03</td>\n",
              "    </tr>\n",
              "  </tbody>\n",
              "</table>\n",
              "</div>\n",
              "      <button class=\"colab-df-convert\" onclick=\"convertToInteractive('df-ebf408fe-3796-41e9-a3f8-0bc4c097c2f1')\"\n",
              "              title=\"Convert this dataframe to an interactive table.\"\n",
              "              style=\"display:none;\">\n",
              "        \n",
              "  <svg xmlns=\"http://www.w3.org/2000/svg\" height=\"24px\"viewBox=\"0 0 24 24\"\n",
              "       width=\"24px\">\n",
              "    <path d=\"M0 0h24v24H0V0z\" fill=\"none\"/>\n",
              "    <path d=\"M18.56 5.44l.94 2.06.94-2.06 2.06-.94-2.06-.94-.94-2.06-.94 2.06-2.06.94zm-11 1L8.5 8.5l.94-2.06 2.06-.94-2.06-.94L8.5 2.5l-.94 2.06-2.06.94zm10 10l.94 2.06.94-2.06 2.06-.94-2.06-.94-.94-2.06-.94 2.06-2.06.94z\"/><path d=\"M17.41 7.96l-1.37-1.37c-.4-.4-.92-.59-1.43-.59-.52 0-1.04.2-1.43.59L10.3 9.45l-7.72 7.72c-.78.78-.78 2.05 0 2.83L4 21.41c.39.39.9.59 1.41.59.51 0 1.02-.2 1.41-.59l7.78-7.78 2.81-2.81c.8-.78.8-2.07 0-2.86zM5.41 20L4 18.59l7.72-7.72 1.47 1.35L5.41 20z\"/>\n",
              "  </svg>\n",
              "      </button>\n",
              "      \n",
              "  <style>\n",
              "    .colab-df-container {\n",
              "      display:flex;\n",
              "      flex-wrap:wrap;\n",
              "      gap: 12px;\n",
              "    }\n",
              "\n",
              "    .colab-df-convert {\n",
              "      background-color: #E8F0FE;\n",
              "      border: none;\n",
              "      border-radius: 50%;\n",
              "      cursor: pointer;\n",
              "      display: none;\n",
              "      fill: #1967D2;\n",
              "      height: 32px;\n",
              "      padding: 0 0 0 0;\n",
              "      width: 32px;\n",
              "    }\n",
              "\n",
              "    .colab-df-convert:hover {\n",
              "      background-color: #E2EBFA;\n",
              "      box-shadow: 0px 1px 2px rgba(60, 64, 67, 0.3), 0px 1px 3px 1px rgba(60, 64, 67, 0.15);\n",
              "      fill: #174EA6;\n",
              "    }\n",
              "\n",
              "    [theme=dark] .colab-df-convert {\n",
              "      background-color: #3B4455;\n",
              "      fill: #D2E3FC;\n",
              "    }\n",
              "\n",
              "    [theme=dark] .colab-df-convert:hover {\n",
              "      background-color: #434B5C;\n",
              "      box-shadow: 0px 1px 3px 1px rgba(0, 0, 0, 0.15);\n",
              "      filter: drop-shadow(0px 1px 2px rgba(0, 0, 0, 0.3));\n",
              "      fill: #FFFFFF;\n",
              "    }\n",
              "  </style>\n",
              "\n",
              "      <script>\n",
              "        const buttonEl =\n",
              "          document.querySelector('#df-ebf408fe-3796-41e9-a3f8-0bc4c097c2f1 button.colab-df-convert');\n",
              "        buttonEl.style.display =\n",
              "          google.colab.kernel.accessAllowed ? 'block' : 'none';\n",
              "\n",
              "        async function convertToInteractive(key) {\n",
              "          const element = document.querySelector('#df-ebf408fe-3796-41e9-a3f8-0bc4c097c2f1');\n",
              "          const dataTable =\n",
              "            await google.colab.kernel.invokeFunction('convertToInteractive',\n",
              "                                                     [key], {});\n",
              "          if (!dataTable) return;\n",
              "\n",
              "          const docLinkHtml = 'Like what you see? Visit the ' +\n",
              "            '<a target=\"_blank\" href=https://colab.research.google.com/notebooks/data_table.ipynb>data table notebook</a>'\n",
              "            + ' to learn more about interactive tables.';\n",
              "          element.innerHTML = '';\n",
              "          dataTable['output_type'] = 'display_data';\n",
              "          await google.colab.output.renderOutput(dataTable, element);\n",
              "          const docLink = document.createElement('div');\n",
              "          docLink.innerHTML = docLinkHtml;\n",
              "          element.appendChild(docLink);\n",
              "        }\n",
              "      </script>\n",
              "    </div>\n",
              "  </div>\n",
              "  "
            ]
          },
          "metadata": {},
          "execution_count": 37
        }
      ]
    },
    {
      "cell_type": "markdown",
      "source": [
        "En esta última tabla podemos observar que Nintendo tuvo sus máximas ventas con el videojuego Wii Sports."
      ],
      "metadata": {
        "id": "mfuHxDHGyCq2"
      }
    },
    {
      "cell_type": "markdown",
      "source": [
        "De esto podemos determinar que en general, la mayor cantidad de videojuegos se han creado para el género acción y este ha acumulado la mayor cantidad de ventas. Además, el editor Nintendo es el que más ha producido ventas, sobretodo en la plataforma wii y el videojuego Wii Sports."
      ],
      "metadata": {
        "id": "8u-xJAQD3gXz"
      }
    }
  ]
}