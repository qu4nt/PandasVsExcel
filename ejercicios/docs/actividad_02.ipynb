{
 "cells": [
  {
   "cell_type": "markdown",
   "metadata": {},
   "source": [
    "!!! question \"En Python, podemos sumar varios números utilizando `*`\"\n",
    "    - Verdadero\n",
    "    - Falso\n",
    "\n",
    "??? success \"Respuesta\"\n",
    "\n",
    "    - [x] Falso, en Python puedes sumar los números con el signo `+`."
   ]
  },
  {
   "cell_type": "markdown",
   "metadata": {},
   "source": []
  },
  {
   "cell_type": "markdown",
   "metadata": {},
   "source": [
    "!!! question \" Para realizar operaciones matemáticas básicas en Python podemos utilizar `+`, `*`, `/`, `-`\"\n",
    "\n",
    "    - Verdadero\n",
    "    - Falso\n",
    "\n",
    "??? success \"Respuesta\"\n",
    "\n",
    "    - [x] Verdadero. Los operadores matemáticos en Python son tal que \n",
    "\n",
    "        |Operador|Descripción|\n",
    "        |--------|-----------|\n",
    "        |+|Suma|\n",
    "        |-|Resta|\n",
    "        |*|Multiplicación|\n",
    "        |/|División|\n",
    "        |//|División entera|\n",
    "        |**| Potencia|\n",
    "        |%|Residuo|"
   ]
  },
  {
   "cell_type": "markdown",
   "metadata": {},
   "source": []
  },
  {
   "cell_type": "markdown",
   "metadata": {},
   "source": []
  },
  {
   "cell_type": "markdown",
   "metadata": {},
   "source": [
    "!!! question \"Los siguientes corresponde a nombres de variables, ¿Cuáles son correctos?\"\n",
    "\n",
    "    - `precio`\n",
    "    - `archivo3`\n",
    "    - `01_ventas`\n",
    "    - `ventas_2022`\n",
    "    - `cantidad total`\n",
    "    - `CoStos`\n",
    "\n",
    "??? success \"Respuesta\"\n",
    "    - [x] `precio`\n",
    "    - [x] `archivo3`\n",
    "    - [x] `ventas_2022`\n",
    "    - [x] `CoStos`\n",
    "    \n",
    "    Las variables `precio`, `archivo3`, `ventas_2022` y `CoStos` son correctos. Recuerda que Python es case sentive (sensible a las mayúsculas) por ello, si queremos acceder a la variable CoStos escribiendo Costos, o costos no resultará factible.\n",
    "    "
   ]
  },
  {
   "cell_type": "markdown",
   "metadata": {},
   "source": []
  },
  {
   "cell_type": "markdown",
   "metadata": {},
   "source": [
    "!!! question \"¿De qué tipo es la variable `precio = 200`?\"\n",
    "\n",
    "    a. int\n",
    "\n",
    "    b. float\n",
    "\n",
    "    c. num\n",
    "\n",
    "    d. int float\n",
    "\n",
    "??? success \"Respuesta\"\n",
    "    \n",
    "    - [x] a. int"
   ]
  },
  {
   "cell_type": "markdown",
   "metadata": {},
   "source": [
    "!!! question \"Escribe en una celda de código lo siguiente y determina de qué tipo es `variable`\"\n",
    "\n",
    "    ```py\n",
    "    var = 5\n",
    "    var2 = 20\n",
    "    variable = var/var2\n",
    "    variable =+ var\n",
    "    ```"
   ]
  },
  {
   "cell_type": "markdown",
   "metadata": {},
   "source": [
    "??? success \"Respuesta\"\n",
    "\n",
    "    `variable` es de tipo entero.\n",
    "\n",
    "    ```py\n",
    "    var = 5\n",
    "    var2 = 20\n",
    "    variable = var/var2\n",
    "    variable =+ var\n",
    "\n",
    "    type(variable)\n",
    "\n",
    "    int\n",
    "    ```"
   ]
  },
  {
   "cell_type": "markdown",
   "metadata": {},
   "source": [
    "!!! question \"Escribe en una celda de código lo siguiente y determina de qué tipo es `letras`\"\n",
    "    \n",
    "    ```py\n",
    "    letra = \"a\"\n",
    "    num = 2\n",
    "    letras = 2 * letra\n",
    "    ```"
   ]
  },
  {
   "cell_type": "markdown",
   "metadata": {},
   "source": [
    "??? success \"Respuesta\"\n",
    "\n",
    "    ```py\n",
    "    type(letras)\n",
    "    str\n",
    "    ```"
   ]
  },
  {
   "cell_type": "markdown",
   "metadata": {},
   "source": [
    "!!! question \"Si escribimos lo siguiente en una celda y lo almacenamos en una variable, ¿de qué tipo será?\"\n",
    "\n",
    "`'Tres' > '4' `\n",
    "\n",
    "a. int\n",
    "\n",
    "b. str\n",
    "\n",
    "c. bool\n",
    "\n",
    "d. No tiene ningún tipo porque produce un error."
   ]
  },
  {
   "cell_type": "markdown",
   "metadata": {},
   "source": [
    "??? success \"Respuestas\"\n",
    "    \n",
    "    c. bool\n",
    "    \n",
    "    ```py\n",
    "    var = 'Tres' > '4 '\n",
    "    type(var)\n",
    "\n",
    "    bool\n",
    "    ```"
   ]
  },
  {
   "cell_type": "markdown",
   "metadata": {},
   "source": [
    "!!! question \"¿Cómo creamos las listas y las tuplas?\"\n",
    "\n",
    "    a. Las listas las creamos con () y las tuplas con [].\n",
    "\n",
    "    b. Las listas las creamos con [] y las tuplas con ().\n",
    "\n",
    "    c. Ambas se pueden crear con ().\n",
    "\n",
    "    d. Ambas se pueden crear con []."
   ]
  },
  {
   "cell_type": "markdown",
   "metadata": {},
   "source": [
    "??? success \"Respuesta\"\n",
    "\n",
    "    b. Las listas las creamos con [] y las tuplas con ()."
   ]
  },
  {
   "cell_type": "markdown",
   "metadata": {},
   "source": [
    "!!! question \"Lo siguiente representa un diccionario, ¿cómo accedemos a los valores en 'anfibios'?\"\n",
    "\n",
    "    ```py\n",
    "     vertebrados = {'mamíferos':['vivíparos', 'leche', 'pelos', '4'],\n",
    "    'aves': ('ovíparos', 'no toman leche', 'plumas', '2'),\n",
    "    'anfibios':['ovíparos', 'piel desnuda y húmeda', '4'],\n",
    "    'peces':['ovíparos', 'escamas', '0']}\n",
    "    ```\n",
    "\n",
    "    a. Escribiendo vertebrados['anfibios']\n",
    "    b. Escribiendo 'anfibios'\n",
    "    c. Escribiendo vertebrados[2]\n",
    "    d. Ninguna de las anteriores"
   ]
  },
  {
   "cell_type": "markdown",
   "metadata": {},
   "source": [
    "??? success \"Respuesta\"\n",
    "\n",
    "    a. Escribiendo vertebrados['anfibios']"
   ]
  },
  {
   "cell_type": "markdown",
   "metadata": {},
   "source": [
    "!!! question \"Crea varias variables; una que almacene tu nombre, otra tu número favorito, tu edad, cantidad de hermanos y tu estatura en metros, luego verificar el tipo de datos\"\n",
    "\n",
    "??? success \"Respuesta\"\n",
    "    Por ejemplo,\n",
    "    ```py\n",
    "    nombre = 'Anavelyz'\n",
    "    numero = 17\n",
    "    edad = 25\n",
    "    hermanos = 1\n",
    "    estatura = 1,63\n",
    "\n",
    "    type(nombre)\n",
    "    str\n",
    "\n",
    "    type(numero)\n",
    "    int\n",
    "\n",
    "    type(edad)\n",
    "    int\n",
    "\n",
    "    type(hermanos)\n",
    "    int\n",
    "\n",
    "    type(estatura)\n",
    "    float\n",
    "\n",
    "    ```\n"
   ]
  },
  {
   "cell_type": "markdown",
   "metadata": {},
   "source": []
  }
 ],
 "metadata": {
  "kernelspec": {
   "display_name": "Python 3.9.12 ('analytics')",
   "language": "python",
   "name": "python3"
  },
  "language_info": {
   "codemirror_mode": {
    "name": "ipython",
    "version": 3
   },
   "file_extension": ".py",
   "mimetype": "text/x-python",
   "name": "python",
   "nbconvert_exporter": "python",
   "pygments_lexer": "ipython3",
   "version": "3.9.12"
  },
  "orig_nbformat": 4,
  "vscode": {
   "interpreter": {
    "hash": "d66854944be7b24d750e3e3f9ddfd8a9240def69a627d1161a17a09f815f96c0"
   }
  }
 },
 "nbformat": 4,
 "nbformat_minor": 2
}
