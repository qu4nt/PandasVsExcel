{
 "cells": [
  {
   "cell_type": "markdown",
   "metadata": {},
   "source": [
    "!!! question \"¿Qué son las estructuras de datos? Selecciona la opción correcta.\"\n",
    "\n",
    "    a. Variables que no permiten acceder a los datos.\n",
    "\n",
    "    b. Conjuntos de datos almacenados en un objeto.\n",
    "\n",
    "    c. Datos desordenados\n",
    "\n",
    "    d. Conjuntos de datos que permiten un único tipo de datos.\n",
    "\n",
    "??? success \"Respuesta\"\n",
    "\n",
    "    b. Conjuntos de datos almacenados en un objeto."
   ]
  },
  {
   "cell_type": "markdown",
   "metadata": {},
   "source": [
    "!!! question \"Sobre los arrays (arreglos). Escoge la(s) opción(es) correcta(s).\"\n",
    "\n",
    "    1. Son estructuras de datos.\n",
    "    2. Pueden ser numéricos o no.\n",
    "    3. Los valores deben ser del mismo tipo.\n",
    "    4. Puedes crear arrays con el módulo array o con Numpy.\n"
   ]
  },
  {
   "cell_type": "markdown",
   "metadata": {},
   "source": [
    "??? success \"Respuesta\"\n",
    "\n",
    "    Las opciones correctas sobre los arrays son:\n",
    "    1. Son estructuras de datos\n",
    "    3. Los valores deben ser del mismo tipo (especialmente para arrays creados con el módulo array)\n",
    "    4. Puedes crear arrays con el módulo array o con Numpy."
   ]
  },
  {
   "cell_type": "markdown",
   "metadata": {},
   "source": [
    "!!! question \"Almacena la siguiente información en una variable, con el nombre que desees. Una vez hecho lo anterior, accede a los elementos desde la segunda posición, luego guárdalos en una variable y conviértelo en un array.\"\n",
    "\n",
    "    ```py\n",
    "        [['name', 'age', 'sex'],\n",
    "        ['Kylie', 25, 'F'],\n",
    "        ['Kanye', 45, 'M'],\n",
    "        ['Roger', 41, 'M'],\n",
    "        ['Cristiano', 37,'M'],\n",
    "        ['Lionel', 35, 'M']]\n",
    "    ```\n",
    "    **¿De qué tipo es la variable que almacenaste al inicio?**"
   ]
  },
  {
   "cell_type": "markdown",
   "metadata": {},
   "source": [
    "!!! question \"Utilizando la variable (de tipo `list`) y el _array_ que almacenaste en el apartado anterior crea un DataFrame de _pandas_.\""
   ]
  },
  {
   "cell_type": "markdown",
   "metadata": {},
   "source": [
    "??? success \"Respuesta\"\n",
    "\n",
    "    Debemos importar la biblioteca pandas\n",
    "\n",
    "    ```py\n",
    "\n",
    "    import pandas as pd\n",
    "\n",
    "    df = pd.DataFrame(tarea[1:], columns=tarea[0] )\n",
    "    df\n",
    "    ```\n",
    "\n",
    "    El resultado es \n",
    "\n",
    "    | |name|age|sex|\n",
    "    |:----|:----|:----|:----|\n",
    "    |0|Kylie|25|F|\n",
    "    |1|Kanye|45|M|\n",
    "    |2|Roger|41|M|\n",
    "    |3|Cristiano|37|M|\n",
    "    |4|Lionel|35|M|"
   ]
  },
  {
   "cell_type": "markdown",
   "metadata": {},
   "source": [
    "!!! question \"Para el DataFrame que creaste anteriormente, selecciona la columna 'age', almacena esto en una variable y luego aplica la función dtype. ¿De qué tipo es la variable que almacenaste?\""
   ]
  },
  {
   "cell_type": "markdown",
   "metadata": {},
   "source": [
    "??? success \"Respuesta\"\n",
    "\n",
    "    Puedes seleccionar la columna a partir de distintas formas\n",
    "    \n",
    "    1. ```py\n",
    "        columna = df.age\n",
    "       ```\n",
    "    2. ```py\n",
    "        columna = df['age']\n",
    "       ```\n",
    "    3. ```py\n",
    "       columna = df.loc[:,'age']\n",
    "       ```\n",
    "    4. ```py\n",
    "       columna = df.iloc[:, 1]\n",
    "       ```\n",
    "    ¿Cuál forma escogiste? Déjanos tu respuesta en los comentarios.\n",
    "\n",
    "    Ahora, el tipo de variable es una serie de pandas, nos aseguramos de ello a partir de la función type.\n",
    "\n",
    "    ```py\n",
    "    type(columna)\n",
    "    ```\n",
    "    `pandas.core.series.Series`\n",
    "\n",
    "    !!! tip \"Recuerda que las columnas de un DataFrame de pandas son Series\""
   ]
  },
  {
   "cell_type": "markdown",
   "metadata": {},
   "source": []
  },
  {
   "cell_type": "markdown",
   "metadata": {},
   "source": []
  },
  {
   "cell_type": "markdown",
   "metadata": {},
   "source": []
  }
 ],
 "metadata": {
  "kernelspec": {
   "display_name": "Python 3.9.12",
   "language": "python",
   "name": "python3"
  },
  "language_info": {
   "codemirror_mode": {
    "name": "ipython",
    "version": 3
   },
   "file_extension": ".py",
   "mimetype": "text/x-python",
   "name": "python",
   "nbconvert_exporter": "python",
   "pygments_lexer": "ipython3",
   "version": "3.9.12"
  },
  "orig_nbformat": 4,
  "vscode": {
   "interpreter": {
    "hash": "3e27ff0bfd7bd929ddaad2e38f0fb3aff0ae308e4835c9a59811cf1b12680178"
   }
  }
 },
 "nbformat": 4,
 "nbformat_minor": 2
}
