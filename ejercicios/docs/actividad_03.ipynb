{
 "cells": [
  {
   "cell_type": "markdown",
   "metadata": {},
   "source": [
    "# Funciones, módulos y bibliotecas"
   ]
  },
  {
   "cell_type": "markdown",
   "metadata": {},
   "source": [
    "!!! question \"Determina cuáles de las siguientes afirmaciones son verdaderas a cerca de las funciones en Excel y Python\"\n",
    "\n",
    "    a. Las funciones en Excel las descargamos de paquetes externos.\n",
    "\n",
    "    b. En Python las funciones se pueden crear utilizando la palabra `function`.\n",
    "\n",
    "    c. Podemos crear funciones en Excel a partir de macros.\n",
    "    \n",
    "    d. En Python no tenemos funciones predefinidas.\n",
    "\n",
    "??? success \"Respuesta\"\n",
    "    La opción verdadera es:\n",
    "\n",
    "    - [x] c. Podemos crear funciones en Excel a partir de macros."
   ]
  },
  {
   "cell_type": "markdown",
   "metadata": {},
   "source": [
    "!!! question \"¿Qué son las keyword en Python?\"\n",
    "\n",
    "    a. Son claves que combinan las funcionalidades de bibliotecas.\n",
    "\n",
    "    b. Son contraseñas para descargar archivos Python.\n",
    "\n",
    "    c. Son palabras especiales dentro del lenguaje.\n",
    "\n",
    "    d. Son nombres de funciones en Python.\n",
    "    \n",
    "    e. Ninguna de las anteriores\n",
    "\n",
    "??? success \"Respuesta\"\n",
    "\n",
    "    - [x] c. Son palabras especiales dentro del lenguaje.\n",
    "\n",
    "    Las palabra reservadas o keywords son palabras especiales que tienen significados y propósitos determinados dentro del lenguaje. Estás palabras siempre están disponibles. Las palabras clave de Python son diferentes de las funciones y tipos incorporados de Python."
   ]
  },
  {
   "cell_type": "markdown",
   "metadata": {},
   "source": [
    "!!! question \"Una biblioteca en Python es un conjunto de funciones, módulos y paquetes\"\n",
    "    \n",
    "    - Verdadero\n",
    "    - Falso\n",
    "\n",
    "??? success \"Respuesta\"\n",
    "\n",
    "    - [x] Verdadero.\n",
    "  \n",
    "    En Python una biblioteca o librería como se ha popularizado, es un conjunto de funcionalidades (módulos y paquetes) que puede ser utilizado en uno o varios programas de forma simultánea y responden a tareas específicas."
   ]
  },
  {
   "cell_type": "markdown",
   "metadata": {},
   "source": [
    "!!! question \"¿Cómo se importan las bibliotecas/módulos en Python?\"\n",
    "\n",
    "    ```py\n",
    "    a. import nombre_biblioteca\n",
    "    ```\n",
    "    \n",
    "    ```py\n",
    "    b. read nombre_biblioteca\n",
    "    ```\n",
    "\n",
    "    ```py\n",
    "    c. as nombre_biblioteca\n",
    "    ```\n",
    "\n",
    "    d. Ninguna de las anteriores.\n",
    "\n",
    "??? success \"Respuesta\"\n",
    "\n",
    "    - [x] `import nombre_biblioteca`.\n",
    "\n",
    "    Para importar bibliotecas, módulos y paquetes se utiliza la palabra `import` y el nombre de la biblioteca o paquete."
   ]
  },
  {
   "cell_type": "markdown",
   "metadata": {},
   "source": [
    "# Datos de tipo Fecha\n",
    "\n",
    "!!! question \"Para manejar las fechas y horas en Python debemos utilizar el módulo `datadate`\"\n",
    "\n",
    "    - Verdadero\n",
    "    - Falso\n",
    "\n",
    "??? success\n",
    "     - [x] Falso.\n",
    "    El módulo de Python permite manejar fechas y horas es `datetime`, que forma parte de la biblioteca estándar."
   ]
  },
  {
   "cell_type": "markdown",
   "metadata": {},
   "source": []
  },
  {
   "cell_type": "markdown",
   "metadata": {},
   "source": [
    "!!! question \"En una celda de código crea una variable que contenga tu fecha actual y luego crea otra con la fecha en la posición 3456 (`fromtimestamp`). Calcula la diferencia entre esas dos fechas.\"\n",
    "\n",
    "??? success \"Respuesta\"\n",
    "\n",
    "    ```py\n",
    "    import datetime\n",
    "\n",
    "    hoy = datetime.datetime.today()\n",
    "    fecha = datetime.datetime.fromtimestamp(3456)\n",
    "\n",
    "    hoy - fecha\n",
    "    ```\n",
    "    ```py\n",
    "    datetime.timedelta(days=19188, seconds=54731, microseconds=754007)\n",
    "    ```"
   ]
  },
  {
   "cell_type": "code",
   "execution_count": 6,
   "metadata": {},
   "outputs": [
    {
     "data": {
      "text/plain": [
       "datetime.timedelta(days=19188, seconds=54731, microseconds=754007)"
      ]
     },
     "execution_count": 6,
     "metadata": {},
     "output_type": "execute_result"
    }
   ],
   "source": []
  },
  {
   "cell_type": "code",
   "execution_count": 4,
   "metadata": {},
   "outputs": [
    {
     "data": {
      "text/plain": [
       "datetime.datetime(1969, 12, 31, 20, 57, 36)"
      ]
     },
     "execution_count": 4,
     "metadata": {},
     "output_type": "execute_result"
    }
   ],
   "source": []
  },
  {
   "cell_type": "code",
   "execution_count": null,
   "metadata": {},
   "outputs": [],
   "source": []
  },
  {
   "cell_type": "code",
   "execution_count": null,
   "metadata": {},
   "outputs": [],
   "source": []
  },
  {
   "cell_type": "markdown",
   "metadata": {},
   "source": []
  },
  {
   "cell_type": "markdown",
   "metadata": {},
   "source": []
  }
 ],
 "metadata": {
  "kernelspec": {
   "display_name": "Python 3.9.12",
   "language": "python",
   "name": "python3"
  },
  "language_info": {
   "codemirror_mode": {
    "name": "ipython",
    "version": 3
   },
   "file_extension": ".py",
   "mimetype": "text/x-python",
   "name": "python",
   "nbconvert_exporter": "python",
   "pygments_lexer": "ipython3",
   "version": "3.9.12"
  },
  "orig_nbformat": 4,
  "vscode": {
   "interpreter": {
    "hash": "3e27ff0bfd7bd929ddaad2e38f0fb3aff0ae308e4835c9a59811cf1b12680178"
   }
  }
 },
 "nbformat": 4,
 "nbformat_minor": 2
}
