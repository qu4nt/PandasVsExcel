{
 "cells": [
  {
   "cell_type": "markdown",
   "metadata": {},
   "source": [
    "# Funciones, módulos y bibliotecas"
   ]
  },
  {
   "cell_type": "markdown",
   "metadata": {},
   "source": [
    "!!! question \"Determina cuál(es) de las siguientes afirmaciones es(son) verdadera(s) a cerca de las funciones en Excel y Python\"\n",
    "\n",
    "    a. Las funciones en Excel las descargamos de paquetes externos.\n",
    "\n",
    "    b. En Python las funciones se pueden crear utilizando la palabra `function`.\n",
    "\n",
    "    c. Podemos crear funciones en Excel a partir de macros.\n",
    "    \n",
    "    d. En Python no tenemos funciones predefinidas.\n",
    "\n",
    "??? success \"Respuesta\"\n",
    "    La opción verdadera es:\n",
    "\n",
    "    - [x] c. Podemos crear funciones en Excel a partir de macros."
   ]
  },
  {
   "cell_type": "markdown",
   "metadata": {},
   "source": [
    "!!! question \"¿Qué son las _keywords_ en Python? Selecciona la opción correcta\"\n",
    "\n",
    "    a. Son claves que combinan las funcionalidades de bibliotecas.\n",
    "\n",
    "    b. Son contraseñas para descargar archivos Python.\n",
    "\n",
    "    c. Son palabras especiales dentro del lenguaje.\n",
    "\n",
    "    d. Son nombres de funciones en Python.\n",
    "    \n",
    "    e. Ninguna de las anteriores\n",
    "\n",
    "??? success \"Respuesta\"\n",
    "\n",
    "    - [x] c. Son palabras especiales dentro del lenguaje.\n",
    "\n",
    "    Las palabra reservadas o keywords son palabras especiales que tienen significados y propósitos determinados dentro del lenguaje. Estás palabras siempre están disponibles. Las palabras clave de Python son diferentes de las funciones y tipos incorporados de Python."
   ]
  },
  {
   "cell_type": "markdown",
   "metadata": {},
   "source": [
    "!!! question \"Una biblioteca en Python es un conjunto de funciones, módulos y paquetes\"\n",
    "    \n",
    "    - Verdadero\n",
    "    - Falso\n",
    "\n",
    "??? success \"Respuesta\"\n",
    "\n",
    "    - [x] Verdadero.\n",
    "  \n",
    "    En Python una biblioteca o librería como se ha popularizado, es un conjunto de funcionalidades (módulos y paquetes) que puede ser utilizado en uno o varios programas de forma simultánea y responden a tareas específicas."
   ]
  },
  {
   "cell_type": "markdown",
   "metadata": {},
   "source": [
    "!!! question \"¿Cómo se importan las bibliotecas/módulos en Python? Selecciona la opción correcta\"\n",
    "\n",
    "    ```py\n",
    "    a. import nombre_biblioteca\n",
    "    ```\n",
    "    \n",
    "    ```py\n",
    "    b. read nombre_biblioteca\n",
    "    ```\n",
    "\n",
    "    ```py\n",
    "    c. as nombre_biblioteca\n",
    "    ```\n",
    "\n",
    "    d. Ninguna de las anteriores.\n",
    "\n",
    "??? success \"Respuesta\"\n",
    "\n",
    "    - [x] `import nombre_biblioteca`.\n",
    "\n",
    "    Para importar bibliotecas, módulos y paquetes se utiliza la palabra `import` y el nombre de la biblioteca o paquete."
   ]
  },
  {
   "cell_type": "markdown",
   "metadata": {},
   "source": [
    "# Datos de tipo Fecha\n",
    "\n",
    "!!! question \"Para manejar las fechas y horas en Python debemos utilizar el módulo `datadate`\"\n",
    "\n",
    "    - Verdadero\n",
    "    - Falso\n",
    "\n",
    "??? success \"Respuesta\"\n",
    "     - [x] Falso.\n",
    "    El módulo de Python permite manejar fechas y horas es `datetime`, que forma parte de la biblioteca estándar."
   ]
  },
  {
   "cell_type": "markdown",
   "metadata": {},
   "source": []
  },
  {
   "cell_type": "markdown",
   "metadata": {},
   "source": [
    "!!! question \"En una celda de código crea una variable que contenga tu fecha actual. Luego crea otra variable con la fecha en la posición 3456 (`fromtimestamp`). Finalmente, calcula la diferencia entre esas dos fechas.\"\n",
    "\n",
    "??? success \"Respuesta\"\n",
    "\n",
    "    ```py\n",
    "    import datetime\n",
    "\n",
    "    hoy = datetime.datetime.today()\n",
    "    fecha = datetime.datetime.fromtimestamp(3456)\n",
    "\n",
    "    hoy - fecha\n",
    "    ```\n",
    "    ```py\n",
    "    datetime.timedelta(days=19188, seconds=54731, microseconds=754007)\n",
    "    ```"
   ]
  },
  {
   "cell_type": "markdown",
   "metadata": {},
   "source": [
    "# Comparación de funciones de Excel y funciones de Python"
   ]
  },
  {
   "cell_type": "markdown",
   "metadata": {},
   "source": [
    "!!! question \"Las funciones de Excel son imposibles de replicar en Python\"\n",
    "\n",
    "    - Verdadero\n",
    "    - Falso"
   ]
  },
  {
   "cell_type": "markdown",
   "metadata": {},
   "source": [
    "??? success \"Respuesta\"\n",
    "\n",
    "    - [x] Falso.\n",
    "    Las funciones de Excel se pueden replicar en Python, necesitamos conocer algunos módulos, bibliotecas o paquetes o simplemente crear nuestras propias funciones."
   ]
  },
  {
   "cell_type": "markdown",
   "metadata": {},
   "source": [
    "!!! question \"Si queremos calcular la raíz cuadrada de algunos valores, ¿qué función debería utilizar si hemos importado el módulo `math`?\"\n",
    "\n",
    "    - `sqrt`\n",
    "    - `root`\n",
    "    - `raiz`\n",
    "    - Ninguna de las anteriores"
   ]
  },
  {
   "cell_type": "markdown",
   "metadata": {},
   "source": [
    "??? success \"Respuesta\"\n",
    "\n",
    "    - [x]`sqrt`: Devuelve la raíz cuadrada de cualquier valor x."
   ]
  },
  {
   "cell_type": "markdown",
   "metadata": {},
   "source": [
    "!!! question \"La siguiente información corresponde a una factura, almacena los datos en\"\n",
    "\n",
    "    1. Dos listas\n",
    "    1. Dos tuplas\n",
    "    1. Una lista de listas en la que cada producto y su precio sea una lista.\n",
    "    1. Un diccionario \n",
    "   \n",
    "    <p align=\"center\"><img src=\"Factura.png\"><p>\n",
    "\n",
    "\n",
    "    Luego, determina cuál es el precio más alto, el precio mínimo, la cantidad de productos y la suma total de los precios de los productos. Esto a través de funciones de Python. "
   ]
  },
  {
   "cell_type": "markdown",
   "metadata": {},
   "source": [
    "??? success \"Respuesta\"\n",
    "    1. \n",
    "        ```py\n",
    "        productos = ['Arroz A', 'Arroz B', 'Pollo', 'Galletas', 'Champiñones']\n",
    "\n",
    "        precios = [2, 2.1, 8, 0.5, 10]\n",
    "        ```\n",
    "    1. \n",
    "        ```py  \n",
    "        productos_tupla = ('Arroz A', 'Arroz B', 'Pollo', 'Galletas', 'Champiñones')\n",
    "\n",
    "        precios_tupla = (2, 2.1, 8, 0.5, 10)\n",
    "        ```\n",
    "    1. \n",
    "        ```py\n",
    "        ll_productos = [['Arroz A', 2],\n",
    "            ['Arroz B', 2.1],\n",
    "            ['Pollo', 8],\n",
    "            ['Galletas', 0.5],\n",
    "            ['Champiñones', 10]]\n",
    "        ```\n",
    "    1. \n",
    "        ```py\n",
    "        dic_productos = {'Arroz A': 2,\n",
    "            'Arroz B': 2.1,\n",
    "            'Pollo': 8,\n",
    "            'Galletas': 0.5,\n",
    "            'Champiñones': 10}\n",
    "           \n",
    "        dic_productos = {'productos': productos, 'precios': precios}\n",
    "        ```\n",
    "    \n",
    "    - El precio más alto es 10, lo podemos calcular a partir de \n",
    "        ```py\n",
    "        max(precios)\n",
    "        ```\n",
    "    \n",
    "    - El precio mínimo es 0.5$, se puede calcular con\n",
    "        ```py\n",
    "        min(precios)\n",
    "        ```\n",
    "    - La cantidad total de productos \n",
    "        ```py\n",
    "        len(precios)\n",
    "        ```\n",
    "    - La suma total de los precios es 22.6\\$, se puede calcular mediante\n",
    "        ```py\n",
    "        sum(precios)\n",
    "        ```\n",
    "\n",
    "    !!! Note \"Si lo haces de forma distinta puedes dejarnos un comentario para conocer tus grandiosas ideas\""
   ]
  },
  {
   "cell_type": "markdown",
   "metadata": {},
   "source": []
  },
  {
   "cell_type": "markdown",
   "metadata": {},
   "source": []
  }
 ],
 "metadata": {
  "kernelspec": {
   "display_name": "Python 3.9.12",
   "language": "python",
   "name": "python3"
  },
  "language_info": {
   "codemirror_mode": {
    "name": "ipython",
    "version": 3
   },
   "file_extension": ".py",
   "mimetype": "text/x-python",
   "name": "python",
   "nbconvert_exporter": "python",
   "pygments_lexer": "ipython3",
   "version": "3.9.12"
  },
  "orig_nbformat": 4,
  "vscode": {
   "interpreter": {
    "hash": "3e27ff0bfd7bd929ddaad2e38f0fb3aff0ae308e4835c9a59811cf1b12680178"
   }
  }
 },
 "nbformat": 4,
 "nbformat_minor": 2
}
