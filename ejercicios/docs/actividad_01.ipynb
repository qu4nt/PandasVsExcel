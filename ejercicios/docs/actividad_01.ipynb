{
 "cells": [
  {
   "cell_type": "markdown",
   "metadata": {},
   "source": [
    "!!! question \"1. ¿Qué es Python? Selecciona una opción\"\n",
    "    <label><input type=\"radio\" name=\"p1\" value\"a\"> a. Un lenguaje de programaci&oacute;n</label></br>\n",
    "    <label><input type=\"radio\" name=\"p1\" value\"b\"> b. Un software especializado</label></br>\n",
    "    <label><input type=\"radio\" name=\"p1\" value\"c\"> c. Una cadena de negocios</label></br>\n",
    "    <label><input type=\"radio\" name=\"p1\" value\"d\"> d. Una comunidad de programadores</label></br>\n",
    "    \n",
    "\n",
    "    \n",
    "??? success \"Respuesta\"\n",
    "\n",
    "    - [x] a. Un lenguaje de programación\n",
    "  \n",
    "    Python es un lenguaje de programación de alto nivel, que apareció en 1991, fue Diseñado por Guido van Rossum.\n"
   ]
  },
  {
   "cell_type": "markdown",
   "metadata": {},
   "source": []
  },
  {
   "cell_type": "markdown",
   "metadata": {},
   "source": [
    "!!! question \"2. ¿Para cuáles de las siguientes tareas podría ser mejor utilizar Python en lugar de Excel?\"\n",
    "    <input type=\"checkbox\" id=\"P2R1\" name=\"P2R1\" value=\"a\">\n",
    "    <label for=\"P2R1\"> a. Un investigador debe transcribir sus datos.</label><br>\n",
    "    <input type=\"checkbox\" id=\"P2R2\" name=\"P2R2\" value=\"b\">\n",
    "    <label for=\"P2R2\"> b. Un analista de datos desea unir en un único archivo una serie de hojas de excel. Estos archivos están contenidos en una carpeta.</label><br>\n",
    "    <input type=\"checkbox\" id=\"P2R3\" name=\"P2R3\" value=\"c\">\n",
    "    <label for=\"P2R3\"> c. Crear una tabla para presentar resultados.</label><br>\n",
    "    <input type=\"checkbox\" id=\"P2R4\" name=\"P2R4\" value=\"d\">\n",
    "    <label for=\"P2R4\"> d. Editar datos con más de 2 millones de filas.</label><br>  "
   ]
  },
  {
   "cell_type": "markdown",
   "metadata": {},
   "source": [
    "??? success \"Respuesta\"\n",
    "    \n",
    "    - [x] b. Una analista de datos desea unir en un único archivo una serie de hojas de excel. Estos archivos están contenidos en una carpeta.\n",
    "    - [x] d. Editar datos con más de 2 millones de filas."
   ]
  },
  {
   "cell_type": "markdown",
   "metadata": {},
   "source": [
    "!!! question \"3. ¿Cuáles de las siguientes afirmaciones son verdaderas?\"\n",
    "    <input type=\"checkbox\" id=\"P3R1\" name=\"P3R1\" value=\"a\">\n",
    "    <label for=\"P3R1\"> a. Excel es una aplicación de paga.</label><br>\n",
    "    <input type=\"checkbox\" id=\"P3R2\" name=\"P3R2\" value=\"b\">\n",
    "    <label for=\"P3R2\"> b. Python solo está disponible para Windows.</label><br>\n",
    "    <input type=\"checkbox\" id=\"P3R3\" name=\"P3R3\" value=\"c\">\n",
    "    <label for=\"P3R3\"> c. Python permite crear aplicaciones.</label><br>\n",
    "    <input type=\"checkbox\" id=\"P3R4\" name=\"P3R4\" value=\"d\">\n",
    "    <label for=\"P3R4\"> d. Excel permite crear macros.</label><br>\n",
    "    <input type=\"checkbox\" id=\"P3R5\" name=\"P3R5\" value=\"d\">\n",
    "    <label for=\"P3R5\"> e. Excel es de código abierto.</label><br>   "
   ]
  },
  {
   "cell_type": "markdown",
   "metadata": {},
   "source": [
    "??? success \"Respuesta\"\n",
    "\n",
    "    - [x] a. Excel es una aplicación de paga.\n",
    "\n",
    "    - [x] c. Python permite crear aplicaciones.\n",
    "    \n",
    "    - [x] d. Excel permite crear macros.\n",
    "\n",
    "    Excel es una aplicación de paga de la compañía Microsoft, este permite agregar o crear macros para ampliar sus funcionalidades.\n",
    "\n",
    "    Por otro lado, Python es un *lenguaje* de programación que permite crear aplicaciones, analizar datos, construir objetos y desarrollar cosas interesantes. Está disponible para Windows, iMac y Linux es decir, es multiplataforma."
   ]
  }
 ],
 "metadata": {
  "kernelspec": {
   "display_name": "Python 3 (ipykernel)",
   "language": "python",
   "name": "python3"
  },
  "language_info": {
   "codemirror_mode": {
    "name": "ipython",
    "version": 3
   },
   "file_extension": ".py",
   "mimetype": "text/x-python",
   "name": "python",
   "nbconvert_exporter": "python",
   "pygments_lexer": "ipython3",
   "version": "3.9.13"
  },
  "vscode": {
   "interpreter": {
    "hash": "d66854944be7b24d750e3e3f9ddfd8a9240def69a627d1161a17a09f815f96c0"
   }
  }
 },
 "nbformat": 4,
 "nbformat_minor": 4
}
