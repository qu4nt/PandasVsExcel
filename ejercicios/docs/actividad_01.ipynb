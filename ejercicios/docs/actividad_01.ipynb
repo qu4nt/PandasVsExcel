{
 "cells": [
  {
   "cell_type": "markdown",
   "metadata": {},
   "source": [
    "!!! question \"¿Qué es Python? Selecciona una opción\"\n",
    "\n",
    "    a. Un lenguaje de programación\n",
    "\n",
    "    b. Un software especializado\n",
    "\n",
    "    c. Una cadena de negocios\n",
    "\n",
    "    d. Una comunidad de programadores\n",
    "??? success \"Respuesta\"\n",
    "\n",
    "    - [x] a. Un lenguaje de programación\n",
    "  \n",
    "    Python es un lenguaje de programación de alto nivel, que apareció en 1991, fue Diseñado por Guido van Rossum.\n"
   ]
  },
  {
   "cell_type": "markdown",
   "metadata": {},
   "source": [
    "!!! question \"¿Para cuáles de las siguientes tareas podría ser mejor utilizar Python en vez de Excel?\"\n",
    "\n",
    "    a. Un investigador debe transcribir sus datos.\n",
    "\n",
    "    b. Una analista de datos desea unir en un único archivo una serie de hojas de excel. Estos archivos están contenidos en una carpeta.\n",
    "\n",
    "    c. Crear una tabla para presentar resultados.\n",
    "\n",
    "    d. Editar datos con más de 2 millones de filas."
   ]
  },
  {
   "cell_type": "markdown",
   "metadata": {},
   "source": [
    "??? success \"Respuesta\"\n",
    "    \n",
    "    - [x] b. Una analista de datos desea unir en un único archivo una serie de hojas de excel. Estos archivos están contenidos en una carpeta.\n",
    "    - [x] d. Editar datos con más de 2 millones de filas."
   ]
  },
  {
   "cell_type": "markdown",
   "metadata": {},
   "source": [
    "!!! question \"¿Cuáles de las siguientes afirmaciones son verdaderas?\"\n",
    "\n",
    "    a. Excel es una aplicación de paga.\n",
    "\n",
    "    b. Python solo está disponible para Windows.\n",
    "\n",
    "    c. Python permite crear aplicaciones.\n",
    "\n",
    "    d. Excel permite crear macros.\n",
    "\n",
    "    e. Excel es de código abierto."
   ]
  },
  {
   "cell_type": "markdown",
   "metadata": {},
   "source": [
    "??? success \"Respuesta\"\n",
    "\n",
    "    - [x] a. Excel es una aplicación de paga.\n",
    "\n",
    "    - [x] c. Python permite crear aplicaciones.\n",
    "    \n",
    "    - [x] d. Excel permite crear macros.\n",
    "\n",
    "    Excel es una aplicación de paga de la compañía Microsoft, este permite agregar o crear macros para ampliar sus funcionalidades.\n",
    "\n",
    "    Por otro lado, Python es un *lenguaje* de programación que permite crear aplicaciones, analizar datos, construir objetos y desarrollar cosas interesantes. Está disponible para Windows, iMac y Linux es decir, es multiplataforma."
   ]
  }
 ],
 "metadata": {
  "kernelspec": {
   "display_name": "Python 3 (ipykernel)",
   "language": "python",
   "name": "python3"
  },
  "language_info": {
   "codemirror_mode": {
    "name": "ipython",
    "version": 3
   },
   "file_extension": ".py",
   "mimetype": "text/x-python",
   "name": "python",
   "nbconvert_exporter": "python",
   "pygments_lexer": "ipython3",
   "version": "3.9.12"
  },
  "vscode": {
   "interpreter": {
    "hash": "d66854944be7b24d750e3e3f9ddfd8a9240def69a627d1161a17a09f815f96c0"
   }
  }
 },
 "nbformat": 4,
 "nbformat_minor": 4
}
