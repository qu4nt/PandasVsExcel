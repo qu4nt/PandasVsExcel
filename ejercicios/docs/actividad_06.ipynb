{
 "cells": [
  {
   "cell_type": "markdown",
   "metadata": {},
   "source": [
    "# Gráficos con *pandas*"
   ]
  },
  {
   "cell_type": "markdown",
   "metadata": {},
   "source": [
    "!!! question \"El gráfico circular, ¿es adecuado para representar valores numéricos como precios?\"\n",
    "\n",
    "    1. Verdadero\n",
    "    2. Falso\n",
    "\n",
    "??? success \"Respuesta\"\n",
    "\n",
    "    Falso. Los gráficos circulares se utilizan para representar valores categóricos o numéricos agrupados."
   ]
  },
  {
   "cell_type": "markdown",
   "metadata": {},
   "source": [
    "!!! question \"Los gráficos de barras y los histogramas son sinónimos y se utilizan para llamar aquellos gráficos en lo que se trazan barras\"\n",
    "\n",
    " 1. Verdadero\n",
    " 2. Falso\n",
    "\n",
    "Falso. Los gráficos de barras permiten representar categorías mientras que los histogramas permiten mostrar la distribución de los datos."
   ]
  },
  {
   "cell_type": "markdown",
   "metadata": {},
   "source": [
    "!!! question \"Para los datos que utilizaste en la actividad anterior, correspondientes al índice per capita en Latinoamérica calculado por la [FAO](https://www.fao.org).\"\n",
    "\n",
    "    Elabora lo siguiente:\n",
    "\n",
    "    1. Un gráfico que contenga la producción anual de Colombia\n",
    "    2. Un gráfico que contenga las producciones anuales de todos los países en los datos\n",
    "    3. Un gráfico que tenga los promedios de la producción"
   ]
  },
  {
   "cell_type": "markdown",
   "metadata": {},
   "source": [
    "!!! question \"Para los datos almacenados en un archivo .csv aquí, correspondientes al índice de producción de frutas y verduras, realiza un gráfico circular para representar los índices de producción de manzanas (Apples) de todos los países de Latinoamérica y el Caribe. También realiza un gráfico para los índices de producción por países para los aguacates (Avocados)\""
   ]
  }
 ],
 "metadata": {
  "kernelspec": {
   "display_name": "Python 3.9.12 ('base')",
   "language": "python",
   "name": "python3"
  },
  "language_info": {
   "name": "python",
   "version": "3.9.13"
  },
  "orig_nbformat": 4,
  "vscode": {
   "interpreter": {
    "hash": "6b8819bfb8d6d1fa253415254b1ff8b3968fe2cb7c50eb36e0a74168de245d41"
   }
  }
 },
 "nbformat": 4,
 "nbformat_minor": 2
}
