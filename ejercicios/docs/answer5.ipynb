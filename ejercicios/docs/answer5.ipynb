{
 "cells": [
  {
   "cell_type": "code",
   "execution_count": 1,
   "metadata": {},
   "outputs": [],
   "source": [
    "import pandas as pd\n",
    "import numpy as np"
   ]
  },
  {
   "cell_type": "markdown",
   "metadata": {},
   "source": [
    "## Datos de índices de producción."
   ]
  },
  {
   "cell_type": "markdown",
   "metadata": {},
   "source": [
    "1. Importar el archivo xls.\n",
    "\n",
    "    Como conocemos el tipo de datos de varios nombres de columnas, la importación de los datos es:"
   ]
  },
  {
   "cell_type": "code",
   "execution_count": 2,
   "metadata": {},
   "outputs": [],
   "source": [
    "df = pd.read_excel('data/FAOSTAT_data_en_8-19-2022.xls',\n",
    "                   dtype={'Domain Code':str,\n",
    "                          'Domain':'category',\n",
    "                          'Area Code (FAO)':\"category\",\n",
    "                          'Element Code':'category',\n",
    "                          'Element':'category',\n",
    "                          'Item Code (FAO)':'category',\n",
    "                          'Item':'category',\n",
    "                          'Year Code':'category',\n",
    "                          'Unit':'category',\n",
    "                          'Value': float,\n",
    "                          'Flag':'category',\n",
    "                          'Flag Description':str\n",
    "})"
   ]
  },
  {
   "cell_type": "markdown",
   "metadata": {},
   "source": [
    "2. Utiliza las funciones que te permitan ver las tres primeras y las tres últimas filas.\n",
    "\n",
    "   Las funciones adeacuadas para esto son `head` y `tail`"
   ]
  },
  {
   "cell_type": "code",
   "execution_count": 3,
   "metadata": {},
   "outputs": [
    {
     "data": {
      "text/html": [
       "<div>\n",
       "<style scoped>\n",
       "    .dataframe tbody tr th:only-of-type {\n",
       "        vertical-align: middle;\n",
       "    }\n",
       "\n",
       "    .dataframe tbody tr th {\n",
       "        vertical-align: top;\n",
       "    }\n",
       "\n",
       "    .dataframe thead th {\n",
       "        text-align: right;\n",
       "    }\n",
       "</style>\n",
       "<table border=\"1\" class=\"dataframe\">\n",
       "  <thead>\n",
       "    <tr style=\"text-align: right;\">\n",
       "      <th></th>\n",
       "      <th>Domain Code</th>\n",
       "      <th>Domain</th>\n",
       "      <th>Area Code (FAO)</th>\n",
       "      <th>Area</th>\n",
       "      <th>Element Code</th>\n",
       "      <th>Element</th>\n",
       "      <th>Item Code (FAO)</th>\n",
       "      <th>Item</th>\n",
       "      <th>Year Code</th>\n",
       "      <th>Year</th>\n",
       "      <th>Unit</th>\n",
       "      <th>Value</th>\n",
       "      <th>Flag</th>\n",
       "      <th>Flag Description</th>\n",
       "    </tr>\n",
       "  </thead>\n",
       "  <tbody>\n",
       "    <tr>\n",
       "      <th>0</th>\n",
       "      <td>QI</td>\n",
       "      <td>Production Indices</td>\n",
       "      <td>9</td>\n",
       "      <td>Argentina</td>\n",
       "      <td>434</td>\n",
       "      <td>Gross per capita Production Index Number (2014...</td>\n",
       "      <td>1739</td>\n",
       "      <td>Vegetables and Fruit Primary</td>\n",
       "      <td>2016</td>\n",
       "      <td>2016</td>\n",
       "      <td>index</td>\n",
       "      <td>91.49</td>\n",
       "      <td>Fc</td>\n",
       "      <td>Calculated data</td>\n",
       "    </tr>\n",
       "    <tr>\n",
       "      <th>1</th>\n",
       "      <td>QI</td>\n",
       "      <td>Production Indices</td>\n",
       "      <td>9</td>\n",
       "      <td>Argentina</td>\n",
       "      <td>434</td>\n",
       "      <td>Gross per capita Production Index Number (2014...</td>\n",
       "      <td>1739</td>\n",
       "      <td>Vegetables and Fruit Primary</td>\n",
       "      <td>2017</td>\n",
       "      <td>2017</td>\n",
       "      <td>index</td>\n",
       "      <td>91.19</td>\n",
       "      <td>Fc</td>\n",
       "      <td>Calculated data</td>\n",
       "    </tr>\n",
       "    <tr>\n",
       "      <th>2</th>\n",
       "      <td>QI</td>\n",
       "      <td>Production Indices</td>\n",
       "      <td>9</td>\n",
       "      <td>Argentina</td>\n",
       "      <td>434</td>\n",
       "      <td>Gross per capita Production Index Number (2014...</td>\n",
       "      <td>1739</td>\n",
       "      <td>Vegetables and Fruit Primary</td>\n",
       "      <td>2018</td>\n",
       "      <td>2018</td>\n",
       "      <td>index</td>\n",
       "      <td>105.26</td>\n",
       "      <td>Fc</td>\n",
       "      <td>Calculated data</td>\n",
       "    </tr>\n",
       "  </tbody>\n",
       "</table>\n",
       "</div>"
      ],
      "text/plain": [
       "  Domain Code              Domain Area Code (FAO)       Area Element Code  \\\n",
       "0          QI  Production Indices               9  Argentina          434   \n",
       "1          QI  Production Indices               9  Argentina          434   \n",
       "2          QI  Production Indices               9  Argentina          434   \n",
       "\n",
       "                                             Element Item Code (FAO)  \\\n",
       "0  Gross per capita Production Index Number (2014...            1739   \n",
       "1  Gross per capita Production Index Number (2014...            1739   \n",
       "2  Gross per capita Production Index Number (2014...            1739   \n",
       "\n",
       "                           Item Year Code  Year   Unit   Value Flag  \\\n",
       "0  Vegetables and Fruit Primary      2016  2016  index   91.49   Fc   \n",
       "1  Vegetables and Fruit Primary      2017  2017  index   91.19   Fc   \n",
       "2  Vegetables and Fruit Primary      2018  2018  index  105.26   Fc   \n",
       "\n",
       "  Flag Description  \n",
       "0  Calculated data  \n",
       "1  Calculated data  \n",
       "2  Calculated data  "
      ]
     },
     "execution_count": 3,
     "metadata": {},
     "output_type": "execute_result"
    }
   ],
   "source": [
    "df.head(3)"
   ]
  },
  {
   "cell_type": "code",
   "execution_count": 4,
   "metadata": {},
   "outputs": [
    {
     "data": {
      "text/html": [
       "<div>\n",
       "<style scoped>\n",
       "    .dataframe tbody tr th:only-of-type {\n",
       "        vertical-align: middle;\n",
       "    }\n",
       "\n",
       "    .dataframe tbody tr th {\n",
       "        vertical-align: top;\n",
       "    }\n",
       "\n",
       "    .dataframe thead th {\n",
       "        text-align: right;\n",
       "    }\n",
       "</style>\n",
       "<table border=\"1\" class=\"dataframe\">\n",
       "  <thead>\n",
       "    <tr style=\"text-align: right;\">\n",
       "      <th></th>\n",
       "      <th>Domain Code</th>\n",
       "      <th>Domain</th>\n",
       "      <th>Area Code (FAO)</th>\n",
       "      <th>Area</th>\n",
       "      <th>Element Code</th>\n",
       "      <th>Element</th>\n",
       "      <th>Item Code (FAO)</th>\n",
       "      <th>Item</th>\n",
       "      <th>Year Code</th>\n",
       "      <th>Year</th>\n",
       "      <th>Unit</th>\n",
       "      <th>Value</th>\n",
       "      <th>Flag</th>\n",
       "      <th>Flag Description</th>\n",
       "    </tr>\n",
       "  </thead>\n",
       "  <tbody>\n",
       "    <tr>\n",
       "      <th>57</th>\n",
       "      <td>QI</td>\n",
       "      <td>Production Indices</td>\n",
       "      <td>236</td>\n",
       "      <td>Venezuela (Bolivarian Republic of)</td>\n",
       "      <td>434</td>\n",
       "      <td>Gross per capita Production Index Number (2014...</td>\n",
       "      <td>1739</td>\n",
       "      <td>Vegetables and Fruit Primary</td>\n",
       "      <td>2018</td>\n",
       "      <td>2018</td>\n",
       "      <td>index</td>\n",
       "      <td>98.87</td>\n",
       "      <td>Fc</td>\n",
       "      <td>Calculated data</td>\n",
       "    </tr>\n",
       "    <tr>\n",
       "      <th>58</th>\n",
       "      <td>QI</td>\n",
       "      <td>Production Indices</td>\n",
       "      <td>236</td>\n",
       "      <td>Venezuela (Bolivarian Republic of)</td>\n",
       "      <td>434</td>\n",
       "      <td>Gross per capita Production Index Number (2014...</td>\n",
       "      <td>1739</td>\n",
       "      <td>Vegetables and Fruit Primary</td>\n",
       "      <td>2019</td>\n",
       "      <td>2019</td>\n",
       "      <td>index</td>\n",
       "      <td>99.89</td>\n",
       "      <td>Fc</td>\n",
       "      <td>Calculated data</td>\n",
       "    </tr>\n",
       "    <tr>\n",
       "      <th>59</th>\n",
       "      <td>QI</td>\n",
       "      <td>Production Indices</td>\n",
       "      <td>236</td>\n",
       "      <td>Venezuela (Bolivarian Republic of)</td>\n",
       "      <td>434</td>\n",
       "      <td>Gross per capita Production Index Number (2014...</td>\n",
       "      <td>1739</td>\n",
       "      <td>Vegetables and Fruit Primary</td>\n",
       "      <td>2020</td>\n",
       "      <td>2020</td>\n",
       "      <td>index</td>\n",
       "      <td>102.21</td>\n",
       "      <td>Fc</td>\n",
       "      <td>Calculated data</td>\n",
       "    </tr>\n",
       "  </tbody>\n",
       "</table>\n",
       "</div>"
      ],
      "text/plain": [
       "   Domain Code              Domain Area Code (FAO)  \\\n",
       "57          QI  Production Indices             236   \n",
       "58          QI  Production Indices             236   \n",
       "59          QI  Production Indices             236   \n",
       "\n",
       "                                  Area Element Code  \\\n",
       "57  Venezuela (Bolivarian Republic of)          434   \n",
       "58  Venezuela (Bolivarian Republic of)          434   \n",
       "59  Venezuela (Bolivarian Republic of)          434   \n",
       "\n",
       "                                              Element Item Code (FAO)  \\\n",
       "57  Gross per capita Production Index Number (2014...            1739   \n",
       "58  Gross per capita Production Index Number (2014...            1739   \n",
       "59  Gross per capita Production Index Number (2014...            1739   \n",
       "\n",
       "                            Item Year Code  Year   Unit   Value Flag  \\\n",
       "57  Vegetables and Fruit Primary      2018  2018  index   98.87   Fc   \n",
       "58  Vegetables and Fruit Primary      2019  2019  index   99.89   Fc   \n",
       "59  Vegetables and Fruit Primary      2020  2020  index  102.21   Fc   \n",
       "\n",
       "   Flag Description  \n",
       "57  Calculated data  \n",
       "58  Calculated data  \n",
       "59  Calculated data  "
      ]
     },
     "execution_count": 4,
     "metadata": {},
     "output_type": "execute_result"
    }
   ],
   "source": [
    "df.tail(3)"
   ]
  },
  {
   "cell_type": "markdown",
   "metadata": {},
   "source": [
    "3. ¿Cuántas y cuáles son las columnas que tiene el archivo?"
   ]
  },
  {
   "cell_type": "code",
   "execution_count": 5,
   "metadata": {},
   "outputs": [
    {
     "data": {
      "text/plain": [
       "14"
      ]
     },
     "execution_count": 5,
     "metadata": {},
     "output_type": "execute_result"
    }
   ],
   "source": [
    "len(df.columns)"
   ]
  },
  {
   "cell_type": "markdown",
   "metadata": {},
   "source": [
    "El archivo contiene 14 columnas. Podemos ver sus nombres con "
   ]
  },
  {
   "cell_type": "code",
   "execution_count": 6,
   "metadata": {},
   "outputs": [
    {
     "data": {
      "text/plain": [
       "Index(['Domain Code', 'Domain', 'Area Code (FAO)', 'Area', 'Element Code',\n",
       "       'Element', 'Item Code (FAO)', 'Item', 'Year Code', 'Year', 'Unit',\n",
       "       'Value', 'Flag', 'Flag Description'],\n",
       "      dtype='object')"
      ]
     },
     "execution_count": 6,
     "metadata": {},
     "output_type": "execute_result"
    }
   ],
   "source": [
    "df.columns"
   ]
  },
  {
   "cell_type": "markdown",
   "metadata": {},
   "source": [
    "4. ¿Cuáles son los tipos de datos almacenados? ¿Qué devuelve las funciones dtypes y type?"
   ]
  },
  {
   "cell_type": "markdown",
   "metadata": {},
   "source": [
    "Los tipos de datos almacenados los podemos ver con la función `dtypes` o con `info`. Con esta última tenemos acceso a más información sobre nuestros datos como la cantidad de columnas, filas, valores faltantes y el espacio que ocupa en memoria."
   ]
  },
  {
   "cell_type": "code",
   "execution_count": 7,
   "metadata": {},
   "outputs": [
    {
     "data": {
      "text/plain": [
       "Domain Code           object\n",
       "Domain              category\n",
       "Area Code (FAO)     category\n",
       "Area                  object\n",
       "Element Code        category\n",
       "Element             category\n",
       "Item Code (FAO)     category\n",
       "Item                category\n",
       "Year Code           category\n",
       "Year                   int64\n",
       "Unit                category\n",
       "Value                float64\n",
       "Flag                category\n",
       "Flag Description      object\n",
       "dtype: object"
      ]
     },
     "execution_count": 7,
     "metadata": {},
     "output_type": "execute_result"
    }
   ],
   "source": [
    "df.dtypes"
   ]
  },
  {
   "cell_type": "code",
   "execution_count": 8,
   "metadata": {},
   "outputs": [
    {
     "name": "stdout",
     "output_type": "stream",
     "text": [
      "<class 'pandas.core.frame.DataFrame'>\n",
      "RangeIndex: 60 entries, 0 to 59\n",
      "Data columns (total 14 columns):\n",
      " #   Column            Non-Null Count  Dtype   \n",
      "---  ------            --------------  -----   \n",
      " 0   Domain Code       60 non-null     object  \n",
      " 1   Domain            60 non-null     category\n",
      " 2   Area Code (FAO)   60 non-null     category\n",
      " 3   Area              60 non-null     object  \n",
      " 4   Element Code      60 non-null     category\n",
      " 5   Element           60 non-null     category\n",
      " 6   Item Code (FAO)   60 non-null     category\n",
      " 7   Item              60 non-null     category\n",
      " 8   Year Code         60 non-null     category\n",
      " 9   Year              60 non-null     int64   \n",
      " 10  Unit              60 non-null     category\n",
      " 11  Value             60 non-null     float64 \n",
      " 12  Flag              60 non-null     category\n",
      " 13  Flag Description  60 non-null     object  \n",
      "dtypes: category(9), float64(1), int64(1), object(3)\n",
      "memory usage: 3.5+ KB\n"
     ]
    }
   ],
   "source": [
    "df.info()"
   ]
  },
  {
   "cell_type": "code",
   "execution_count": 9,
   "metadata": {},
   "outputs": [
    {
     "data": {
      "text/plain": [
       "pandas.core.frame.DataFrame"
      ]
     },
     "execution_count": 9,
     "metadata": {},
     "output_type": "execute_result"
    }
   ],
   "source": [
    "type(df)"
   ]
  },
  {
   "cell_type": "markdown",
   "metadata": {},
   "source": [
    "La función type aplicado al objeto que almacena nuestros datos devuelve, como se observa, que es de tipo DataFrame. Si lo aplicamos a cada columna en particular devolverá que es una Serie y si la aplicamos a cada valor particular devolverá su tipo. Por ejemplo,"
   ]
  },
  {
   "cell_type": "code",
   "execution_count": 10,
   "metadata": {},
   "outputs": [
    {
     "data": {
      "text/plain": [
       "pandas.core.series.Series"
      ]
     },
     "execution_count": 10,
     "metadata": {},
     "output_type": "execute_result"
    }
   ],
   "source": [
    "type(df.Value)"
   ]
  },
  {
   "cell_type": "code",
   "execution_count": 11,
   "metadata": {},
   "outputs": [
    {
     "data": {
      "text/plain": [
       "numpy.float64"
      ]
     },
     "execution_count": 11,
     "metadata": {},
     "output_type": "execute_result"
    }
   ],
   "source": [
    "type(df.Value[0])"
   ]
  },
  {
   "cell_type": "markdown",
   "metadata": {},
   "source": [
    "type(df)"
   ]
  },
  {
   "cell_type": "markdown",
   "metadata": {},
   "source": [
    "5. ¿Hay valores nulos en los datos?\n",
    "\n",
    "   A partir de info podemos notar que no existen valores nulos o vacíos. Para asegurarnos de ello podemos utilizar la función `isna`."
   ]
  },
  {
   "cell_type": "code",
   "execution_count": 12,
   "metadata": {},
   "outputs": [
    {
     "data": {
      "text/plain": [
       "Domain Code         0\n",
       "Domain              0\n",
       "Area Code (FAO)     0\n",
       "Area                0\n",
       "Element Code        0\n",
       "Element             0\n",
       "Item Code (FAO)     0\n",
       "Item                0\n",
       "Year Code           0\n",
       "Year                0\n",
       "Unit                0\n",
       "Value               0\n",
       "Flag                0\n",
       "Flag Description    0\n",
       "dtype: int64"
      ]
     },
     "execution_count": 12,
     "metadata": {},
     "output_type": "execute_result"
    }
   ],
   "source": [
    "df.isna().sum()"
   ]
  },
  {
   "cell_type": "markdown",
   "metadata": {},
   "source": [
    "6. Consulta el índice y verifica que sea una lista ordenada de números.\n",
    "\n",
    "    Al igual que en el caso anterior se pudo haber utilizado la función info para responder esta pregunta, pero vamos a usar index que nos muestra las características del índice en nuestro DataFrame."
   ]
  },
  {
   "cell_type": "code",
   "execution_count": 13,
   "metadata": {},
   "outputs": [
    {
     "data": {
      "text/plain": [
       "RangeIndex(start=0, stop=60, step=1)"
      ]
     },
     "execution_count": 13,
     "metadata": {},
     "output_type": "execute_result"
    }
   ],
   "source": [
    "df.index"
   ]
  },
  {
   "cell_type": "markdown",
   "metadata": {},
   "source": [
    "7. Accede a la columna `Area` y utiliza una función para contar la cantidad de apariciones de cada valor.\n",
    "\n",
    "    Para esto podemos utilizar la función value_counts."
   ]
  },
  {
   "cell_type": "code",
   "execution_count": 14,
   "metadata": {},
   "outputs": [
    {
     "data": {
      "text/plain": [
       "Argentina                             5\n",
       "Bolivia (Plurinational State of)      5\n",
       "Brazil                                5\n",
       "Chile                                 5\n",
       "Colombia                              5\n",
       "Ecuador                               5\n",
       "Guyana                                5\n",
       "Paraguay                              5\n",
       "Peru                                  5\n",
       "Suriname                              5\n",
       "Uruguay                               5\n",
       "Venezuela (Bolivarian Republic of)    5\n",
       "Name: Area, dtype: int64"
      ]
     },
     "execution_count": 14,
     "metadata": {},
     "output_type": "execute_result"
    }
   ],
   "source": [
    "df.Area.value_counts()"
   ]
  },
  {
   "cell_type": "markdown",
   "metadata": {},
   "source": [
    "Otra manera de contar estos valores es a partir de groupby"
   ]
  },
  {
   "cell_type": "code",
   "execution_count": 31,
   "metadata": {},
   "outputs": [
    {
     "data": {
      "text/plain": [
       "Area\n",
       "Argentina                             5\n",
       "Bolivia (Plurinational State of)      5\n",
       "Brazil                                5\n",
       "Chile                                 5\n",
       "Colombia                              5\n",
       "Ecuador                               5\n",
       "Guyana                                5\n",
       "Paraguay                              5\n",
       "Peru                                  5\n",
       "Suriname                              5\n",
       "Uruguay                               5\n",
       "Venezuela (Bolivarian Republic of)    5\n",
       "Name: Item, dtype: int64"
      ]
     },
     "execution_count": 31,
     "metadata": {},
     "output_type": "execute_result"
    }
   ],
   "source": [
    "df.groupby(\"Area\").count()['Item']"
   ]
  },
  {
   "cell_type": "markdown",
   "metadata": {},
   "source": [
    "Con una función de agregación:"
   ]
  },
  {
   "cell_type": "code",
   "execution_count": 35,
   "metadata": {},
   "outputs": [
    {
     "data": {
      "text/html": [
       "<div>\n",
       "<style scoped>\n",
       "    .dataframe tbody tr th:only-of-type {\n",
       "        vertical-align: middle;\n",
       "    }\n",
       "\n",
       "    .dataframe tbody tr th {\n",
       "        vertical-align: top;\n",
       "    }\n",
       "\n",
       "    .dataframe thead th {\n",
       "        text-align: right;\n",
       "    }\n",
       "</style>\n",
       "<table border=\"1\" class=\"dataframe\">\n",
       "  <thead>\n",
       "    <tr style=\"text-align: right;\">\n",
       "      <th></th>\n",
       "      <th>Area</th>\n",
       "    </tr>\n",
       "  </thead>\n",
       "  <tbody>\n",
       "    <tr>\n",
       "      <th>Argentina</th>\n",
       "      <td>5</td>\n",
       "    </tr>\n",
       "    <tr>\n",
       "      <th>Bolivia (Plurinational State of)</th>\n",
       "      <td>5</td>\n",
       "    </tr>\n",
       "    <tr>\n",
       "      <th>Brazil</th>\n",
       "      <td>5</td>\n",
       "    </tr>\n",
       "    <tr>\n",
       "      <th>Chile</th>\n",
       "      <td>5</td>\n",
       "    </tr>\n",
       "    <tr>\n",
       "      <th>Colombia</th>\n",
       "      <td>5</td>\n",
       "    </tr>\n",
       "    <tr>\n",
       "      <th>Ecuador</th>\n",
       "      <td>5</td>\n",
       "    </tr>\n",
       "    <tr>\n",
       "      <th>Guyana</th>\n",
       "      <td>5</td>\n",
       "    </tr>\n",
       "    <tr>\n",
       "      <th>Paraguay</th>\n",
       "      <td>5</td>\n",
       "    </tr>\n",
       "    <tr>\n",
       "      <th>Peru</th>\n",
       "      <td>5</td>\n",
       "    </tr>\n",
       "    <tr>\n",
       "      <th>Suriname</th>\n",
       "      <td>5</td>\n",
       "    </tr>\n",
       "    <tr>\n",
       "      <th>Uruguay</th>\n",
       "      <td>5</td>\n",
       "    </tr>\n",
       "    <tr>\n",
       "      <th>Venezuela (Bolivarian Republic of)</th>\n",
       "      <td>5</td>\n",
       "    </tr>\n",
       "  </tbody>\n",
       "</table>\n",
       "</div>"
      ],
      "text/plain": [
       "                                    Area\n",
       "Argentina                              5\n",
       "Bolivia (Plurinational State of)       5\n",
       "Brazil                                 5\n",
       "Chile                                  5\n",
       "Colombia                               5\n",
       "Ecuador                                5\n",
       "Guyana                                 5\n",
       "Paraguay                               5\n",
       "Peru                                   5\n",
       "Suriname                               5\n",
       "Uruguay                                5\n",
       "Venezuela (Bolivarian Republic of)     5"
      ]
     },
     "execution_count": 35,
     "metadata": {},
     "output_type": "execute_result"
    }
   ],
   "source": [
    "df.aggregate({\"Area\":'value_counts'})"
   ]
  },
  {
   "cell_type": "markdown",
   "metadata": {},
   "source": [
    "8. Del ítem anterior, ¿cuántos países hay en los datos?"
   ]
  },
  {
   "cell_type": "code",
   "execution_count": 15,
   "metadata": {},
   "outputs": [
    {
     "data": {
      "text/plain": [
       "12"
      ]
     },
     "execution_count": 15,
     "metadata": {},
     "output_type": "execute_result"
    }
   ],
   "source": [
    "len(df.Area.value_counts())"
   ]
  },
  {
   "cell_type": "markdown",
   "metadata": {},
   "source": [
    "Se han almacenado 12 valores para los países."
   ]
  },
  {
   "cell_type": "markdown",
   "metadata": {},
   "source": [
    "9. Convierte la columna Year a tipo datetime utilizando pd.to_datetime(df.Year, format=\"%Y\")"
   ]
  },
  {
   "cell_type": "code",
   "execution_count": 16,
   "metadata": {},
   "outputs": [],
   "source": [
    "df.Year = pd.to_datetime(df.Year, format=\"%Y\")"
   ]
  },
  {
   "cell_type": "markdown",
   "metadata": {},
   "source": [
    "10. Aplica un filtro para Year en el que obtengas la información de 2020 y luego calcula el máximo a Value. ¿A qué país corresponde el valor hallado?"
   ]
  },
  {
   "cell_type": "markdown",
   "metadata": {},
   "source": [
    "Se puede aplicar el filtro a partir de una consulta"
   ]
  },
  {
   "cell_type": "code",
   "execution_count": 45,
   "metadata": {},
   "outputs": [
    {
     "data": {
      "text/html": [
       "<div>\n",
       "<style scoped>\n",
       "    .dataframe tbody tr th:only-of-type {\n",
       "        vertical-align: middle;\n",
       "    }\n",
       "\n",
       "    .dataframe tbody tr th {\n",
       "        vertical-align: top;\n",
       "    }\n",
       "\n",
       "    .dataframe thead th {\n",
       "        text-align: right;\n",
       "    }\n",
       "</style>\n",
       "<table border=\"1\" class=\"dataframe\">\n",
       "  <thead>\n",
       "    <tr style=\"text-align: right;\">\n",
       "      <th></th>\n",
       "      <th>Domain Code</th>\n",
       "      <th>Domain</th>\n",
       "      <th>Area Code (FAO)</th>\n",
       "      <th>Area</th>\n",
       "      <th>Element Code</th>\n",
       "      <th>Element</th>\n",
       "      <th>Item Code (FAO)</th>\n",
       "      <th>Item</th>\n",
       "      <th>Year Code</th>\n",
       "      <th>Year</th>\n",
       "      <th>Unit</th>\n",
       "      <th>Value</th>\n",
       "      <th>Flag</th>\n",
       "      <th>Flag Description</th>\n",
       "    </tr>\n",
       "  </thead>\n",
       "  <tbody>\n",
       "    <tr>\n",
       "      <th>4</th>\n",
       "      <td>QI</td>\n",
       "      <td>Production Indices</td>\n",
       "      <td>9</td>\n",
       "      <td>Argentina</td>\n",
       "      <td>434</td>\n",
       "      <td>Gross per capita Production Index Number (2014...</td>\n",
       "      <td>1739</td>\n",
       "      <td>Vegetables and Fruit Primary</td>\n",
       "      <td>2020</td>\n",
       "      <td>2020-01-01</td>\n",
       "      <td>index</td>\n",
       "      <td>94.69</td>\n",
       "      <td>Fc</td>\n",
       "      <td>Calculated data</td>\n",
       "    </tr>\n",
       "    <tr>\n",
       "      <th>9</th>\n",
       "      <td>QI</td>\n",
       "      <td>Production Indices</td>\n",
       "      <td>19</td>\n",
       "      <td>Bolivia (Plurinational State of)</td>\n",
       "      <td>434</td>\n",
       "      <td>Gross per capita Production Index Number (2014...</td>\n",
       "      <td>1739</td>\n",
       "      <td>Vegetables and Fruit Primary</td>\n",
       "      <td>2020</td>\n",
       "      <td>2020-01-01</td>\n",
       "      <td>index</td>\n",
       "      <td>100.34</td>\n",
       "      <td>Fc</td>\n",
       "      <td>Calculated data</td>\n",
       "    </tr>\n",
       "    <tr>\n",
       "      <th>14</th>\n",
       "      <td>QI</td>\n",
       "      <td>Production Indices</td>\n",
       "      <td>21</td>\n",
       "      <td>Brazil</td>\n",
       "      <td>434</td>\n",
       "      <td>Gross per capita Production Index Number (2014...</td>\n",
       "      <td>1739</td>\n",
       "      <td>Vegetables and Fruit Primary</td>\n",
       "      <td>2020</td>\n",
       "      <td>2020-01-01</td>\n",
       "      <td>index</td>\n",
       "      <td>97.20</td>\n",
       "      <td>Fc</td>\n",
       "      <td>Calculated data</td>\n",
       "    </tr>\n",
       "    <tr>\n",
       "      <th>19</th>\n",
       "      <td>QI</td>\n",
       "      <td>Production Indices</td>\n",
       "      <td>40</td>\n",
       "      <td>Chile</td>\n",
       "      <td>434</td>\n",
       "      <td>Gross per capita Production Index Number (2014...</td>\n",
       "      <td>1739</td>\n",
       "      <td>Vegetables and Fruit Primary</td>\n",
       "      <td>2020</td>\n",
       "      <td>2020-01-01</td>\n",
       "      <td>index</td>\n",
       "      <td>101.58</td>\n",
       "      <td>Fc</td>\n",
       "      <td>Calculated data</td>\n",
       "    </tr>\n",
       "    <tr>\n",
       "      <th>24</th>\n",
       "      <td>QI</td>\n",
       "      <td>Production Indices</td>\n",
       "      <td>44</td>\n",
       "      <td>Colombia</td>\n",
       "      <td>434</td>\n",
       "      <td>Gross per capita Production Index Number (2014...</td>\n",
       "      <td>1739</td>\n",
       "      <td>Vegetables and Fruit Primary</td>\n",
       "      <td>2020</td>\n",
       "      <td>2020-01-01</td>\n",
       "      <td>index</td>\n",
       "      <td>96.38</td>\n",
       "      <td>Fc</td>\n",
       "      <td>Calculated data</td>\n",
       "    </tr>\n",
       "  </tbody>\n",
       "</table>\n",
       "</div>"
      ],
      "text/plain": [
       "   Domain Code              Domain Area Code (FAO)  \\\n",
       "4           QI  Production Indices               9   \n",
       "9           QI  Production Indices              19   \n",
       "14          QI  Production Indices              21   \n",
       "19          QI  Production Indices              40   \n",
       "24          QI  Production Indices              44   \n",
       "\n",
       "                                Area Element Code  \\\n",
       "4                          Argentina          434   \n",
       "9   Bolivia (Plurinational State of)          434   \n",
       "14                            Brazil          434   \n",
       "19                             Chile          434   \n",
       "24                          Colombia          434   \n",
       "\n",
       "                                              Element Item Code (FAO)  \\\n",
       "4   Gross per capita Production Index Number (2014...            1739   \n",
       "9   Gross per capita Production Index Number (2014...            1739   \n",
       "14  Gross per capita Production Index Number (2014...            1739   \n",
       "19  Gross per capita Production Index Number (2014...            1739   \n",
       "24  Gross per capita Production Index Number (2014...            1739   \n",
       "\n",
       "                            Item Year Code       Year   Unit   Value Flag  \\\n",
       "4   Vegetables and Fruit Primary      2020 2020-01-01  index   94.69   Fc   \n",
       "9   Vegetables and Fruit Primary      2020 2020-01-01  index  100.34   Fc   \n",
       "14  Vegetables and Fruit Primary      2020 2020-01-01  index   97.20   Fc   \n",
       "19  Vegetables and Fruit Primary      2020 2020-01-01  index  101.58   Fc   \n",
       "24  Vegetables and Fruit Primary      2020 2020-01-01  index   96.38   Fc   \n",
       "\n",
       "   Flag Description  \n",
       "4   Calculated data  \n",
       "9   Calculated data  \n",
       "14  Calculated data  \n",
       "19  Calculated data  \n",
       "24  Calculated data  "
      ]
     },
     "execution_count": 45,
     "metadata": {},
     "output_type": "execute_result"
    }
   ],
   "source": [
    "year_2020 = df.query(\"Year == 2020\")\n",
    "year_2020.head()"
   ]
  },
  {
   "cell_type": "markdown",
   "metadata": {},
   "source": [
    "El valor máximo para Value lo podemos calcular mediante"
   ]
  },
  {
   "cell_type": "code",
   "execution_count": 39,
   "metadata": {},
   "outputs": [
    {
     "data": {
      "text/plain": [
       "151.82"
      ]
     },
     "execution_count": 39,
     "metadata": {},
     "output_type": "execute_result"
    }
   ],
   "source": [
    "year_2020.Value.max()"
   ]
  },
  {
   "cell_type": "markdown",
   "metadata": {},
   "source": [
    "Para saber a qué país pertenece este valor utilizaremos `idmax` para ver el valor del índice y luego acceder a esta observación."
   ]
  },
  {
   "cell_type": "code",
   "execution_count": 41,
   "metadata": {},
   "outputs": [
    {
     "data": {
      "text/plain": [
       "34"
      ]
     },
     "execution_count": 41,
     "metadata": {},
     "output_type": "execute_result"
    }
   ],
   "source": [
    "year_2020.Value.idxmax()"
   ]
  },
  {
   "cell_type": "markdown",
   "metadata": {},
   "source": [
    "Como ya se conoce el valor del índice podemos utilizar la función loc para ver los valores almacenados en esta fila."
   ]
  },
  {
   "cell_type": "code",
   "execution_count": 44,
   "metadata": {},
   "outputs": [
    {
     "data": {
      "text/plain": [
       "Domain Code                                                        QI\n",
       "Domain                                             Production Indices\n",
       "Area Code (FAO)                                                    91\n",
       "Area                                                           Guyana\n",
       "Element Code                                                      434\n",
       "Element             Gross per capita Production Index Number (2014...\n",
       "Item Code (FAO)                                                  1739\n",
       "Item                                     Vegetables and Fruit Primary\n",
       "Year Code                                                        2020\n",
       "Year                                              2020-01-01 00:00:00\n",
       "Unit                                                            index\n",
       "Value                                                          151.82\n",
       "Flag                                                               Fc\n",
       "Flag Description                                      Calculated data\n",
       "Name: 34, dtype: object"
      ]
     },
     "execution_count": 44,
     "metadata": {},
     "output_type": "execute_result"
    }
   ],
   "source": [
    "year_2020.loc[34]"
   ]
  },
  {
   "cell_type": "markdown",
   "metadata": {},
   "source": [
    "De esta forma el país/área con mayor índice per capita es Guyana."
   ]
  },
  {
   "cell_type": "markdown",
   "metadata": {},
   "source": [
    "11. Utiliza la función describe de pandas y comenta los resultados."
   ]
  },
  {
   "cell_type": "code",
   "execution_count": 18,
   "metadata": {},
   "outputs": [
    {
     "data": {
      "text/html": [
       "<div>\n",
       "<style scoped>\n",
       "    .dataframe tbody tr th:only-of-type {\n",
       "        vertical-align: middle;\n",
       "    }\n",
       "\n",
       "    .dataframe tbody tr th {\n",
       "        vertical-align: top;\n",
       "    }\n",
       "\n",
       "    .dataframe thead th {\n",
       "        text-align: right;\n",
       "    }\n",
       "</style>\n",
       "<table border=\"1\" class=\"dataframe\">\n",
       "  <thead>\n",
       "    <tr style=\"text-align: right;\">\n",
       "      <th></th>\n",
       "      <th>Value</th>\n",
       "    </tr>\n",
       "  </thead>\n",
       "  <tbody>\n",
       "    <tr>\n",
       "      <th>count</th>\n",
       "      <td>60.000000</td>\n",
       "    </tr>\n",
       "    <tr>\n",
       "      <th>mean</th>\n",
       "      <td>101.489500</td>\n",
       "    </tr>\n",
       "    <tr>\n",
       "      <th>std</th>\n",
       "      <td>16.244671</td>\n",
       "    </tr>\n",
       "    <tr>\n",
       "      <th>min</th>\n",
       "      <td>79.240000</td>\n",
       "    </tr>\n",
       "    <tr>\n",
       "      <th>25%</th>\n",
       "      <td>93.772500</td>\n",
       "    </tr>\n",
       "    <tr>\n",
       "      <th>50%</th>\n",
       "      <td>99.650000</td>\n",
       "    </tr>\n",
       "    <tr>\n",
       "      <th>75%</th>\n",
       "      <td>102.782500</td>\n",
       "    </tr>\n",
       "    <tr>\n",
       "      <th>max</th>\n",
       "      <td>171.560000</td>\n",
       "    </tr>\n",
       "  </tbody>\n",
       "</table>\n",
       "</div>"
      ],
      "text/plain": [
       "            Value\n",
       "count   60.000000\n",
       "mean   101.489500\n",
       "std     16.244671\n",
       "min     79.240000\n",
       "25%     93.772500\n",
       "50%     99.650000\n",
       "75%    102.782500\n",
       "max    171.560000"
      ]
     },
     "execution_count": 18,
     "metadata": {},
     "output_type": "execute_result"
    }
   ],
   "source": [
    "df.describe()"
   ]
  },
  {
   "cell_type": "markdown",
   "metadata": {},
   "source": [
    "Se tienen almacenados 60 valores, el índice per capita de la región en promedio es 101,49 con una desviación estándar 16,24. \n",
    "\n",
    "- El valor mínimo de los valores del índice es 79.24. \n",
    "- El 50% de los índices está por encima o por debajo  de 99.65.\n",
    "- El valor máximo para el índice es 171.56"
   ]
  },
  {
   "cell_type": "code",
   "execution_count": 19,
   "metadata": {},
   "outputs": [
    {
     "data": {
      "text/html": [
       "<div>\n",
       "<style scoped>\n",
       "    .dataframe tbody tr th:only-of-type {\n",
       "        vertical-align: middle;\n",
       "    }\n",
       "\n",
       "    .dataframe tbody tr th {\n",
       "        vertical-align: top;\n",
       "    }\n",
       "\n",
       "    .dataframe thead th {\n",
       "        text-align: right;\n",
       "    }\n",
       "</style>\n",
       "<table border=\"1\" class=\"dataframe\">\n",
       "  <thead>\n",
       "    <tr style=\"text-align: right;\">\n",
       "      <th></th>\n",
       "      <th>Domain</th>\n",
       "      <th>Area Code (FAO)</th>\n",
       "      <th>Element Code</th>\n",
       "      <th>Element</th>\n",
       "      <th>Item Code (FAO)</th>\n",
       "      <th>Item</th>\n",
       "      <th>Year Code</th>\n",
       "      <th>Unit</th>\n",
       "      <th>Flag</th>\n",
       "    </tr>\n",
       "  </thead>\n",
       "  <tbody>\n",
       "    <tr>\n",
       "      <th>count</th>\n",
       "      <td>60</td>\n",
       "      <td>60</td>\n",
       "      <td>60</td>\n",
       "      <td>60</td>\n",
       "      <td>60</td>\n",
       "      <td>60</td>\n",
       "      <td>60</td>\n",
       "      <td>60</td>\n",
       "      <td>60</td>\n",
       "    </tr>\n",
       "    <tr>\n",
       "      <th>unique</th>\n",
       "      <td>1</td>\n",
       "      <td>12</td>\n",
       "      <td>1</td>\n",
       "      <td>1</td>\n",
       "      <td>1</td>\n",
       "      <td>1</td>\n",
       "      <td>5</td>\n",
       "      <td>1</td>\n",
       "      <td>1</td>\n",
       "    </tr>\n",
       "    <tr>\n",
       "      <th>top</th>\n",
       "      <td>Production Indices</td>\n",
       "      <td>169</td>\n",
       "      <td>434</td>\n",
       "      <td>Gross per capita Production Index Number (2014...</td>\n",
       "      <td>1739</td>\n",
       "      <td>Vegetables and Fruit Primary</td>\n",
       "      <td>2016</td>\n",
       "      <td>index</td>\n",
       "      <td>Fc</td>\n",
       "    </tr>\n",
       "    <tr>\n",
       "      <th>freq</th>\n",
       "      <td>60</td>\n",
       "      <td>5</td>\n",
       "      <td>60</td>\n",
       "      <td>60</td>\n",
       "      <td>60</td>\n",
       "      <td>60</td>\n",
       "      <td>12</td>\n",
       "      <td>60</td>\n",
       "      <td>60</td>\n",
       "    </tr>\n",
       "  </tbody>\n",
       "</table>\n",
       "</div>"
      ],
      "text/plain": [
       "                    Domain Area Code (FAO) Element Code  \\\n",
       "count                   60              60           60   \n",
       "unique                   1              12            1   \n",
       "top     Production Indices             169          434   \n",
       "freq                    60               5           60   \n",
       "\n",
       "                                                  Element Item Code (FAO)  \\\n",
       "count                                                  60              60   \n",
       "unique                                                  1               1   \n",
       "top     Gross per capita Production Index Number (2014...            1739   \n",
       "freq                                                   60              60   \n",
       "\n",
       "                                Item Year Code   Unit Flag  \n",
       "count                             60        60     60   60  \n",
       "unique                             1         5      1    1  \n",
       "top     Vegetables and Fruit Primary      2016  index   Fc  \n",
       "freq                              60        12     60   60  "
      ]
     },
     "execution_count": 19,
     "metadata": {},
     "output_type": "execute_result"
    }
   ],
   "source": [
    "df.describe(include=\"category\")"
   ]
  },
  {
   "cell_type": "markdown",
   "metadata": {},
   "source": [
    "* Ahora, de las variables categóricas podemos decir que Domain tiene en todos sus valores Production Indices, Area Code (FAO) posee 12 valores únicos, el más frecuente es 169.\n",
    "\n",
    "* Element Code, Item Code (FAO), Item, Unit y Flag solo tienen un valor único.\n",
    "\n",
    "* Year Code tiene 5 valores únicos, el que más se repite es 2016 con 12 apariciones."
   ]
  },
  {
   "cell_type": "markdown",
   "metadata": {},
   "source": [
    "12. Aplica la función de agregación que permita calcular la suma de todos los índices de producción. "
   ]
  },
  {
   "cell_type": "code",
   "execution_count": 20,
   "metadata": {},
   "outputs": [
    {
     "data": {
      "text/plain": [
       "Value    6089.37\n",
       "dtype: float64"
      ]
     },
     "execution_count": 20,
     "metadata": {},
     "output_type": "execute_result"
    }
   ],
   "source": [
    "df.aggregate({'Value':sum})"
   ]
  },
  {
   "cell_type": "markdown",
   "metadata": {},
   "source": [
    "13. Calcula el promedio de producción para cada país."
   ]
  },
  {
   "cell_type": "code",
   "execution_count": 54,
   "metadata": {},
   "outputs": [
    {
     "data": {
      "text/html": [
       "<div>\n",
       "<style scoped>\n",
       "    .dataframe tbody tr th:only-of-type {\n",
       "        vertical-align: middle;\n",
       "    }\n",
       "\n",
       "    .dataframe tbody tr th {\n",
       "        vertical-align: top;\n",
       "    }\n",
       "\n",
       "    .dataframe thead th {\n",
       "        text-align: right;\n",
       "    }\n",
       "</style>\n",
       "<table border=\"1\" class=\"dataframe\">\n",
       "  <thead>\n",
       "    <tr style=\"text-align: right;\">\n",
       "      <th></th>\n",
       "      <th>Value</th>\n",
       "    </tr>\n",
       "    <tr>\n",
       "      <th>Area</th>\n",
       "      <th></th>\n",
       "    </tr>\n",
       "  </thead>\n",
       "  <tbody>\n",
       "    <tr>\n",
       "      <th>Argentina</th>\n",
       "      <td>97.024</td>\n",
       "    </tr>\n",
       "    <tr>\n",
       "      <th>Bolivia (Plurinational State of)</th>\n",
       "      <td>101.534</td>\n",
       "    </tr>\n",
       "    <tr>\n",
       "      <th>Brazil</th>\n",
       "      <td>98.372</td>\n",
       "    </tr>\n",
       "    <tr>\n",
       "      <th>Chile</th>\n",
       "      <td>101.012</td>\n",
       "    </tr>\n",
       "    <tr>\n",
       "      <th>Colombia</th>\n",
       "      <td>93.946</td>\n",
       "    </tr>\n",
       "    <tr>\n",
       "      <th>Ecuador</th>\n",
       "      <td>89.582</td>\n",
       "    </tr>\n",
       "    <tr>\n",
       "      <th>Guyana</th>\n",
       "      <td>146.676</td>\n",
       "    </tr>\n",
       "    <tr>\n",
       "      <th>Paraguay</th>\n",
       "      <td>101.232</td>\n",
       "    </tr>\n",
       "    <tr>\n",
       "      <th>Peru</th>\n",
       "      <td>107.096</td>\n",
       "    </tr>\n",
       "    <tr>\n",
       "      <th>Suriname</th>\n",
       "      <td>86.794</td>\n",
       "    </tr>\n",
       "    <tr>\n",
       "      <th>Uruguay</th>\n",
       "      <td>94.380</td>\n",
       "    </tr>\n",
       "    <tr>\n",
       "      <th>Venezuela (Bolivarian Republic of)</th>\n",
       "      <td>100.226</td>\n",
       "    </tr>\n",
       "  </tbody>\n",
       "</table>\n",
       "</div>"
      ],
      "text/plain": [
       "                                      Value\n",
       "Area                                       \n",
       "Argentina                            97.024\n",
       "Bolivia (Plurinational State of)    101.534\n",
       "Brazil                               98.372\n",
       "Chile                               101.012\n",
       "Colombia                             93.946\n",
       "Ecuador                              89.582\n",
       "Guyana                              146.676\n",
       "Paraguay                            101.232\n",
       "Peru                                107.096\n",
       "Suriname                             86.794\n",
       "Uruguay                              94.380\n",
       "Venezuela (Bolivarian Republic of)  100.226"
      ]
     },
     "execution_count": 54,
     "metadata": {},
     "output_type": "execute_result"
    }
   ],
   "source": [
    "area_ = df.groupby('Area').mean(\"Value\")\n",
    "area_"
   ]
  },
  {
   "cell_type": "markdown",
   "metadata": {},
   "source": [
    "14. Calcula en una misma tabla el promedio y la suma de los índices de producción por país"
   ]
  },
  {
   "cell_type": "code",
   "execution_count": 22,
   "metadata": {},
   "outputs": [
    {
     "data": {
      "text/html": [
       "<div>\n",
       "<style scoped>\n",
       "    .dataframe tbody tr th:only-of-type {\n",
       "        vertical-align: middle;\n",
       "    }\n",
       "\n",
       "    .dataframe tbody tr th {\n",
       "        vertical-align: top;\n",
       "    }\n",
       "\n",
       "    .dataframe thead tr th {\n",
       "        text-align: left;\n",
       "    }\n",
       "\n",
       "    .dataframe thead tr:last-of-type th {\n",
       "        text-align: right;\n",
       "    }\n",
       "</style>\n",
       "<table border=\"1\" class=\"dataframe\">\n",
       "  <thead>\n",
       "    <tr>\n",
       "      <th></th>\n",
       "      <th colspan=\"2\" halign=\"left\">Value</th>\n",
       "    </tr>\n",
       "    <tr>\n",
       "      <th></th>\n",
       "      <th>sum</th>\n",
       "      <th>mean</th>\n",
       "    </tr>\n",
       "    <tr>\n",
       "      <th>Area Code (FAO)</th>\n",
       "      <th></th>\n",
       "      <th></th>\n",
       "    </tr>\n",
       "  </thead>\n",
       "  <tbody>\n",
       "    <tr>\n",
       "      <th>169</th>\n",
       "      <td>506.16</td>\n",
       "      <td>101.232</td>\n",
       "    </tr>\n",
       "    <tr>\n",
       "      <th>170</th>\n",
       "      <td>535.48</td>\n",
       "      <td>107.096</td>\n",
       "    </tr>\n",
       "    <tr>\n",
       "      <th>19</th>\n",
       "      <td>507.67</td>\n",
       "      <td>101.534</td>\n",
       "    </tr>\n",
       "    <tr>\n",
       "      <th>207</th>\n",
       "      <td>433.97</td>\n",
       "      <td>86.794</td>\n",
       "    </tr>\n",
       "    <tr>\n",
       "      <th>21</th>\n",
       "      <td>491.86</td>\n",
       "      <td>98.372</td>\n",
       "    </tr>\n",
       "    <tr>\n",
       "      <th>234</th>\n",
       "      <td>471.90</td>\n",
       "      <td>94.380</td>\n",
       "    </tr>\n",
       "    <tr>\n",
       "      <th>236</th>\n",
       "      <td>501.13</td>\n",
       "      <td>100.226</td>\n",
       "    </tr>\n",
       "    <tr>\n",
       "      <th>40</th>\n",
       "      <td>505.06</td>\n",
       "      <td>101.012</td>\n",
       "    </tr>\n",
       "    <tr>\n",
       "      <th>44</th>\n",
       "      <td>469.73</td>\n",
       "      <td>93.946</td>\n",
       "    </tr>\n",
       "    <tr>\n",
       "      <th>58</th>\n",
       "      <td>447.91</td>\n",
       "      <td>89.582</td>\n",
       "    </tr>\n",
       "    <tr>\n",
       "      <th>9</th>\n",
       "      <td>485.12</td>\n",
       "      <td>97.024</td>\n",
       "    </tr>\n",
       "    <tr>\n",
       "      <th>91</th>\n",
       "      <td>733.38</td>\n",
       "      <td>146.676</td>\n",
       "    </tr>\n",
       "  </tbody>\n",
       "</table>\n",
       "</div>"
      ],
      "text/plain": [
       "                  Value         \n",
       "                    sum     mean\n",
       "Area Code (FAO)                 \n",
       "169              506.16  101.232\n",
       "170              535.48  107.096\n",
       "19               507.67  101.534\n",
       "207              433.97   86.794\n",
       "21               491.86   98.372\n",
       "234              471.90   94.380\n",
       "236              501.13  100.226\n",
       "40               505.06  101.012\n",
       "44               469.73   93.946\n",
       "58               447.91   89.582\n",
       "9                485.12   97.024\n",
       "91               733.38  146.676"
      ]
     },
     "execution_count": 22,
     "metadata": {},
     "output_type": "execute_result"
    }
   ],
   "source": [
    "df.groupby(\"Area Code (FAO)\").aggregate({\"Value\":['sum', \"mean\"]})"
   ]
  },
  {
   "cell_type": "markdown",
   "metadata": {},
   "source": [
    "15. Calcula el valor mínimo de los promedios calculados en el ítem 13 anterior y determina a qué país pertenece."
   ]
  },
  {
   "cell_type": "code",
   "execution_count": 23,
   "metadata": {},
   "outputs": [
    {
     "data": {
      "text/plain": [
       "Value    86.794\n",
       "dtype: float64"
      ]
     },
     "execution_count": 23,
     "metadata": {},
     "output_type": "execute_result"
    }
   ],
   "source": [
    "area_.min()"
   ]
  },
  {
   "cell_type": "code",
   "execution_count": 24,
   "metadata": {},
   "outputs": [
    {
     "data": {
      "text/plain": [
       "Value    Suriname\n",
       "dtype: object"
      ]
     },
     "execution_count": 24,
     "metadata": {},
     "output_type": "execute_result"
    }
   ],
   "source": [
    "area_.idxmin()"
   ]
  },
  {
   "cell_type": "code",
   "execution_count": 47,
   "metadata": {},
   "outputs": [
    {
     "data": {
      "text/plain": [
       "21"
      ]
     },
     "execution_count": 47,
     "metadata": {},
     "output_type": "execute_result"
    }
   ],
   "source": [
    "df.Value.idxmin()"
   ]
  },
  {
   "cell_type": "code",
   "execution_count": 48,
   "metadata": {},
   "outputs": [
    {
     "data": {
      "text/plain": [
       "Domain Code                                                        QI\n",
       "Domain                                             Production Indices\n",
       "Area Code (FAO)                                                    44\n",
       "Area                                                         Colombia\n",
       "Element Code                                                      434\n",
       "Element             Gross per capita Production Index Number (2014...\n",
       "Item Code (FAO)                                                  1739\n",
       "Item                                     Vegetables and Fruit Primary\n",
       "Year Code                                                        2017\n",
       "Year                                              2017-01-01 00:00:00\n",
       "Unit                                                            index\n",
       "Value                                                           79.24\n",
       "Flag                                                               Fc\n",
       "Flag Description                                      Calculated data\n",
       "Name: 21, dtype: object"
      ]
     },
     "execution_count": 48,
     "metadata": {},
     "output_type": "execute_result"
    }
   ],
   "source": [
    "df.loc[21]"
   ]
  }
 ],
 "metadata": {
  "kernelspec": {
   "display_name": "Python 3.9.12",
   "language": "python",
   "name": "python3"
  },
  "language_info": {
   "codemirror_mode": {
    "name": "ipython",
    "version": 3
   },
   "file_extension": ".py",
   "mimetype": "text/x-python",
   "name": "python",
   "nbconvert_exporter": "python",
   "pygments_lexer": "ipython3",
   "version": "3.9.12"
  },
  "vscode": {
   "interpreter": {
    "hash": "3e27ff0bfd7bd929ddaad2e38f0fb3aff0ae308e4835c9a59811cf1b12680178"
   }
  },
  "widgets": {
   "application/vnd.jupyter.widget-state+json": {
    "state": {},
    "version_major": 2,
    "version_minor": 0
   }
  }
 },
 "nbformat": 4,
 "nbformat_minor": 4
}
