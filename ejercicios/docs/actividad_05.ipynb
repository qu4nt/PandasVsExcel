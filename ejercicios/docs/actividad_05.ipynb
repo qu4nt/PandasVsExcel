{
 "cells": [
  {
   "cell_type": "markdown",
   "id": "235c619c-d4e6-4285-8084-94659069b878",
   "metadata": {},
   "source": [
    "!!! Para los datos de la [FAO](https://www.fao.org) que puedes encontrar [aquí](). Realizar lo siguiente\n",
    "\n",
    "    1. Importar el archivo xls, debes saber que las columnas se deben establecer de la siguiente forma:\n",
    "        * Domain Code es de tipo cadena de caracteres str\n",
    "        * Element, Item Code, Item, Year code, Unit y Flag contienen valores categóricos. Son de tipo category. \n",
    "        * Value tiene valores numéricos, es de tipo flotante.\n",
    "  \n",
    "            {\n",
    "                \"Domain Code\": str,\n",
    "                \"Domain\": \"category\",\n",
    "                \"Element Code\": \"category\",\n",
    "                \"Element\": \"category\",\n",
    "                \"Item Code (FAO)\": \"category\",\n",
    "                \"Item\": \"category\",\n",
    "                \"Year Code\": \"category\",\n",
    "                \"Unit\": \"category\",\n",
    "                \"Value\": float,\n",
    "                \"Flag\": \"category\",\n",
    "                \"Flag Description\": str,\n",
    "            }\n",
    "     ¿Es necesario utilizar `skiprow`?\n",
    "\n",
    "    2. Utiliza las funciones que te permitan ver las tres primeras y las tres últimas filas.\n",
    "    3. ¿Cuántas y cuáles son las columnas que tiene el archivo?\n",
    "    4. ¿Cuáles son los tipos de datos almacenados? ¿Qué devuelve las funciones dtypes y type?\n",
    "    5. ¿Hay valores nulos en los datos?\n",
    "    6. Consulta el índice y verifica que sea una lista ordenada de números.\n",
    "    7. Accede a la columna `Area` y utiliza una función para contar la cantidad de apariciones de cada valor.\n",
    "    8. Del ítem anterior, ¿cuántos países hay en los datos?\n",
    "    9. Convierte la columna Year a tipo datetime utilizando pd.to_datetime(df.Year, format=\"%Y\")\n",
    "    10. Aplica un filtro para Year en el que obtengas la información de 2020, almacena esto en una variable y luego calcula el máximo. ¿A qué país corresponde el valor hallado?\n",
    "    11. Utiliza la función describe de pandas y comenta los resultados.\n",
    "    12. Aplica la función de agregación que permita calcular la suma de todos los índices de producción. \n",
    "    13. Calcula el promedio del índice de producción para cada país.\n",
    "    14. Calcula en una misma tabla el promedio y la suma de los índices de producción por el Area Code (FAO)\n",
    "    15. Calcula el valor mínimo de los promedios calculados en el ítem 13 anterior y determina a qué país pertenece."
   ]
  }
 ],
 "metadata": {
  "kernelspec": {
   "display_name": "Python 3.9.12",
   "language": "python",
   "name": "python3"
  },
  "language_info": {
   "codemirror_mode": {
    "name": "ipython",
    "version": 3
   },
   "file_extension": ".py",
   "mimetype": "text/x-python",
   "name": "python",
   "nbconvert_exporter": "python",
   "pygments_lexer": "ipython3",
   "version": "3.9.12"
  },
  "vscode": {
   "interpreter": {
    "hash": "3e27ff0bfd7bd929ddaad2e38f0fb3aff0ae308e4835c9a59811cf1b12680178"
   }
  },
  "widgets": {
   "application/vnd.jupyter.widget-state+json": {
    "state": {},
    "version_major": 2,
    "version_minor": 0
   }
  }
 },
 "nbformat": 4,
 "nbformat_minor": 5
}
