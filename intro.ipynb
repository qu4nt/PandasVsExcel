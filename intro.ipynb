{
 "cells": [
  {
   "cell_type": "markdown",
   "id": "2408c8db-be5c-4d87-af2e-9db096ca8244",
   "metadata": {
    "slideshow": {
     "slide_type": "notes"
    },
    "tags": []
   },
   "source": [
    "# Introducción"
   ]
  },
  {
   "cell_type": "markdown",
   "id": "4553241d-67dc-446a-9c48-0e6e228b3cac",
   "metadata": {},
   "source": [
    "**Contenido**\n",
    "* Descripción del curso\n",
    "* Datos sobre Excel y Python\n",
    "  - ¿Qué es Excel?\n",
    "  - ¿Qué es Python?\n",
    "  - ¿Qué son Numpy y pandas? (Breve introducción)\n",
    "* Posibles limitaciones y errores comunes en el uso de Excel (http://www.eusprig.org/horror-stories.htm)\n",
    "* Ventajas del uso de Python sobre algunas funcionalidades Excel\n"
   ]
  },
  {
   "cell_type": "markdown",
   "id": "06d03671-39c6-45ad-a842-3f09aaa110fe",
   "metadata": {
    "slideshow": {
     "slide_type": "notes"
    },
    "tags": []
   },
   "source": [
    "El curso que te presento el día de hoy busca que desarrolles las destrezas necesarias para que las actividades que haz venido realizando en excel en cambio las realices con Python. Esto a partir de ejemplos prácticos, actividades y tareas."
   ]
  },
  {
   "cell_type": "markdown",
   "id": "93ef8151",
   "metadata": {
    "slideshow": {
     "slide_type": "slide"
    },
    "tags": []
   },
   "source": [
    "# ¿Qué aprenderás en el curso?\n"
   ]
  },
  {
   "cell_type": "markdown",
   "id": "b4a16f8f-d099-4cd0-91fb-c52725308e93",
   "metadata": {
    "slideshow": {
     "slide_type": "fragment"
    },
    "tags": []
   },
   "source": [
    "* ¿Qué es Python?"
   ]
  },
  {
   "cell_type": "markdown",
   "id": "bc3f433d-d4db-42ff-8dc8-c573a5d132ea",
   "metadata": {
    "slideshow": {
     "slide_type": "fragment"
    },
    "tags": []
   },
   "source": [
    "* ¿Cuáles son los tipos de datos en Python?, qué diferencia tienen con los datos en Excel"
   ]
  },
  {
   "cell_type": "markdown",
   "id": "4684901f-4d5a-4afd-ac2c-b7e17baf5679",
   "metadata": {
    "slideshow": {
     "slide_type": "fragment"
    },
    "tags": []
   },
   "source": [
    "* ¿Qué son bibliotecas, módulos y funciones en Python? y cómo funcionan"
   ]
  },
  {
   "cell_type": "markdown",
   "id": "9bb753ee-f3cf-45da-aee8-194a7aea3ee2",
   "metadata": {
    "slideshow": {
     "slide_type": "fragment"
    },
    "tags": []
   },
   "source": [
    "* Manejo de datos con pandas"
   ]
  },
  {
   "cell_type": "markdown",
   "id": "12cccedd-5970-40d1-ab95-4c98aa8bec7a",
   "metadata": {
    "slideshow": {
     "slide_type": "fragment"
    },
    "tags": []
   },
   "source": [
    "   - Importación de archivos"
   ]
  },
  {
   "cell_type": "markdown",
   "id": "9fb7bb9a-9f55-4040-b539-cac3310a6e3d",
   "metadata": {
    "slideshow": {
     "slide_type": "fragment"
    },
    "tags": []
   },
   "source": [
    "   - Selección de datos"
   ]
  },
  {
   "cell_type": "markdown",
   "id": "e2a16625-1aa2-4963-af0a-23dc7dedc627",
   "metadata": {
    "slideshow": {
     "slide_type": "fragment"
    },
    "tags": []
   },
   "source": [
    "   - Valores pérdidos, duplicados, otros."
   ]
  },
  {
   "cell_type": "markdown",
   "id": "1976e91c-48b7-4549-ae66-d46ff2bf6c02",
   "metadata": {
    "slideshow": {
     "slide_type": "fragment"
    },
    "tags": []
   },
   "source": [
    "   - Operaciones con datos (aplicar funciones)\n",
    "   "
   ]
  },
  {
   "cell_type": "markdown",
   "id": "dd4fab53-1235-44f0-aa08-42ae770a63b3",
   "metadata": {
    "slideshow": {
     "slide_type": "fragment"
    },
    "tags": []
   },
   "source": [
    " - Concatenar y unir datos"
   ]
  },
  {
   "cell_type": "markdown",
   "id": "00e8f64c-0f5a-4eca-88d6-00d61cb4fbcd",
   "metadata": {
    "slideshow": {
     "slide_type": "fragment"
    },
    "tags": []
   },
   "source": [
    "   - Análisis descriptivo y agregaciones"
   ]
  },
  {
   "cell_type": "markdown",
   "id": "e9873d5e-6549-4da8-b827-cff2f43db26d",
   "metadata": {
    "slideshow": {
     "slide_type": "fragment"
    },
    "tags": []
   },
   "source": [
    "   - Tablas pivote y consultas (pivot/query)"
   ]
  },
  {
   "cell_type": "markdown",
   "id": "f4ca51a1-3c17-4cdb-84c2-4cc708234dad",
   "metadata": {
    "slideshow": {
     "slide_type": "fragment"
    },
    "tags": []
   },
   "source": [
    "   - Exportación de archivos"
   ]
  },
  {
   "cell_type": "markdown",
   "id": "0faa9839",
   "metadata": {
    "slideshow": {
     "slide_type": "notes"
    },
    "tags": []
   },
   "source": [
    "Comencemos con hacernos las siguientes preguntas:\n",
    "\n",
    "¿Qué es excel?\n",
    "\n",
    "¿Qué es Python?"
   ]
  },
  {
   "cell_type": "markdown",
   "id": "d373b0f5-53a8-4408-a6aa-3abeae147b84",
   "metadata": {
    "slideshow": {
     "slide_type": "slide"
    },
    "tags": []
   },
   "source": [
    "# ¿Qué es excel?"
   ]
  },
  {
   "cell_type": "markdown",
   "id": "0bbadd55-5f3a-49c9-8838-a828c5f5cb4f",
   "metadata": {
    "slideshow": {
     "slide_type": "fragment"
    },
    "tags": []
   },
   "source": [
    "* Programa de hojas de cálculo"
   ]
  },
  {
   "cell_type": "markdown",
   "id": "0bdced52-49eb-4601-bbd3-258dde4fb402",
   "metadata": {
    "slideshow": {
     "slide_type": "fragment"
    },
    "tags": []
   },
   "source": [
    "* Forma parte del paquete de Microsoft"
   ]
  },
  {
   "cell_type": "markdown",
   "id": "faa57087-6bfc-4aef-b2a3-f2210fac459c",
   "metadata": {
    "slideshow": {
     "slide_type": "fragment"
    },
    "tags": []
   },
   "source": [
    "* Es versátil"
   ]
  },
  {
   "cell_type": "markdown",
   "id": "38301479-1d74-493b-8088-880058edebf2",
   "metadata": {
    "slideshow": {
     "slide_type": "fragment"
    },
    "tags": []
   },
   "source": [
    "* El punto fuerte de Excel, por supuesto, es la realización de cálculos numéricos"
   ]
  },
  {
   "cell_type": "markdown",
   "id": "2ce81156-3dc7-4428-9e60-da7bf9f9850d",
   "metadata": {
    "slideshow": {
     "slide_type": "fragment"
    },
    "tags": []
   },
   "source": [
    "* Permite analizar números"
   ]
  },
  {
   "cell_type": "markdown",
   "id": "d46a692b-e40a-4fa4-bb21-d4252f7768e6",
   "metadata": {
    "slideshow": {
     "slide_type": "fragment"
    },
    "tags": []
   },
   "source": [
    "* Crear figuras personalizables"
   ]
  },
  {
   "cell_type": "markdown",
   "id": "9d6662fe-cb50-4a8f-b7ab-e3acd3f0633e",
   "metadata": {
    "slideshow": {
     "slide_type": "fragment"
    },
    "tags": []
   },
   "source": [
    "* Organización de listas"
   ]
  },
  {
   "cell_type": "markdown",
   "id": "ac74e657-f9bd-4d13-a9a9-510f1f409846",
   "metadata": {
    "slideshow": {
     "slide_type": "fragment"
    },
    "tags": []
   },
   "source": [
    "* Manipulación de texto"
   ]
  },
  {
   "cell_type": "markdown",
   "id": "fae36216-4663-4279-ae03-b20b8e9a8202",
   "metadata": {
    "slideshow": {
     "slide_type": "fragment"
    },
    "tags": []
   },
   "source": [
    "* Acceder a otros datos"
   ]
  },
  {
   "cell_type": "markdown",
   "id": "cd00af0c",
   "metadata": {
    "slideshow": {
     "slide_type": "notes"
    },
    "tags": []
   },
   "source": [
    "Excel se puede definir como el programa de hojas de cálculo más utilizado del mundo que forma parte del paquete de Microsoft.\n",
    "\n",
    "Existen otros programas de hojas de cálculo como Google Workspace, Quip, Apple Numbers, Zoho Sheet, Minitab Statistical Software, WPS Spreadsheets y OfficeSuite, pero Excel es, con diferencia, el más popular y ha sido el estándar mundial durante muchos años.\n",
    "\n",
    "Gran parte del atractivo de Excel es su versatilidad. El punto fuerte de Excel, por supuesto, es la realización de cálculos numéricos, pero pero Excel también es útil para aplicaciones no numéricas. Algunos usos de Excel:\n",
    "\n",
    "* Analizar números: crear presupuestos, tabular gastos, analizar resultados de encuestas y realizar cualquier tipo de análisis financiero que se nos ocurra.\n",
    "\n",
    "* Crear figuras personalizables\n",
    "\n",
    "* Organización de listas\n",
    "\n",
    "* Manipulación de texto, podemos limpiar y normalizar a los datos basados en texto.\n",
    "\n",
    "* Acceder a otros datos, excel permite importar datos de diversas fuentes.\n",
    "\n",
    "* Crear dashboards, los dashboards son gráficos que permiten resumir una gran cantidad de información empresarial en un formato conciso.\n",
    "\n",
    "* Crear gráficos y diagramas: Utilizar formas y SmartArt para crear diagramas de aspecto profesional.\n",
    "\n",
    "* Automatizar tareas complejas, esto a través de macros."
   ]
  },
  {
   "cell_type": "markdown",
   "id": "fa9086da-7937-43a9-b066-98fab6dd4662",
   "metadata": {
    "slideshow": {
     "slide_type": "slide"
    },
    "tags": []
   },
   "source": [
    "# ¿Qué es Python?"
   ]
  },
  {
   "cell_type": "markdown",
   "id": "5375cf94-ac92-4e94-b222-31be2fcc2a80",
   "metadata": {
    "slideshow": {
     "slide_type": "fragment"
    },
    "tags": []
   },
   "source": [
    "* Lenguaje de programación de alto nivel"
   ]
  },
  {
   "cell_type": "markdown",
   "id": "8d36d641-29c8-41b5-ac42-b81f3ade88ab",
   "metadata": {
    "slideshow": {
     "slide_type": "fragment"
    },
    "tags": []
   },
   "source": [
    "* Se pueden escribir programas y scripts básicos"
   ]
  },
  {
   "cell_type": "markdown",
   "id": "7f780c33-71f6-4498-96df-d4afab99b3a9",
   "metadata": {
    "slideshow": {
     "slide_type": "fragment"
    },
    "tags": []
   },
   "source": [
    "* Crear soluciones empresariales complejas y a gran escala"
   ]
  },
  {
   "cell_type": "markdown",
   "id": "bcdeaeb4-17a8-4a63-9e1a-29493a2dfdf4",
   "metadata": {
    "slideshow": {
     "slide_type": "fragment"
    },
    "tags": []
   },
   "source": [
    "* Python está disponible de forma gratuita"
   ]
  },
  {
   "cell_type": "markdown",
   "id": "eefab67d-a64d-40b7-b493-6e9886aa2aa8",
   "metadata": {
    "slideshow": {
     "slide_type": "fragment"
    },
    "tags": []
   },
   "source": [
    "* Tiene una gran comunidad"
   ]
  },
  {
   "cell_type": "markdown",
   "id": "dba1e592-1726-40be-9127-130e362b8e66",
   "metadata": {
    "slideshow": {
     "slide_type": "slide"
    },
    "tags": []
   },
   "source": [
    "# Bibliotecas: Numpy y pandas\n",
    "\n",
    "* Realizar tareas de forma más fácil."
   ]
  },
  {
   "cell_type": "markdown",
   "id": "d28a307e-1d53-47bd-960b-7d2f6c8a2005",
   "metadata": {
    "slideshow": {
     "slide_type": "fragment"
    },
    "tags": []
   },
   "source": [
    "* Numpy: facilita el cálculo numérico con Python."
   ]
  },
  {
   "cell_type": "markdown",
   "id": "4ceb222f-a574-4051-91ad-7949101b1f40",
   "metadata": {
    "slideshow": {
     "slide_type": "fragment"
    },
    "tags": []
   },
   "source": [
    "* Pandas: proporciona estructuras de datos y herramientas de análisis de datos de alto rendimiento y fáciles de usar."
   ]
  },
  {
   "cell_type": "markdown",
   "id": "3a1e2e58-99ba-4313-b947-18d2e5e977d4",
   "metadata": {
    "slideshow": {
     "slide_type": "notes"
    },
    "tags": []
   },
   "source": [
    " Por otro lado, Python es un lenguaje de programación de alto nivel, interpretado, interactivo y orientado a objetos. Su flexibilidad permite hacer muchas cosas, tanto grandes como pequeñas. Con Python, puedes escribir programas y scripts básicos y también crear soluciones empresariales complejas y a gran escala. Entre las cosas que podemos hacer están:\n",
    " \n",
    " Construir aplicaciones de escritorio:\n",
    " \n",
    " Realizar análisis de datos de forma matemática y cientifica para datos\n",
    " Crear aplicaciones web\n",
    " Administrar sistemas informáticos y automatización de tareas\n",
    " Realización de tareas DevOps\n",
    " \n",
    " Python está disponible de forma gratuita, incluso para fines comerciales."
   ]
  },
  {
   "cell_type": "markdown",
   "id": "3cce1447-8860-4669-bfda-3dc67249645e",
   "metadata": {},
   "source": [
    "Para Python se han desarrollado bibliotecas que nos permiten realizar tareas de forma más fácil, sin tanto programar. Alguien se ha encargado de crear las funciones y algoritmos de uso más común. Un par de bibliotecas que utilizaremos en el curso son Numpy y pandas. \n",
    "\n",
    "Numpy facilita el cálculo numérico con Python, proporciona un objeto de arreglo multidimensional, varios objetos derivados (como arreglos enmascarados y matrices), y un surtido de rutinas para realizar operaciones rápidas con arreglos, incluyendo operaciones matemáticas, lógicas, de manipulación de formas, de ordenación, de selección, de E/S, de transformadas discretas de Fourier, de álgebra lineal básica, de operaciones estadísticas básicas, de simulación aleatoria y mucho más.\n",
    "\n",
    "https://numpy.org/doc/stable/\n",
    "\n",
    "pandas es una biblioteca que proporciona estructuras de datos y herramientas de análisis de datos de alto rendimiento y fáciles de usar para el lenguaje de programación Python.\n",
    "\n",
    "https://pandas.pydata.org/docs/#module-pandas"
   ]
  },
  {
   "cell_type": "markdown",
   "id": "6d9f00ef-baed-4dba-972a-a93d38c35601",
   "metadata": {
    "slideshow": {
     "slide_type": "slide"
    },
    "tags": []
   },
   "source": [
    "# Errores comunes en el uso de Excel\n",
    "\n",
    "Caso 1: Datos no controlados, 16000 resultados de la prueba Covid-19 en el Reino Unido perdidos durante una semana.\n",
    "\n",
    "Caso 2: Los científicos cambian el nombre de los genes humanos para evitar que Microsoft Excel los interprete erróneamente como fechas\n",
    "\n",
    "Caso 3: Un error en la hoja de cálculo provocó el retraso en la apertura del hospital de Edimburgo.\n",
    "\n",
    "Caso 4: Fannie Mae (Asociación Federal Nacional Hipotecaria) en 2003 presentó un formulario para corregir su comunicado de prensa en el que habían errores de cálculo."
   ]
  },
  {
   "cell_type": "markdown",
   "id": "9f564d01",
   "metadata": {
    "slideshow": {
     "slide_type": "notes"
    },
    "tags": []
   },
   "source": [
    "Ahora veamos las posibles limitaciones y errores comunes en el uso de Excel.\n",
    "\n",
    "Acudiremos a una página web creada por Patrick O'Beirne, de Systems Modelling, en la que se expresan algunos casos que se han detectado.\n",
    "\n",
    "Caso 1: Datos no controlados, 16000 resultados de la prueba Covid-19 en el Reino Unido perdidos durante una semana.\n",
    "Este caso se debe a que se utilizó una versión antigua de excel limitando la cantidad de filas en los archivos.\n",
    "\n",
    "Caso 2: Los científicos cambian el nombre de los genes humanos para evitar que Microsoft Excel los interprete erróneamente como fechas\n",
    "\n",
    "Caso 3: Un error en la hoja de cálculo provocó el retraso en la apertura del hospital de Edimburgo. \n",
    "\n",
    "Se detectó un valor incorrecto en los reportes lo cual produjo que no se tomará en cuenta en remodelaciones.\n",
    "\n",
    "Caso 4: Fannie Mae (Asociación Federal Nacional Hipotecaria) en 2003 presentó un formulario para corregir su comunicado de prensa en el que habían errores de cálculo. \"Se trataban de errores honestos cometidos en una hoja de cálculo utilizada en la aplicación de una nueva norma contable. La corrección tuvo que ver con un error computacional en la realización de cálculos complicados requeridos en la aplicación de la FAS 149.\"\n",
    "\n",
    "\n",
    "Los errores se generan principalmente porque las personas tienen control directo con las hojas de cálculo y muchas de las fórmulas se pueden alterar al no ser bien codificadas."
   ]
  },
  {
   "cell_type": "markdown",
   "id": "19ea7106",
   "metadata": {
    "slideshow": {
     "slide_type": "slide"
    },
    "tags": []
   },
   "source": [
    "# Ventajas del uso de Python sobre algunas funcionalidades Excel\n",
    "\n",
    "* Cálculos eficientes\n",
    "* Herramientas especializadas\n",
    "* Integridad de los datos"
   ]
  },
  {
   "cell_type": "markdown",
   "id": "a19e5457-67cd-48a9-8d5e-ae72922756ea",
   "metadata": {
    "slideshow": {
     "slide_type": "notes"
    },
    "tags": []
   },
   "source": [
    "Los cálculos se pueden realizar de manera más eficiente, contarás con herramientas más especializadas y no corres el riesgo de editar por error los valores.\n",
    "\n",
    "Sin embargo, excel es perfecto para transcribir datos y editarlos. Crear tablas de pocos valores y realizar cálculos sencillos."
   ]
  }
 ],
 "metadata": {
  "kernelspec": {
   "display_name": "Python 3 (ipykernel)",
   "language": "python",
   "name": "python3"
  },
  "language_info": {
   "codemirror_mode": {
    "name": "ipython",
    "version": 3
   },
   "file_extension": ".py",
   "mimetype": "text/x-python",
   "name": "python",
   "nbconvert_exporter": "python",
   "pygments_lexer": "ipython3",
   "version": "3.7.7"
  },
  "widgets": {
   "application/vnd.jupyter.widget-state+json": {
    "state": {},
    "version_major": 2,
    "version_minor": 0
   }
  }
 },
 "nbformat": 4,
 "nbformat_minor": 5
}
