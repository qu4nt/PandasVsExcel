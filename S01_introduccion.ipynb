{
  "nbformat": 4,
  "nbformat_minor": 0,
  "metadata": {
    "colab": {
      "provenance": [],
      "collapsed_sections": [],
      "include_colab_link": true
    },
    "kernelspec": {
      "name": "python3",
      "display_name": "Python 3"
    },
    "language_info": {
      "name": "python"
    }
  },
  "cells": [
    {
      "cell_type": "markdown",
      "metadata": {
        "id": "view-in-github",
        "colab_type": "text"
      },
      "source": [
        "<a href=\"https://colab.research.google.com/github/qu4nt/PandasVsExcel/blob/main/S01_introduccion.ipynb\" target=\"_parent\"><img src=\"https://colab.research.google.com/assets/colab-badge.svg\" alt=\"Open In Colab\"/></a>"
      ]
    },
    {
      "cell_type": "markdown",
      "source": [
        "# Introducción"
      ],
      "metadata": {
        "id": "C2Kew-Q7hOHh"
      }
    },
    {
      "cell_type": "markdown",
      "source": [
        "**Contenido**\n",
        "- Vídeo 1\n",
        "  * Descripción del curso\n",
        "- Vídeo 2\n",
        "  * Excel y Python\n",
        "  * Posibles limitaciones y errores comunes en el uso de Excel\n",
        "  * ¿Por qué resulta mejor utilizar Python en lugar de Excel para algunas tareas específicas?"
      ],
      "metadata": {
        "id": "6CjY09GyhOSA"
      }
    },
    {
      "cell_type": "markdown",
      "source": [
        "## Descripción del curso"
      ],
      "metadata": {
        "id": "FI4nQ-mzst6t"
      }
    },
    {
      "cell_type": "markdown",
      "source": [
        "Diariamente, realizamos actividades en herramientas como Excel, donde posiblemente hayas notado que su rendimiento es limitado en ciertas tareas. Por lo cual es probable que te preguntes ¿Qué herramienta permitirá que ejecute mis actividades de forma óptima y sencilla? Es una pregunta con distintas respuestas, sin embargo, hoy te presento a Python. Un lenguaje de programación muy versátil que junto a sus bibliotecas Numpy y especialmente pandas, se convierte en una excelente herramienta para llevar a cabo muchas de las tareas que hacemos en Excel, de forma rápida y hacer sencilla la tarea de cálculo.\n",
        "\n",
        "Mi nombre es Anavelyz Perez, actualmente estoy sumergida en el mundo del análisis de datos y utilizo Python desde hace varios años. Muchas veces en las que estuve empleando Excel para tareas complejas como analizar grandes cantidades de datos, crear gráficos elaborados y otras similares, sentía la necesidad de buscar una herramienta más potente que me permitiera ahorrar tiempo y donde la forma en la que se debe calcular fuese sencillo. Entonces, en ese camino de búsqueda, conocí a Python, un lenguaje de programación de alto nivel que logra captar la información y te permite transformar datos fácilmente. Hoy te invito a que hagamos un recorrido por algunas de las principales tareas que podemos hacer en Python, en contraste a lo que realizamos en Excel.\n",
        "\n",
        "En general, el curso que te presento el día de hoy busca que desarrolles las destrezas necesarias para que las actividades que has venido ejecutando en excel, en su lugar las hagas con Python. Todo esto lo haremos a partir de ejemplos prácticos, actividades y tareas."
      ],
      "metadata": {
        "id": "7uVDPrMlhOWC"
      }
    },
    {
      "cell_type": "markdown",
      "source": [
        "El curso está formado por siete secciones:\n",
        "\n",
        "* Introducción\n",
        "* Primeros pasos con Python\n",
        "* Más acerca de Python: Bibliotecas, módulos y funciones\n",
        "* Otras estructuras de datos en Python\n",
        "* Utilizando pandas para el manejo de datos\n",
        "* Gráficos con **pandas**\n",
        "* Elementos gráficos y tabulares para un reporte\n"
      ],
      "metadata": {
        "id": "tkvElDWJhOac"
      }
    },
    {
      "cell_type": "markdown",
      "source": [
        "## Excel y Python"
      ],
      "metadata": {
        "id": "k_AXJzhpsIHt"
      }
    },
    {
      "cell_type": "markdown",
      "source": [
        "Comencemos haciéndonos la pregunta: ¿Qué es excel?"
      ],
      "metadata": {
        "id": "U8if1R7mhOeR"
      }
    },
    {
      "cell_type": "markdown",
      "source": [
        " Excel forma parte del paquete Microsoft Office y puede definirse como el programa de hojas de cálculo más utilizado del mundo.\n",
        "\n",
        "Existen otros programas de hojas de cálculo como Google Workspace, Quip, Apple Numbers, Zoho Sheet, Minitab Statistical Software, WPS Spreadsheets y OfficeSuite pero Excel es, con diferencia, el más popular y ha sido el estándar mundial durante muchos años.\n",
        "\n",
        "\n",
        "Gran parte del atractivo de Excel es su versatilidad. Su punto fuerte, por supuesto, es la realización de cálculos numéricos, pero también es útil para aplicaciones no numéricas. Veamos a continuación algunas tareas en las que podemos utilizar Excel.\n",
        "\n",
        "* Analizar números: crear presupuestos, tabular gastos, analizar resultados de encuestas y realizar cualquier tipo de análisis financiero que se nos ocurra.\n",
        "También podemos hacer operaciones estadísticas. Tiene funciones para calcular probabilidades, estadísticas descriptivas y se pueden trazar modelos sencillos.\n",
        "\n",
        "* Organización de listas.\n",
        "\n",
        "* Manejo de texto, podemos limpiar y normalizar a los datos basados en texto.\n",
        "\n",
        "* Acceder a otros datos, Excel permite importar datos de diversas fuentes.\n",
        "\n",
        "* Crear dashboards, los dashboards son gráficos que permiten resumir una gran cantidad de información empresarial en un formato conciso.\n",
        "\n",
        "* Crear gráficos y diagramas: Utilizar formas y SmartArt para crear diagramas de aspecto profesional.\n",
        "\n",
        "* Automatizar tareas complejas a través de macros."
      ],
      "metadata": {
        "id": "glFewuMLccJv"
      }
    },
    {
      "cell_type": "markdown",
      "source": [
        " Ya comentamos algunos datos importantes sobre Excel. Entonces es posible que ahora surga la pregunta ¿Qué es Python? Por eso, vamos a hablar un poco de Python.\n",
        "\n",
        " Python es un lenguaje de programación de alto nivel, interpretado, interactivo. Su flexibilidad permite hacer muchas cosas, tanto grandes como pequeñas; esto indica que es un lenguaje multiparadigma. Dado que combina propiedades de diferentes paradigmas de programación, sus aplicaciones no se limitan a un área en concreto. El hecho de que sea multiparadigma permite utilizarlo en campos aparentemente tan dispares como el diseño de aplicaciones web o la inteligencia artificial, entre muchos otros.\n",
        "  Con Python, puedes escribir programas y scripts básicos y también crear soluciones empresariales complejas y a gran escala. Entre las cosas que podemos hacer están:\n",
        " \n",
        " * Construir aplicaciones de escritorio\n",
        " * Realizar análisis de datos de forma matemática y cientifica\n",
        " * Crear aplicaciones web\n",
        " * Administrar sistemas informáticos y automatización de tareas\n",
        " * Realización de tareas DevOps\n",
        " * Python está disponible de forma gratuita, incluso para fines comerciales."
      ],
      "metadata": {
        "id": "BbyuZNsaccPv"
      }
    },
    {
      "cell_type": "markdown",
      "source": [
        "Python ofrece una amplia gama de bibliotecas que nos permiten realizar tareas de forma más fácil, sin tener que programar tanto. Veamos ahora ¿Por qué Numpy y pandas?\n",
        "\n",
        "Numpy facilita el cálculo numérico con Python, proporciona un objeto de arreglo multidimensional, varios objetos derivados (como arreglos enmascarados y matrices), y un surtido de rutinas para realizar operaciones rápidas con arreglos, incluyendo operaciones matemáticas, lógicas, de manipulación de formas, de ordenación, de selección, de E/S, de transformadas discretas de Fourier, de álgebra lineal básica, de operaciones estadísticas básicas, de simulación aleatoria y mucho más.\n",
        "\n",
        "https://numpy.org/doc/stable/\n",
        "\n",
        " Pandas es generalmente utilizada en el AED ya que provee de una serie de métodos que permiten indagar sobre el comportamiento de un conjunto de datos. Si se realizan tareas básicas de exploración de datos, sin duda pandas es la mejor opción.\n",
        "\n",
        "https://pandas.pydata.org/docs/#module-pandas"
      ],
      "metadata": {
        "id": "LIKwAYBZccSq"
      }
    },
    {
      "cell_type": "markdown",
      "source": [
        "## Posibles limitaciones y errores comunes en el uso de Excel.\n",
        "Ahora veamos las posibles limitaciones y errores comunes en el uso de Excel.\n",
        "\n",
        "Los errores se generan principalmente porque las personas tienen control directo sobre las hojas de cálculo y muchas de las fórmulas se pueden alterar al no ser bien codificadas.\n",
        "\n",
        "* Los datos son textos\n",
        "\n",
        "  Los formatos de los valores a veces son un problema. Puedes tener fechas y no los reconoce como tal o tener millares pero por la configuración no lo reconocerá correctamente.\n",
        "  \n",
        "  La consecuencia de esto es que se producen en su mayoría, errores de cálculo o fórmulas que arrojan un mensaje de error. \n",
        "\n",
        "  \n",
        "* Redondeo de valores\n",
        "\n",
        "  Quizá te haya sucedido, estás en una columna en la que tienes valores con más de un decimal pero Excel no lo refleja así. En su lugar muestra valores enteros, esto se debe a que se configuró para que redondee los números o porque existe al menos un número entero y el software reconoce que todos deberían estar en el mismo formato.\n",
        "\n",
        "* Referencias circulares\n",
        "\n",
        "  Consiste en un fórmula que hace referencia de forma indirecta o directa a si misma. Es una práctica que puede alterar y generar errores en los datos o confundir a quien no esté directamente familiarizado con los cálculos actuales.\n",
        "   Por ejemplo, sumamos los valores de la columna A desde A1 a A7, colocando en A8 el resultado. Se produce una referencia circular si incluimos el valor de A8 en ese cálculo. \n",
        "\n",
        "Así como esto, existen otros errores más. Patrick O'Beirne creó una página web en la que se recopilan una serie de errores en Excel. Lleva por nombre Systems Modelling, en la que se expresan algunos casos que se han detectado. \n",
        "\n",
        "Caso 1: Datos no controlados: 16000 resultados de la prueba Covid-19 en el Reino Unido perdidos durante una semana.\n",
        "Este caso se debe a que se utilizó una versión antigua de Excel limitando la cantidad de filas en los archivos.\n",
        "\n",
        "Caso 2: Los científicos cambian el nombre de los genes humanos para evitar que Microsoft Excel los interprete erróneamente como fechas.\n",
        "\n",
        "Caso 3: Un error en la hoja de cálculo provocó el retraso en la apertura del hospital de Edimburgo. \n",
        "\n",
        "Se detectó un valor incorrecto en los reportes lo cual produjo que no se tomara en cuenta en remodelaciones.\n",
        "\n",
        "Caso 4: Fannie Mae (Asociación Federal Nacional Hipotecaria) presentó en 2003  un formulario para corregir su comunicado de prensa en el que habían errores de cálculo. \"Se trataban de errores honestos cometidos en una hoja de cálculo utilizada en la aplicación de una nueva norma contable. La corrección tuvo que ver con un error computacional en la realización de cálculos complicados requeridos en la aplicación de la FAS 149.\""
      ],
      "metadata": {
        "id": "6qYuJdLlcnYG"
      }
    },
    {
      "cell_type": "markdown",
      "source": [
        "## ¿Por qué resulta mejor utilizar Python en lugar de Excel para algunas tareas específicas?\n",
        "\n",
        "Excel es una excelente herramienta pero Python puede ser mejor en determinadas funcionalidades. Con Python puedes realizar cálculos más eficientes, contarás con herramientas especializadas y no corres el riesgo de editar por error los valores.\n",
        "\n",
        "Python permite realizar cálculos con pocas líneas de código lo cual facilita la corrección de errores.\n",
        "\n",
        "\n",
        "Por ejemplo, una empresa que maneje una cantidad considerable de datos y desee realizar análisis del tipo descriptivo y predictivo, necesita calcular constantemente las estadísticas y valores informativos sobre los datos. Esta actividad debe hacerse de forma rápida y eficiente, Pyhon brindaría las herramientas más potentes en este caso. Muchas veces Excel puede ser lento y bloquearse ante la presencia de grandes cantidades de datos. \n",
        "\n",
        "\n",
        "Tanto Python como Excel pueden trabajarse en conjunto, hay cosas que podemos hacer con Excel como transcribir datos y editarlos, crear tablas de pocos datos y realizar cálculos sencillos. Lo cual logra una buena combinación."
      ],
      "metadata": {
        "id": "dS_Mx-UKcong"
      }
    },
    {
      "cell_type": "markdown",
      "source": [
        "Si tienes algunas anécdotas con Excel puedes dejarla en los comentarios, nos gustaría leerte."
      ],
      "metadata": {
        "id": "teUeSv2-BLB4"
      }
    }
  ]
}