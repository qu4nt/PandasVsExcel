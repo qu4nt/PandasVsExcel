{
  "cells": [
    {
      "cell_type": "markdown",
      "metadata": {
        "id": "view-in-github",
        "colab_type": "text"
      },
      "source": [
        "<a href=\"https://colab.research.google.com/github/qu4nt/PandasVsExcel/blob/dev/S02_primeros_pasos.ipynb\" target=\"_parent\"><img src=\"https://colab.research.google.com/assets/colab-badge.svg\" alt=\"Open In Colab\"/></a>"
      ]
    },
    {
      "cell_type": "markdown",
      "id": "be9dcbfd",
      "metadata": {
        "id": "be9dcbfd"
      },
      "source": [
        "# Primeros pasos con Python\n",
        "\n",
        "En esta lección aprenderás los tipos de datos que existen en Python"
      ]
    },
    {
      "cell_type": "markdown",
      "id": "c26717e2",
      "metadata": {
        "id": "c26717e2"
      },
      "source": [
        "En Python, al igual que con excel podemos realizar operaciones aritméticas tal y como en una simple calculadora. Por ejemplo,"
      ]
    },
    {
      "cell_type": "code",
      "execution_count": null,
      "id": "2889619a",
      "metadata": {
        "id": "2889619a",
        "outputId": "2182d4ec-7bac-4ca9-d8f9-fff932389a19",
        "colab": {
          "base_uri": "https://localhost:8080/"
        }
      },
      "outputs": [
        {
          "output_type": "execute_result",
          "data": {
            "text/plain": [
              "6"
            ]
          },
          "metadata": {},
          "execution_count": 1
        }
      ],
      "source": [
        "2 + 4"
      ]
    },
    {
      "cell_type": "code",
      "execution_count": null,
      "id": "48dfb6d7",
      "metadata": {
        "id": "48dfb6d7",
        "outputId": "1daff6e0-95c0-4efb-b017-d5352aa87a64",
        "colab": {
          "base_uri": "https://localhost:8080/"
        }
      },
      "outputs": [
        {
          "output_type": "execute_result",
          "data": {
            "text/plain": [
              "12"
            ]
          },
          "metadata": {},
          "execution_count": 2
        }
      ],
      "source": [
        "4 * 3"
      ]
    },
    {
      "cell_type": "code",
      "execution_count": null,
      "id": "f5cae97e",
      "metadata": {
        "id": "f5cae97e",
        "outputId": "865cf3ff-2091-41b0-dca1-06e08e703c36",
        "colab": {
          "base_uri": "https://localhost:8080/"
        }
      },
      "outputs": [
        {
          "output_type": "execute_result",
          "data": {
            "text/plain": [
              "5.0"
            ]
          },
          "metadata": {},
          "execution_count": 3
        }
      ],
      "source": [
        "10 / 2"
      ]
    },
    {
      "cell_type": "markdown",
      "id": "be94b3c8",
      "metadata": {
        "id": "be94b3c8"
      },
      "source": [
        "Es recomendable dejar un espacio antes y después de utilizar un operador para una mejor comprensión de las operaciones que se van a realizar.  "
      ]
    },
    {
      "cell_type": "markdown",
      "id": "9ce5dbe7",
      "metadata": {
        "id": "9ce5dbe7"
      },
      "source": [
        "Jerarquía o precedencia de operaciones\n",
        "\n",
        "El orden establecido para la resolución de operaciones se denomina jerarquía o precedencia de operaciones, esto va a determinar la prioridad en que se calcula cada parte de la expresión matemática. En el caso de Python tenemos:\n",
        "\n",
        "Potencias y radicales.\n",
        "Multiplicación, división y división entera.\n",
        "Suma y resta.\n"
      ]
    },
    {
      "cell_type": "markdown",
      "id": "781f5055",
      "metadata": {
        "id": "781f5055"
      },
      "source": [
        "📓\n",
        "Operadores aritméticos \n",
        "\n",
        "|Operador|Descripción|\n",
        "|--------|-----------|\n",
        "|+|Suma|\n",
        "|-|Resta|\n",
        "|*|Multiplicación|\n",
        "|/|División|\n",
        "|//|División entera|\n",
        "|**| Potencia|\n",
        "|%|Residuo|"
      ]
    },
    {
      "cell_type": "markdown",
      "id": "7e8208b1",
      "metadata": {
        "id": "7e8208b1"
      },
      "source": [
        "Todo esto lo podemos realizar gracias a la biblioteca estándar (más adelante estudiaremos acerca de las bibliotecas)."
      ]
    },
    {
      "cell_type": "markdown",
      "source": [
        "## Variables\n",
        "\n",
        "En Excel tenemos celdas y cada una de ellas tienen nombres, A1, A2, B1 y así sucesivamente. En estas celdas podemos almacenar datos de tipo número, fechas, horas, porcentajes y textos. En Python el equivalente a una celda podría ser una variable. ¿Por qué una variable? Las variables se pueden definir como la etiqueta de un valor, tiene la forma nombre = valor.\n",
        "\n",
        "Por ejemplo, si escribimos y ejecutamos en una celda del cuaderno A1 igual a 23."
      ],
      "metadata": {
        "id": "qUquVoPkMgmx"
      },
      "id": "qUquVoPkMgmx"
    },
    {
      "cell_type": "code",
      "source": [
        "A1 = 23"
      ],
      "metadata": {
        "id": "YA9EtMRO8n9a"
      },
      "id": "YA9EtMRO8n9a",
      "execution_count": null,
      "outputs": []
    },
    {
      "cell_type": "markdown",
      "source": [
        "Tenemos una variable cuyo nombre es A1 y se almacena en ella el número 23."
      ],
      "metadata": {
        "id": "xR1NN3728s9h"
      },
      "id": "xR1NN3728s9h"
    },
    {
      "cell_type": "markdown",
      "source": [
        "Por esa capacidad de almacenar las variables también se definen como cajas de almacenamiento en las que se guardan valores (objetos). \n",
        "\n",
        "Si deseas mostrar lo que contiene la variable simplemente debes escribir el nombre de la variable."
      ],
      "metadata": {
        "id": "VWbuqFpCmXsA"
      },
      "id": "VWbuqFpCmXsA"
    },
    {
      "cell_type": "code",
      "source": [
        "A1"
      ],
      "metadata": {
        "colab": {
          "base_uri": "https://localhost:8080/"
        },
        "id": "teo6rwjo8hqx",
        "outputId": "e97bd86b-4b5a-4a9e-9c87-41a7ae239baf"
      },
      "id": "teo6rwjo8hqx",
      "execution_count": null,
      "outputs": [
        {
          "output_type": "execute_result",
          "data": {
            "text/plain": [
              "23"
            ]
          },
          "metadata": {},
          "execution_count": 5
        }
      ]
    },
    {
      "cell_type": "markdown",
      "source": [
        "Un aspecto importante para tener en cuenta es lo siguiente:\n",
        "\n",
        "Para una variable cualquiera, en este caso utilizaré **algo** para un ejemplo, y le asignaré el número uno. Es decir que esta variable cuando se invoque mostrará el número 1."
      ],
      "metadata": {
        "id": "Ol7D9CZels69"
      },
      "id": "Ol7D9CZels69"
    },
    {
      "cell_type": "code",
      "source": [
        "algo = 1"
      ],
      "metadata": {
        "id": "GnEpOJ53vOXI"
      },
      "id": "GnEpOJ53vOXI",
      "execution_count": null,
      "outputs": []
    },
    {
      "cell_type": "markdown",
      "source": [
        "El llamado de la variable debe hacerse con el nombre exactamente igual a como se creo inicialmente, en este caso si colocamos la palabra algo de distintas formas nos arrojará un error"
      ],
      "metadata": {
        "id": "8ekJhLooUr5O"
      },
      "id": "8ekJhLooUr5O"
    },
    {
      "cell_type": "code",
      "source": [
        "Algo"
      ],
      "metadata": {
        "colab": {
          "base_uri": "https://localhost:8080/",
          "height": 169
        },
        "id": "hAGaMSDYvV0x",
        "outputId": "5c03b7e2-1dca-402d-fc03-3bcbdade6939"
      },
      "id": "hAGaMSDYvV0x",
      "execution_count": null,
      "outputs": [
        {
          "output_type": "error",
          "ename": "NameError",
          "evalue": "ignored",
          "traceback": [
            "\u001b[0;31m---------------------------------------------------------------------------\u001b[0m",
            "\u001b[0;31mNameError\u001b[0m                                 Traceback (most recent call last)",
            "\u001b[0;32m<ipython-input-7-a7f6fbb17a06>\u001b[0m in \u001b[0;36m<module>\u001b[0;34m()\u001b[0m\n\u001b[0;32m----> 1\u001b[0;31m \u001b[0mAlgo\u001b[0m\u001b[0;34m\u001b[0m\u001b[0;34m\u001b[0m\u001b[0m\n\u001b[0m",
            "\u001b[0;31mNameError\u001b[0m: name 'Algo' is not defined"
          ]
        }
      ]
    },
    {
      "cell_type": "code",
      "source": [
        "ALGO"
      ],
      "metadata": {
        "colab": {
          "base_uri": "https://localhost:8080/",
          "height": 169
        },
        "id": "gvCiDZTdvV5h",
        "outputId": "7802ba93-1350-41e6-fa88-35d09b6699cb"
      },
      "id": "gvCiDZTdvV5h",
      "execution_count": null,
      "outputs": [
        {
          "output_type": "error",
          "ename": "NameError",
          "evalue": "ignored",
          "traceback": [
            "\u001b[0;31m---------------------------------------------------------------------------\u001b[0m",
            "\u001b[0;31mNameError\u001b[0m                                 Traceback (most recent call last)",
            "\u001b[0;32m<ipython-input-8-31f753503da8>\u001b[0m in \u001b[0;36m<module>\u001b[0;34m()\u001b[0m\n\u001b[0;32m----> 1\u001b[0;31m \u001b[0mALGO\u001b[0m\u001b[0;34m\u001b[0m\u001b[0;34m\u001b[0m\u001b[0m\n\u001b[0m",
            "\u001b[0;31mNameError\u001b[0m: name 'ALGO' is not defined"
          ]
        }
      ]
    },
    {
      "cell_type": "code",
      "source": [
        "alGo"
      ],
      "metadata": {
        "colab": {
          "base_uri": "https://localhost:8080/",
          "height": 169
        },
        "id": "mhiU_6-RvWEM",
        "outputId": "e0064f5a-40f3-43b6-a7bc-edf079d76ab3"
      },
      "id": "mhiU_6-RvWEM",
      "execution_count": null,
      "outputs": [
        {
          "output_type": "error",
          "ename": "NameError",
          "evalue": "ignored",
          "traceback": [
            "\u001b[0;31m---------------------------------------------------------------------------\u001b[0m",
            "\u001b[0;31mNameError\u001b[0m                                 Traceback (most recent call last)",
            "\u001b[0;32m<ipython-input-9-341088e4f482>\u001b[0m in \u001b[0;36m<module>\u001b[0;34m()\u001b[0m\n\u001b[0;32m----> 1\u001b[0;31m \u001b[0malGo\u001b[0m\u001b[0;34m\u001b[0m\u001b[0;34m\u001b[0m\u001b[0m\n\u001b[0m",
            "\u001b[0;31mNameError\u001b[0m: name 'alGo' is not defined"
          ]
        }
      ]
    },
    {
      "cell_type": "markdown",
      "source": [
        "Pero si se escribe bien el nombre te mostrará correctamente el valor almacenado."
      ],
      "metadata": {
        "id": "wRsJpN-FVRWh"
      },
      "id": "wRsJpN-FVRWh"
    },
    {
      "cell_type": "code",
      "source": [
        "algo"
      ],
      "metadata": {
        "colab": {
          "base_uri": "https://localhost:8080/"
        },
        "id": "XbMoSVNxvg4a",
        "outputId": "df134127-9a63-4ddd-a499-9b16461c0ac4"
      },
      "id": "XbMoSVNxvg4a",
      "execution_count": null,
      "outputs": [
        {
          "output_type": "execute_result",
          "data": {
            "text/plain": [
              "1"
            ]
          },
          "metadata": {},
          "execution_count": 10
        }
      ]
    },
    {
      "cell_type": "markdown",
      "source": [
        " ¿A qué se debe esto?\n",
        "\n",
        "Te cuento que esto se debe a que Python es *case sensitive*.\n",
        "\n",
        " ¿Qué significa?\n",
        "\n",
        " Significa que Python es sensible a las mayúsculas y minúsculas. Por ello si defines una variable solo con mayúsculas, mayúsculas y minúsculas o  solo minúsculas y luego quieres hacer cálculos con ella, debes escribirla de la misma forma. De lo contrario Python te mostrará mensajes de error como los anteriores."
      ],
      "metadata": {
        "id": "2xv5XDHiSI5c"
      },
      "id": "2xv5XDHiSI5c"
    },
    {
      "cell_type": "markdown",
      "source": [
        "📓 El nombre de las variables en Python puede tener cualquier longitud. También puede combinar letras mayúsculas y minúsculas, números y guión bajo (_).\n",
        "\n",
        "A pesar de que los nombres de las variables pueden contener números, el primer carácter del nombre no debe ser un número.\n",
        "\n",
        "Por ejemplo:\n",
        "Variables correctas\n",
        "- Edad = 80\n",
        "- sueldoBase = 400\n",
        "- variable01 = 1\n",
        "- variable_ = 2\n",
        "- primera_variable = 22\n",
        "- Variable_edad_estudiante_01 = 30\n",
        "\n",
        "Variables incorrectas\n",
        "\n",
        "- 01variable = 20\n",
        "- variable-01 = 12\n",
        "- variable edad = 18\n"
      ],
      "metadata": {
        "id": "t8UngygvVyZG"
      },
      "id": "t8UngygvVyZG"
    },
    {
      "cell_type": "markdown",
      "source": [
        "Ahora que ya sabemos lo que es una variable y cómo crearla. Nos podemos preguntar sobre los tipos de datos que podemos almacenar en estas variables. Entonces veamos los tipos de datos en Python."
      ],
      "metadata": {
        "id": "vcFAmHN3WQx8"
      },
      "id": "vcFAmHN3WQx8"
    },
    {
      "cell_type": "markdown",
      "id": "6949ad6d",
      "metadata": {
        "id": "6949ad6d"
      },
      "source": [
        "# Tipos de datos en Python\n",
        "\n",
        "## Datos simples"
      ]
    },
    {
      "cell_type": "markdown",
      "id": "f3227d0c",
      "metadata": {
        "id": "f3227d0c"
      },
      "source": [
        "## Números\n",
        "En Python los números pueden ser de tipo `int` o `float`. \n",
        "\n",
        "`int` hace referencia a los números enteros. Por ejemplo, 3 es un número entero, en Python será de tipo `int`. Por otro lado, 1.0 no es un número entero; tiene una parte decimal.\n",
        "\n",
        "`float` en este caso se refiere a los números que incluyen una parte decimal. Por ejemplo 1.0 tiene parte decimal, por lo cual es un valor de punto flotante.\n",
        "\n",
        "Muchas personas confunden los números enteros y los de punto flotante,\n",
        "pero la diferencia es fácil de recordar. Si ves un decimal en el número es un valor de punto flotante."
      ]
    },
    {
      "cell_type": "markdown",
      "source": [
        "En Excel los números se almacenan comúnmente bajo el formato General y Número. Dependiendo de la configuración, los números son leídos de forma correcta. Si estamos en formato de habla española es probable que excel esté configurado para detectar los puntos como separadores de miles y las comas como separador de decimales.\n",
        "\n",
        "Cuando trabajamos con Python, la separación decimal se representa con punto."
      ],
      "metadata": {
        "id": "0H0k16NX4YoY"
      },
      "id": "0H0k16NX4YoY"
    },
    {
      "cell_type": "code",
      "source": [
        "decimal = 1.0\n",
        "entero1 = 3"
      ],
      "metadata": {
        "id": "jcpbE6Plinrq"
      },
      "id": "jcpbE6Plinrq",
      "execution_count": null,
      "outputs": []
    },
    {
      "cell_type": "code",
      "source": [
        "type(decimal)"
      ],
      "metadata": {
        "colab": {
          "base_uri": "https://localhost:8080/"
        },
        "id": "WFOxGgI4iw1k",
        "outputId": "69dd9b9b-0d05-4e7e-d923-82fbeea88f36"
      },
      "id": "WFOxGgI4iw1k",
      "execution_count": null,
      "outputs": [
        {
          "output_type": "execute_result",
          "data": {
            "text/plain": [
              "float"
            ]
          },
          "metadata": {},
          "execution_count": 12
        }
      ]
    },
    {
      "cell_type": "code",
      "source": [
        "type(entero1)"
      ],
      "metadata": {
        "colab": {
          "base_uri": "https://localhost:8080/"
        },
        "id": "mqD7UhFJi0iv",
        "outputId": "11406d3a-ad11-4cbf-e8e2-efd2646ddcbd"
      },
      "id": "mqD7UhFJi0iv",
      "execution_count": null,
      "outputs": [
        {
          "output_type": "execute_result",
          "data": {
            "text/plain": [
              "int"
            ]
          },
          "metadata": {},
          "execution_count": 13
        }
      ]
    },
    {
      "cell_type": "code",
      "source": [
        "entero2 = 4"
      ],
      "metadata": {
        "id": "wyIpRgTXi5Uu"
      },
      "id": "wyIpRgTXi5Uu",
      "execution_count": null,
      "outputs": []
    },
    {
      "cell_type": "code",
      "source": [
        "division = entero1/entero2\n",
        "division"
      ],
      "metadata": {
        "colab": {
          "base_uri": "https://localhost:8080/"
        },
        "id": "O6DQMTOGjKI2",
        "outputId": "0cbf6e08-bb7f-4690-fd11-abceced82a90"
      },
      "id": "O6DQMTOGjKI2",
      "execution_count": null,
      "outputs": [
        {
          "output_type": "execute_result",
          "data": {
            "text/plain": [
              "0.75"
            ]
          },
          "metadata": {},
          "execution_count": 28
        }
      ]
    },
    {
      "cell_type": "code",
      "source": [
        "type(division)"
      ],
      "metadata": {
        "colab": {
          "base_uri": "https://localhost:8080/"
        },
        "id": "GeumMIkjjTMv",
        "outputId": "ba8711be-b4fa-453a-a505-b7cbf6b2995c"
      },
      "id": "GeumMIkjjTMv",
      "execution_count": null,
      "outputs": [
        {
          "output_type": "execute_result",
          "data": {
            "text/plain": [
              "float"
            ]
          },
          "metadata": {},
          "execution_count": 29
        }
      ]
    },
    {
      "cell_type": "markdown",
      "source": [
        "📈 Los números enteros son `int` y los punto flotante `float`."
      ],
      "metadata": {
        "id": "zRAKc8t7IjbF"
      },
      "id": "zRAKc8t7IjbF"
    },
    {
      "cell_type": "markdown",
      "id": "52176baf",
      "metadata": {
        "id": "52176baf"
      },
      "source": [
        "## Cadenas\n",
        "\n",
        "Las palabras, frases, simbolos, números y letras son cadenas. En Excel se almacenan como General o texto. En Python también podemos almacenar cadenas y se conocen como string y se denotan con las letras str.\n",
        "\n",
        "💡 Una cadena es una colección de caracteres, estos pueden ser una letra, un número, un símbolo, palabras, frases y se puede utilizar para almacenar literalmente cualquier tipo de información. Una cadena podría contener una imagen, un archivo de sonido o incluso un vídeo, pero el uso más común de las cadenas es almacenar texto.\n",
        "\n",
        "Para introducir una cadena en Python, debemos colocarla entre comillas simples (') o comillas dobles (\")."
      ]
    },
    {
      "cell_type": "code",
      "source": [
        "'Hola'"
      ],
      "metadata": {
        "colab": {
          "base_uri": "https://localhost:8080/",
          "height": 36
        },
        "id": "tJpPtBGUuWPe",
        "outputId": "793341a2-3e9b-4d12-9d2a-2fca0c6e6a63"
      },
      "id": "tJpPtBGUuWPe",
      "execution_count": null,
      "outputs": [
        {
          "output_type": "execute_result",
          "data": {
            "text/plain": [
              "'Hola'"
            ],
            "application/vnd.google.colaboratory.intrinsic+json": {
              "type": "string"
            }
          },
          "metadata": {},
          "execution_count": 30
        }
      ]
    },
    {
      "cell_type": "code",
      "source": [
        "'1'"
      ],
      "metadata": {
        "colab": {
          "base_uri": "https://localhost:8080/",
          "height": 36
        },
        "id": "FTXpKXGsuYa6",
        "outputId": "f1c3d040-9494-490d-9207-3a421a73a220"
      },
      "id": "FTXpKXGsuYa6",
      "execution_count": null,
      "outputs": [
        {
          "output_type": "execute_result",
          "data": {
            "text/plain": [
              "'1'"
            ],
            "application/vnd.google.colaboratory.intrinsic+json": {
              "type": "string"
            }
          },
          "metadata": {},
          "execution_count": 31
        }
      ]
    },
    {
      "cell_type": "code",
      "source": [
        "\"Es un gusto que estés aquí\""
      ],
      "metadata": {
        "colab": {
          "base_uri": "https://localhost:8080/",
          "height": 36
        },
        "id": "uKLBA357uYhb",
        "outputId": "010ddea5-ce69-4678-b963-ebaf0c2e80c1"
      },
      "id": "uKLBA357uYhb",
      "execution_count": null,
      "outputs": [
        {
          "output_type": "execute_result",
          "data": {
            "text/plain": [
              "'Es un gusto que estés aquí'"
            ],
            "application/vnd.google.colaboratory.intrinsic+json": {
              "type": "string"
            }
          },
          "metadata": {},
          "execution_count": 32
        }
      ]
    },
    {
      "cell_type": "markdown",
      "source": [
        "También tenemos la opción de introducir cadenas de texto colocándolas entre triple comillas simples o triple comillas dobles."
      ],
      "metadata": {
        "id": "Ax1LToSvpMlz"
      },
      "id": "Ax1LToSvpMlz"
    },
    {
      "cell_type": "code",
      "source": [
        "\"\"\"Hola\"\"\""
      ],
      "metadata": {
        "colab": {
          "base_uri": "https://localhost:8080/",
          "height": 36
        },
        "id": "JBq3dYJXo8Of",
        "outputId": "083e9e0f-da38-4c52-d5c4-2845139d72e6"
      },
      "id": "JBq3dYJXo8Of",
      "execution_count": null,
      "outputs": [
        {
          "output_type": "execute_result",
          "data": {
            "text/plain": [
              "'Hola'"
            ],
            "application/vnd.google.colaboratory.intrinsic+json": {
              "type": "string"
            }
          },
          "metadata": {},
          "execution_count": 33
        }
      ]
    },
    {
      "cell_type": "code",
      "source": [
        "'''Hola'''"
      ],
      "metadata": {
        "colab": {
          "base_uri": "https://localhost:8080/",
          "height": 36
        },
        "id": "h8tC5oHjpBOD",
        "outputId": "72a280c6-2880-4dd3-c08a-c75c72c59558"
      },
      "id": "h8tC5oHjpBOD",
      "execution_count": null,
      "outputs": [
        {
          "output_type": "execute_result",
          "data": {
            "text/plain": [
              "'Hola'"
            ],
            "application/vnd.google.colaboratory.intrinsic+json": {
              "type": "string"
            }
          },
          "metadata": {},
          "execution_count": 20
        }
      ]
    },
    {
      "cell_type": "markdown",
      "source": [
        "Los caracteres con dos comillas simples o dobles no funcionan, esto también pasa con más de tres comillas simples o dobles."
      ],
      "metadata": {
        "id": "igxbVPf4tn1x"
      },
      "id": "igxbVPf4tn1x"
    },
    {
      "cell_type": "code",
      "source": [
        "\"\"¿Funciona?\"\""
      ],
      "metadata": {
        "colab": {
          "base_uri": "https://localhost:8080/",
          "height": 134
        },
        "id": "Jrrzxa0bwNtH",
        "outputId": "8c2fa364-6fbf-4129-90be-2b65188d557e"
      },
      "id": "Jrrzxa0bwNtH",
      "execution_count": null,
      "outputs": [
        {
          "output_type": "error",
          "ename": "SyntaxError",
          "evalue": "ignored",
          "traceback": [
            "\u001b[0;36m  File \u001b[0;32m\"<ipython-input-34-e1159a1b181a>\"\u001b[0;36m, line \u001b[0;32m1\u001b[0m\n\u001b[0;31m    \"\"¿Funciona?\"\"\u001b[0m\n\u001b[0m              ^\u001b[0m\n\u001b[0;31mSyntaxError\u001b[0m\u001b[0;31m:\u001b[0m invalid character in identifier\n"
          ]
        }
      ]
    },
    {
      "cell_type": "markdown",
      "source": [
        "Ahora, probemos almacenar una palabra en una variable, voy a guardar Saludos."
      ],
      "metadata": {
        "id": "JpVcNHirwNBY"
      },
      "id": "JpVcNHirwNBY"
    },
    {
      "cell_type": "code",
      "source": [
        "cadena = \"Saludos\""
      ],
      "metadata": {
        "id": "bMVNRZyGuhe-"
      },
      "id": "bMVNRZyGuhe-",
      "execution_count": null,
      "outputs": []
    },
    {
      "cell_type": "markdown",
      "source": [
        "Al invocar la variable obtenemos lo que almacena"
      ],
      "metadata": {
        "id": "hfUEXJAgwkpG"
      },
      "id": "hfUEXJAgwkpG"
    },
    {
      "cell_type": "code",
      "source": [
        "cadena"
      ],
      "metadata": {
        "colab": {
          "base_uri": "https://localhost:8080/",
          "height": 36
        },
        "id": "_wbbupequl6i",
        "outputId": "c7a7397d-78fa-46cb-9671-f315a15acc4e"
      },
      "id": "_wbbupequl6i",
      "execution_count": null,
      "outputs": [
        {
          "output_type": "execute_result",
          "data": {
            "text/plain": [
              "'Saludos'"
            ],
            "application/vnd.google.colaboratory.intrinsic+json": {
              "type": "string"
            }
          },
          "metadata": {},
          "execution_count": 36
        }
      ]
    },
    {
      "cell_type": "markdown",
      "source": [
        "Utilicemos la función type para ver el tipo de dato:"
      ],
      "metadata": {
        "id": "MsF198yOww7O"
      },
      "id": "MsF198yOww7O"
    },
    {
      "cell_type": "code",
      "source": [
        "type(cadena)"
      ],
      "metadata": {
        "colab": {
          "base_uri": "https://localhost:8080/"
        },
        "id": "c-Uuc-kxuna0",
        "outputId": "537d6149-712f-4a13-be44-25dac16f922f"
      },
      "id": "c-Uuc-kxuna0",
      "execution_count": null,
      "outputs": [
        {
          "output_type": "execute_result",
          "data": {
            "text/plain": [
              "str"
            ]
          },
          "metadata": {},
          "execution_count": 24
        }
      ]
    },
    {
      "cell_type": "markdown",
      "source": [
        "📈 Las cadenas (textos) son del tipo `str`, si queremos que Python las reconozca correctamente debemos introducirlas rodeadas de comillas simples o dobles."
      ],
      "metadata": {
        "id": "YvJ2IX0yNLAC"
      },
      "id": "YvJ2IX0yNLAC"
    },
    {
      "cell_type": "markdown",
      "source": [
        "Ahora, veamos otro tipo de datos."
      ],
      "metadata": {
        "id": "7ZO4W1sW0VkC"
      },
      "id": "7ZO4W1sW0VkC"
    },
    {
      "cell_type": "markdown",
      "id": "c3e5b28a",
      "metadata": {
        "id": "c3e5b28a"
      },
      "source": [
        "## Booleanos\n",
        "En Excel podemos evaluar condiciones. Cuando realizamos esto se generan valores verdadero o falso, true o false. En Python, este tipo de valores se conocen como Booleanos.\n",
        "\n",
        "\n",
        " Por ejemplo, si tomamos las variables anteriores, entero1 y entero2 para verificar si son o no iguales"
      ]
    },
    {
      "cell_type": "code",
      "source": [
        "entero1"
      ],
      "metadata": {
        "colab": {
          "base_uri": "https://localhost:8080/"
        },
        "id": "arMq4IPp3mfg",
        "outputId": "197d8237-52dd-426c-e0ca-ea210dd2ad89"
      },
      "id": "arMq4IPp3mfg",
      "execution_count": null,
      "outputs": [
        {
          "output_type": "execute_result",
          "data": {
            "text/plain": [
              "3"
            ]
          },
          "metadata": {},
          "execution_count": 25
        }
      ]
    },
    {
      "cell_type": "code",
      "source": [
        "entero2"
      ],
      "metadata": {
        "colab": {
          "base_uri": "https://localhost:8080/"
        },
        "id": "7D7ndBfD3noa",
        "outputId": "83aeac50-6220-4f3d-9862-051400188342"
      },
      "id": "7D7ndBfD3noa",
      "execution_count": null,
      "outputs": [
        {
          "output_type": "execute_result",
          "data": {
            "text/plain": [
              "4"
            ]
          },
          "metadata": {},
          "execution_count": 37
        }
      ]
    },
    {
      "cell_type": "code",
      "source": [
        "entero1 == entero2"
      ],
      "metadata": {
        "colab": {
          "base_uri": "https://localhost:8080/"
        },
        "id": "X7s9W5PKjmyd",
        "outputId": "94f580a9-9a68-485e-a0d4-815a6b5c359a"
      },
      "id": "X7s9W5PKjmyd",
      "execution_count": null,
      "outputs": [
        {
          "output_type": "execute_result",
          "data": {
            "text/plain": [
              "False"
            ]
          },
          "metadata": {},
          "execution_count": 38
        }
      ]
    },
    {
      "cell_type": "markdown",
      "source": [
        "En excel esto se haría evaluando 3 = 4. Ahora, evaluando si son distintos"
      ],
      "metadata": {
        "id": "O0YETdiVkDEf"
      },
      "id": "O0YETdiVkDEf"
    },
    {
      "cell_type": "code",
      "source": [
        "entero1 != entero2"
      ],
      "metadata": {
        "colab": {
          "base_uri": "https://localhost:8080/"
        },
        "id": "Sj4AOPQKkfWw",
        "outputId": "2b4e4c7f-7e95-4a57-f101-69281fabd525"
      },
      "id": "Sj4AOPQKkfWw",
      "execution_count": null,
      "outputs": [
        {
          "output_type": "execute_result",
          "data": {
            "text/plain": [
              "True"
            ]
          },
          "metadata": {},
          "execution_count": 39
        }
      ]
    },
    {
      "cell_type": "markdown",
      "source": [
        "En excel se utiliza 3 <> 4.\n",
        "\n",
        "Para evaluar desigualdades,"
      ],
      "metadata": {
        "id": "brXWLMxekjgg"
      },
      "id": "brXWLMxekjgg"
    },
    {
      "cell_type": "code",
      "source": [
        "entero1 < entero2 #> para mayor que"
      ],
      "metadata": {
        "colab": {
          "base_uri": "https://localhost:8080/"
        },
        "id": "x_snaD2ekodY",
        "outputId": "a0a4165e-b983-4552-d9ad-202900889fcd"
      },
      "id": "x_snaD2ekodY",
      "execution_count": null,
      "outputs": [
        {
          "output_type": "execute_result",
          "data": {
            "text/plain": [
              "True"
            ]
          },
          "metadata": {},
          "execution_count": 40
        }
      ]
    },
    {
      "cell_type": "markdown",
      "source": [
        "Para evaluar la desigualdad, se utilizan los mismos operadores en excel."
      ],
      "metadata": {
        "id": "NUZ-y7zEkvS6"
      },
      "id": "NUZ-y7zEkvS6"
    },
    {
      "cell_type": "markdown",
      "source": [
        "¿Cómo sería una variable con un valor booleano?"
      ],
      "metadata": {
        "id": "KcCpWi5F8UQK"
      },
      "id": "KcCpWi5F8UQK"
    },
    {
      "cell_type": "code",
      "source": [
        "booleanoT = True\n",
        "booleanoT"
      ],
      "metadata": {
        "colab": {
          "base_uri": "https://localhost:8080/"
        },
        "id": "HvEqAmpp8K7O",
        "outputId": "16df6adb-9198-46cb-add9-a8aacca2ff92"
      },
      "id": "HvEqAmpp8K7O",
      "execution_count": null,
      "outputs": [
        {
          "output_type": "execute_result",
          "data": {
            "text/plain": [
              "True"
            ]
          },
          "metadata": {},
          "execution_count": 42
        }
      ]
    },
    {
      "cell_type": "code",
      "source": [
        "type(booleanoT)"
      ],
      "metadata": {
        "colab": {
          "base_uri": "https://localhost:8080/"
        },
        "id": "ktrbyIDp8xrF",
        "outputId": "39d5386d-b65c-454c-8167-1a8cf75cc3d6"
      },
      "id": "ktrbyIDp8xrF",
      "execution_count": null,
      "outputs": [
        {
          "output_type": "execute_result",
          "data": {
            "text/plain": [
              "bool"
            ]
          },
          "metadata": {},
          "execution_count": 43
        }
      ]
    },
    {
      "cell_type": "code",
      "source": [
        "booleanoF = entero1 == entero2\n",
        "booleanoF"
      ],
      "metadata": {
        "colab": {
          "base_uri": "https://localhost:8080/"
        },
        "id": "bP0Jr9a68xxI",
        "outputId": "4b242f7e-cada-45a4-afe4-e4b415000e06"
      },
      "id": "bP0Jr9a68xxI",
      "execution_count": null,
      "outputs": [
        {
          "output_type": "execute_result",
          "data": {
            "text/plain": [
              "False"
            ]
          },
          "metadata": {},
          "execution_count": 45
        }
      ]
    },
    {
      "cell_type": "code",
      "source": [
        "type(booleanoF)"
      ],
      "metadata": {
        "colab": {
          "base_uri": "https://localhost:8080/"
        },
        "id": "FtOwULrI9HQ1",
        "outputId": "12b396f7-9c62-4ccd-b5ee-54ff1474cd3a"
      },
      "id": "FtOwULrI9HQ1",
      "execution_count": null,
      "outputs": [
        {
          "output_type": "execute_result",
          "data": {
            "text/plain": [
              "bool"
            ]
          },
          "metadata": {},
          "execution_count": 46
        }
      ]
    },
    {
      "cell_type": "markdown",
      "source": [
        "💡 Si nosotros mismos introducimos el valor True o False a alguna variable debemos tener en cuenta que Python los reconocera como booleanos si y sólo si escribimos True o False, con mayúscula la primera letra. Si esto no ocurre, Python arrojará un error."
      ],
      "metadata": {
        "id": "GocHLH_bQlSM"
      },
      "id": "GocHLH_bQlSM"
    },
    {
      "cell_type": "code",
      "source": [
        "true"
      ],
      "metadata": {
        "colab": {
          "base_uri": "https://localhost:8080/",
          "height": 169
        },
        "id": "WQEuel9TQeMx",
        "outputId": "48a1b542-959a-4385-ac20-c0b9bb154644"
      },
      "id": "WQEuel9TQeMx",
      "execution_count": null,
      "outputs": [
        {
          "output_type": "error",
          "ename": "NameError",
          "evalue": "ignored",
          "traceback": [
            "\u001b[0;31m---------------------------------------------------------------------------\u001b[0m",
            "\u001b[0;31mNameError\u001b[0m                                 Traceback (most recent call last)",
            "\u001b[0;32m<ipython-input-2-724ba28f4a9a>\u001b[0m in \u001b[0;36m<module>\u001b[0;34m()\u001b[0m\n\u001b[0;32m----> 1\u001b[0;31m \u001b[0mtrue\u001b[0m\u001b[0;34m\u001b[0m\u001b[0;34m\u001b[0m\u001b[0m\n\u001b[0m",
            "\u001b[0;31mNameError\u001b[0m: name 'true' is not defined"
          ]
        }
      ]
    },
    {
      "cell_type": "code",
      "source": [
        "True"
      ],
      "metadata": {
        "colab": {
          "base_uri": "https://localhost:8080/"
        },
        "id": "qjq9OR7lRX-Q",
        "outputId": "333fdb87-48a8-4127-b647-32b00de0be1c"
      },
      "id": "qjq9OR7lRX-Q",
      "execution_count": null,
      "outputs": [
        {
          "output_type": "execute_result",
          "data": {
            "text/plain": [
              "True"
            ]
          },
          "metadata": {},
          "execution_count": 3
        }
      ]
    },
    {
      "cell_type": "markdown",
      "source": [
        "📈 Los valores True y False se reconocen en Python como booleanos, `bool`."
      ],
      "metadata": {
        "id": "wd6Q9ivnlF_c"
      },
      "id": "wd6Q9ivnlF_c"
    },
    {
      "cell_type": "markdown",
      "source": [
        "# Estructuras de datos"
      ],
      "metadata": {
        "id": "20xAlGhifQgZ"
      },
      "id": "20xAlGhifQgZ"
    },
    {
      "cell_type": "markdown",
      "source": [
        "Las secuencias ordenadas de elementos en Excel pueden ser filas o columnas de valores, formando su estructura. Un aspecto resaltante es que la intersección entre columnas y filas resulta en una celda. Por ejemplo, la celda D4 está asociada a la columna D y a la fila 4. Lo cual permite localizar valores mediante coordenadas \"Columna, Fila\".\n",
        "\n",
        "En Python las estructuras de datos se hacen presentes a tráves de las listas, tuplas y diccionarios."
      ],
      "metadata": {
        "id": "YHQiSdpxfVzY"
      },
      "id": "YHQiSdpxfVzY"
    },
    {
      "cell_type": "markdown",
      "source": [
        "## Listas y tuplas"
      ],
      "metadata": {
        "id": "mF94N7vVkCxM"
      },
      "id": "mF94N7vVkCxM"
    },
    {
      "cell_type": "code",
      "source": [
        "lista = [1, 2, 3, 4]\n",
        "lista"
      ],
      "metadata": {
        "id": "sl-SW9d7bAaD",
        "colab": {
          "base_uri": "https://localhost:8080/"
        },
        "outputId": "f1dacad7-a906-407a-e134-ca2ae8fae398"
      },
      "id": "sl-SW9d7bAaD",
      "execution_count": null,
      "outputs": [
        {
          "output_type": "execute_result",
          "data": {
            "text/plain": [
              "[1, 2, 3, 4]"
            ]
          },
          "metadata": {},
          "execution_count": 6
        }
      ]
    },
    {
      "cell_type": "markdown",
      "source": [
        "El objeto anterior se denomina lista y puede contener, como en este caso, números, cadenas, otras listas o combinaciones de varios tipos de datos. Los elementos de las listas van separados por comas y los rodean corchetes."
      ],
      "metadata": {
        "id": "fxteePwlZzlf"
      },
      "id": "fxteePwlZzlf"
    },
    {
      "cell_type": "markdown",
      "source": [
        "Si escribimos type(lista) obtendremos la palabra `list` que hace referencia a este tipo de estructura."
      ],
      "metadata": {
        "id": "1FtqKaVQFyre"
      },
      "id": "1FtqKaVQFyre"
    },
    {
      "cell_type": "code",
      "source": [
        "type(lista)"
      ],
      "metadata": {
        "id": "Mwz23w7invnu"
      },
      "id": "Mwz23w7invnu",
      "execution_count": null,
      "outputs": []
    },
    {
      "cell_type": "markdown",
      "source": [
        "Para acceder a los elementos de las listas al igual que para las celdas de Excel se hace mediante la posición. Las posiciones de las listas comienzan de 0.\n",
        "\n",
        "Por ejemplo, si queremos acceder al primer valor de la lista sería"
      ],
      "metadata": {
        "id": "WJ2-27fFOnFk"
      },
      "id": "WJ2-27fFOnFk"
    },
    {
      "cell_type": "code",
      "source": [
        "lista[0]"
      ],
      "metadata": {
        "colab": {
          "base_uri": "https://localhost:8080/"
        },
        "id": "TVCUFp1AHl4f",
        "outputId": "56e9a049-8ea1-4f28-8ec2-4aa5fbd50e69"
      },
      "id": "TVCUFp1AHl4f",
      "execution_count": null,
      "outputs": [
        {
          "output_type": "execute_result",
          "data": {
            "text/plain": [
              "1"
            ]
          },
          "metadata": {},
          "execution_count": 7
        }
      ]
    },
    {
      "cell_type": "markdown",
      "source": [
        "Al último valor"
      ],
      "metadata": {
        "id": "YobiyxHSH07N"
      },
      "id": "YobiyxHSH07N"
    },
    {
      "cell_type": "code",
      "source": [
        "lista[-1]"
      ],
      "metadata": {
        "colab": {
          "base_uri": "https://localhost:8080/"
        },
        "id": "Xq7rVWAdHufo",
        "outputId": "3f97278c-27ee-47b7-af2d-8436d3a9b161"
      },
      "id": "Xq7rVWAdHufo",
      "execution_count": null,
      "outputs": [
        {
          "output_type": "execute_result",
          "data": {
            "text/plain": [
              "4"
            ]
          },
          "metadata": {},
          "execution_count": 8
        }
      ]
    },
    {
      "cell_type": "markdown",
      "source": [
        "Tuplas\n",
        "\n",
        "Las tuplas son similares a las listas, su diferencia está en que las tuplas son inmutables es decir, que sus elementos no se pueden cambiar una vez creadas.\n",
        "\n",
        "Para crear una tupla debemos separar cada elemento por comas como en las listas. Los elementos van encerrados entre paréntesis. Aunque puedes crearlas sin especificar el paréntesis\n"
      ],
      "metadata": {
        "id": "RLOF1PqmlF85"
      },
      "id": "RLOF1PqmlF85"
    },
    {
      "cell_type": "code",
      "source": [
        "1, 2, 3, 4\n"
      ],
      "metadata": {
        "colab": {
          "base_uri": "https://localhost:8080/"
        },
        "id": "bJjYPLgrTGYB",
        "outputId": "471837e0-4756-4259-b52c-30e857bd9728"
      },
      "id": "bJjYPLgrTGYB",
      "execution_count": null,
      "outputs": [
        {
          "output_type": "execute_result",
          "data": {
            "text/plain": [
              "(1, 2, 3, 4)"
            ]
          },
          "metadata": {},
          "execution_count": 12
        }
      ]
    },
    {
      "cell_type": "code",
      "source": [
        "(1, 2, 3, 4)"
      ],
      "metadata": {
        "colab": {
          "base_uri": "https://localhost:8080/"
        },
        "id": "8XIcayoPTJPV",
        "outputId": "d96748d8-5bd7-45ee-bc28-12c55b7cb1ab"
      },
      "id": "8XIcayoPTJPV",
      "execution_count": null,
      "outputs": [
        {
          "output_type": "execute_result",
          "data": {
            "text/plain": [
              "(1, 2, 3, 4)"
            ]
          },
          "metadata": {},
          "execution_count": 13
        }
      ]
    },
    {
      "cell_type": "markdown",
      "source": [
        "Las tuplas son útiles cuando tengamos información que no se quiera modificar."
      ],
      "metadata": {
        "id": "M66yMHToTP6y"
      },
      "id": "M66yMHToTP6y"
    },
    {
      "cell_type": "markdown",
      "source": [
        "## Diccionarios\n",
        "\n",
        " La estructura de los diccionarios es {clave : valor} y lo podemos asociar entonces como una columna de Excel, el nombre de la columna sería la clave y los datos almacenados en la columna serían los valores. También pueden ser filas. Este tipo de estructura de datos facilita la comprensión de la información, la compacta."
      ],
      "metadata": {
        "id": "xpm7jpWZlFzC"
      },
      "id": "xpm7jpWZlFzC"
    },
    {
      "cell_type": "code",
      "source": [
        "diccionario = {'frutas' : ['manzana', 'pera', 'mandarina'], 'precios' : [2, 3, 1]}"
      ],
      "metadata": {
        "id": "OYhnDT3gzIyL"
      },
      "id": "OYhnDT3gzIyL",
      "execution_count": null,
      "outputs": []
    },
    {
      "cell_type": "code",
      "source": [
        "diccionario"
      ],
      "metadata": {
        "id": "SjEPv6mJzfdz",
        "colab": {
          "base_uri": "https://localhost:8080/"
        },
        "outputId": "dea67332-925d-4d6f-daec-4cb62d88987f"
      },
      "id": "SjEPv6mJzfdz",
      "execution_count": null,
      "outputs": [
        {
          "output_type": "execute_result",
          "data": {
            "text/plain": [
              "{'frutas': ['manzana', 'pera', 'mandarina'], 'precios': [2, 3, 1]}"
            ]
          },
          "metadata": {},
          "execution_count": 2
        }
      ]
    },
    {
      "cell_type": "code",
      "source": [
        "diccionario['frutas']"
      ],
      "metadata": {
        "id": "zqUqHjCezfme",
        "colab": {
          "base_uri": "https://localhost:8080/"
        },
        "outputId": "57b9a09d-229d-4960-b51d-2d8bc1eb31dd"
      },
      "id": "zqUqHjCezfme",
      "execution_count": null,
      "outputs": [
        {
          "output_type": "execute_result",
          "data": {
            "text/plain": [
              "['manzana', 'pera', 'mandarina']"
            ]
          },
          "metadata": {},
          "execution_count": 3
        }
      ]
    },
    {
      "cell_type": "markdown",
      "source": [
        "📖 Recuerda que una variable es una especie de caja de almacenamiento. Siempre que quieras trabajar con la información, accedes a ella utilizando la variable. Si tienes información nueva que quieres almacenar, la puedes poner en una variable.\n",
        "\n",
        "Los principales tipos de datos que se pueden almacenar en una variable son números enteros, números de punto flotante, cadenas de caracteres y valores booleanos.\n"
      ],
      "metadata": {
        "id": "XexW2IlaTnkA"
      },
      "id": "XexW2IlaTnkA"
    },
    {
      "cell_type": "markdown",
      "id": "e9895f48",
      "metadata": {
        "id": "e9895f48"
      },
      "source": [
        "💡 En Python, se trabaja principalmente con objetos. ¿Qué es un objeto? En este caso todo es un objeto, un número, cadenas, funciones, entre otros. Los objetos hacen las cosas complejas más simples."
      ]
    },
    {
      "cell_type": "markdown",
      "source": [
        "## Fechas\n",
        "\n",
        "Las fechas las veremos en la siguiente sección."
      ],
      "metadata": {
        "id": "4LJG6rsrLxXv"
      },
      "id": "4LJG6rsrLxXv"
    }
  ],
  "metadata": {
    "kernelspec": {
      "display_name": "Python 3 (ipykernel)",
      "language": "python",
      "name": "python3"
    },
    "language_info": {
      "codemirror_mode": {
        "name": "ipython",
        "version": 3
      },
      "file_extension": ".py",
      "mimetype": "text/x-python",
      "name": "python",
      "nbconvert_exporter": "python",
      "pygments_lexer": "ipython3",
      "version": "3.7.7"
    },
    "colab": {
      "name": "S02_primeros_pasos.ipynb",
      "provenance": [],
      "collapsed_sections": [],
      "include_colab_link": true
    }
  },
  "nbformat": 4,
  "nbformat_minor": 5
}