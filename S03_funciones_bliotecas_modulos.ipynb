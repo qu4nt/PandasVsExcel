{
  "nbformat": 4,
  "nbformat_minor": 0,
  "metadata": {
    "colab": {
      "name": "S03_funciones_bliotecas_modulos.ipynb",
      "provenance": [],
      "collapsed_sections": [],
      "authorship_tag": "ABX9TyPSpgLDe2adb6dFbb5q8uy0",
      "include_colab_link": true
    },
    "kernelspec": {
      "name": "python3",
      "display_name": "Python 3"
    },
    "language_info": {
      "name": "python"
    }
  },
  "cells": [
    {
      "cell_type": "markdown",
      "metadata": {
        "id": "view-in-github",
        "colab_type": "text"
      },
      "source": [
        "<a href=\"https://colab.research.google.com/github/qu4nt/PandasVsExcel/blob/dev/S03_funciones_bliotecas_modulos.ipynb\" target=\"_parent\"><img src=\"https://colab.research.google.com/assets/colab-badge.svg\" alt=\"Open In Colab\"/></a>"
      ]
    },
    {
      "cell_type": "markdown",
      "source": [
        "¿Qué es una función?\n",
        "\n",
        "En Excel cuando sumamos valores con SUMA(), calculamos promedios con PROMEDIO() o calculamos la diferencia entre dos fechas con DATEDIF(), estamos utilizando funciones. \n",
        "\n",
        "Una función en Excel es una fórmula predefinida por el programa. En el caso de Python, una función se puede describir como un grupo de sentencias relacionadas que realizan una tarea específica, se pueden crear y utilizar según las necesidades que tengamos. Existen funciones predefinidas disponibles a través de módulos y bibliotecas. (Veremos más adelante qué son)\n",
        "\n",
        "Si decidimos crear manualmente una función en Python debemos conocer que son declaradas mediante la palabra reservada `def`.\n",
        "\n",
        "La estructura de la función es \n",
        "\n",
        "```python\n",
        "def nombre_funcion(parametros):\n",
        "    \"\"\"cadena\"\"\"\n",
        "    sentencia(s)\n",
        "```\n",
        "\n",
        "\n",
        "💡 Palabra reservadas o keywords son palabras especiales que tienen significados y propósitos determinados dentro del lenguaje. Estás palabras siempre están disponibles. Las palabras clave de Python son diferentes de las funciones y tipos incorporados de Python. Las funciones y tipos incorporados también están siempre disponibles, pero no son tan restrictivos como las palabras clave en su uso.\n",
        "\n",
        "  Hay treinta y cinco palabras clave en Python, esto a partir de la versión 3.8.\n",
        "\n"
      ],
      "metadata": {
        "id": "x6FyS295VW8V"
      }
    },
    {
      "cell_type": "markdown",
      "source": [
        "Ejemplo de una función:"
      ],
      "metadata": {
        "id": "M-gFNs3AoxAo"
      }
    },
    {
      "cell_type": "code",
      "source": [
        "def saludar():\n",
        "  print('Hola, ¿cómo estás?') "
      ],
      "metadata": {
        "id": "dcv1Uie-oyS5"
      },
      "execution_count": 14,
      "outputs": []
    },
    {
      "cell_type": "markdown",
      "source": [
        "\n",
        "Una vez definida la función podemos utilizarla escribiendo su nombre en una celda de código.\n",
        "\n",
        "El ejemplo anterior no tiene parámetros por ello se debe escribir solo su nombre."
      ],
      "metadata": {
        "id": "FyYwoaMKft9v"
      }
    },
    {
      "cell_type": "code",
      "source": [
        "saludar()"
      ],
      "metadata": {
        "colab": {
          "base_uri": "https://localhost:8080/"
        },
        "id": "A3dfXZLjOjg8",
        "outputId": "fb642704-d4cd-4423-e10a-6ec5ffc7d4f4"
      },
      "execution_count": 16,
      "outputs": [
        {
          "output_type": "stream",
          "name": "stdout",
          "text": [
            "Hola, ¿cómo estás?\n"
          ]
        }
      ]
    },
    {
      "cell_type": "markdown",
      "source": [
        "Las funciones en Python son los bloques de código definidos que realizan una tarea específica. En esta sección, discutiremos la diferencia en invocar funciones con y sin paréntesis.\n",
        "\n",
        "- Cuando llamamos a una función con paréntesis, la función se ejecuta y devuelve el resultado al invocador.\n",
        "- En otro caso, cuando llamamos a una función sin paréntesis, se envía una referencia de la función al callable en lugar de ejecutar la función misma."
      ],
      "metadata": {
        "id": "d6GTrTf0GHT8"
      }
    },
    {
      "cell_type": "markdown",
      "source": [
        "Si necesitamos una función que realice operaciones sobre parámetros simplemente debemos especificarlos, por ejemplo"
      ],
      "metadata": {
        "id": "oIq8_ihFgEm8"
      }
    },
    {
      "cell_type": "code",
      "source": [
        "def sumar(a, b):\n",
        "  return(a + b)"
      ],
      "metadata": {
        "id": "LFPdHSqvPIlO"
      },
      "execution_count": null,
      "outputs": []
    },
    {
      "cell_type": "code",
      "source": [
        "def sumar(a, b):\n",
        "  print(a + b)"
      ],
      "metadata": {
        "id": "FLnHjj2JglBz"
      },
      "execution_count": null,
      "outputs": []
    },
    {
      "cell_type": "markdown",
      "source": [
        "Los parámetros de una función son valores que requiere la función, en muchas ocasiones pueden estar preestablecidos o simplemente el usuario es el encargado de asignarlos."
      ],
      "metadata": {
        "id": "LkAKpctAemv9"
      }
    },
    {
      "cell_type": "markdown",
      "source": [
        "Para las funciones, si necesitamos que el valor resultante se pueda almacenar entonces es preferible utilizar return ya que esta palabra reservada devuelve el(los) valor(es) calculado(s). Mientras que print solo muestra los valores."
      ],
      "metadata": {
        "id": "vLbNPnvtgi9l"
      }
    },
    {
      "cell_type": "markdown",
      "source": [
        "## Clases y métodos\n",
        "\n",
        "Otros elementos importantes son las clases y los métodos. Una clase es una plantilla de código para crear objetos. En python una clase se crea mediante la palabra clave class.\n",
        "\n",
        "Se crea un objeto utilizando el constructor de la clase. Este objeto se llamará entonces instancia de la clase. En Python creamos instancias de la siguiente manera\n",
        "\n",
        "\n",
        "Si quieres conocer un poco más sobre esto y la programación orientada a objetos te invito a leer un artículo en [medium](https://medium.com/qu4nt/programaci%C3%B3n-orientada-a-objetos-en-python-3-c98cc52ba933) sobre este tema."
      ],
      "metadata": {
        "id": "XpJQ1Un-N4Rj"
      }
    },
    {
      "cell_type": "markdown",
      "source": [
        "## Módulos y bibliotecas\n",
        "\n",
        "Bien, ahora ya estamos en el punto en que necesitamos conocer la forma de obtener resultados a partir de funciones ya creadas y contar con elementos que nos faciliten funcionalidades y nos ahorren tiempo a la hora de programar. En Python para solventar lo anterior tenemos bibliotecas, módulos y paquetes."
      ],
      "metadata": {
        "id": "1purKa5DeTbO"
      }
    },
    {
      "cell_type": "markdown",
      "source": [
        "Los módulos son simplemente archivos .py que contienen funciones, valores, clases y otros objetos. Los módulos son útiles porque permiten una división y organización adecuada del código, facilitando su lectura y comprensión. \n",
        "\n",
        "En Python, existe una gran varieda de módulos por ejemplo, defecto podemos encontrar al módulo `math` el cual nos permite realizar operaciones matemáticas."
      ],
      "metadata": {
        "id": "liUgM41De9An"
      }
    },
    {
      "cell_type": "code",
      "source": [
        "import math "
      ],
      "metadata": {
        "id": "If_ZhJpvaAwK"
      },
      "execution_count": null,
      "outputs": []
    },
    {
      "cell_type": "code",
      "source": [
        "math."
      ],
      "metadata": {
        "colab": {
          "base_uri": "https://localhost:8080/"
        },
        "id": "oWgNsT2SaI1W",
        "outputId": "458e3ff9-8234-4391-948a-1fd7045e9479"
      },
      "execution_count": null,
      "outputs": [
        {
          "output_type": "execute_result",
          "data": {
            "text/plain": [
              "<module 'math' (built-in)>"
            ]
          },
          "metadata": {},
          "execution_count": 3
        }
      ]
    },
    {
      "cell_type": "code",
      "source": [
        "math.sqrt(121)"
      ],
      "metadata": {
        "colab": {
          "base_uri": "https://localhost:8080/"
        },
        "id": "EHZ9qEDboME7",
        "outputId": "bb5975dc-92c3-4658-fe87-4c55c7d3c555"
      },
      "execution_count": null,
      "outputs": [
        {
          "output_type": "execute_result",
          "data": {
            "text/plain": [
              "11.0"
            ]
          },
          "metadata": {},
          "execution_count": 8
        }
      ]
    },
    {
      "cell_type": "markdown",
      "source": [
        "Los paquetes son directorios que contienen módulos y permiten organizarlos. Es decir, un paquete es una carpeta que contiene archivos con extensión .py (donde cada uno es un módulo). Algunos paquetes, a su vez, pueden contener subpaquetes y la particularidad de estos es que su contenido y funcionalidades se pueden descargar e instalar.\n",
        "\n",
        "📓 Un módulo puede pertenecer o no a un paquete.\n",
        "\n",
        "\n",
        "💡 Si se desea crear un paquete propio se debe tener en cuenta que los archivos \\_\\_init\\_\\_.py son necesarios para que Python trate los directorios que contienen el archivo como paquetes. Esto evita que los directorios con un nombre común oculten involuntariamente módulos válidos. En el caso más simple, \\_\\_init\\_\\_.py puede ser un archivo vacío, pero también puede ejecutar el código de inicialización para el paquete."
      ],
      "metadata": {
        "id": "6YxTlXTJbXOW"
      }
    },
    {
      "cell_type": "markdown",
      "source": [
        "¿Qué es una biblioteca?\n",
        "\n",
        "En Python una biblioteca o librería como se ha popularizado, es un conjunto de funcionalidades (módulos y paquetes) que puede ser utilizado en uno o varios programas de forma simultánea y responden a tareas específicas."
      ],
      "metadata": {
        "id": "T21kUCcqVZxf"
      }
    },
    {
      "cell_type": "markdown",
      "source": [
        "Para importar bibliotecas y paquetes se utiliza la palabra `import` y el nombre de la biblioteca o paquete. De forma similar a los módulos.\n",
        "\n",
        "Por ejemplo, si queremos importar la biblioteca pandas"
      ],
      "metadata": {
        "id": "4l1qT4BwSE39"
      }
    },
    {
      "cell_type": "code",
      "source": [
        "import pandas"
      ],
      "metadata": {
        "id": "nB0HGSFLnQlj"
      },
      "execution_count": 18,
      "outputs": []
    },
    {
      "cell_type": "markdown",
      "source": [
        "Para ahorrar tiempo de escritura posterior a la importación podemos utilizar alias colocando `as` seguido del alias, en el caso anterior sería as pd."
      ],
      "metadata": {
        "id": "A-j01e3aVpi5"
      }
    },
    {
      "cell_type": "code",
      "source": [
        "import pandas as pd"
      ],
      "metadata": {
        "id": "TaIUN7lp6aJo"
      },
      "execution_count": null,
      "outputs": []
    },
    {
      "cell_type": "markdown",
      "source": [
        "En el caso de la biblioteca Numpy"
      ],
      "metadata": {
        "id": "UexS2tSFnl7R"
      }
    },
    {
      "cell_type": "markdown",
      "source": [
        "Ahora suponiendo que queremos sumar los valores de una lista a partir de `Numpy` podemos utilizar el alias para acceder a la función `sum`"
      ],
      "metadata": {
        "id": "OWDVNb9Ex2Kx"
      }
    },
    {
      "cell_type": "code",
      "source": [
        "import numpy as np"
      ],
      "metadata": {
        "id": "ZMm1Z_McTKr9"
      },
      "execution_count": 20,
      "outputs": []
    },
    {
      "cell_type": "code",
      "source": [
        "type(np)"
      ],
      "metadata": {
        "colab": {
          "base_uri": "https://localhost:8080/"
        },
        "id": "PvzkPHxcTclk",
        "outputId": "7624a760-3e3e-4cfd-960b-4dd494638520"
      },
      "execution_count": 22,
      "outputs": [
        {
          "output_type": "execute_result",
          "data": {
            "text/plain": [
              "module"
            ]
          },
          "metadata": {},
          "execution_count": 22
        }
      ]
    },
    {
      "cell_type": "code",
      "source": [
        "np.sum([1, 3, 5])"
      ],
      "metadata": {
        "id": "_y_DSxBEx1c9"
      },
      "execution_count": null,
      "outputs": []
    },
    {
      "cell_type": "markdown",
      "source": [
        "Si queremos ver ayuda sobre la función"
      ],
      "metadata": {
        "id": "KILgfWuJ19Vr"
      }
    },
    {
      "cell_type": "code",
      "source": [
        "help(np.sum)"
      ],
      "metadata": {
        "colab": {
          "base_uri": "https://localhost:8080/"
        },
        "id": "DyDGKs6bx1l8",
        "outputId": "96c6b932-41d7-4403-c38e-b3009842bbfb"
      },
      "execution_count": null,
      "outputs": [
        {
          "output_type": "stream",
          "name": "stdout",
          "text": [
            "Help on function sum in module numpy:\n",
            "\n",
            "sum(a, axis=None, dtype=None, out=None, keepdims=<no value>, initial=<no value>, where=<no value>)\n",
            "    Sum of array elements over a given axis.\n",
            "    \n",
            "    Parameters\n",
            "    ----------\n",
            "    a : array_like\n",
            "        Elements to sum.\n",
            "    axis : None or int or tuple of ints, optional\n",
            "        Axis or axes along which a sum is performed.  The default,\n",
            "        axis=None, will sum all of the elements of the input array.  If\n",
            "        axis is negative it counts from the last to the first axis.\n",
            "    \n",
            "        .. versionadded:: 1.7.0\n",
            "    \n",
            "        If axis is a tuple of ints, a sum is performed on all of the axes\n",
            "        specified in the tuple instead of a single axis or all the axes as\n",
            "        before.\n",
            "    dtype : dtype, optional\n",
            "        The type of the returned array and of the accumulator in which the\n",
            "        elements are summed.  The dtype of `a` is used by default unless `a`\n",
            "        has an integer dtype of less precision than the default platform\n",
            "        integer.  In that case, if `a` is signed then the platform integer\n",
            "        is used while if `a` is unsigned then an unsigned integer of the\n",
            "        same precision as the platform integer is used.\n",
            "    out : ndarray, optional\n",
            "        Alternative output array in which to place the result. It must have\n",
            "        the same shape as the expected output, but the type of the output\n",
            "        values will be cast if necessary.\n",
            "    keepdims : bool, optional\n",
            "        If this is set to True, the axes which are reduced are left\n",
            "        in the result as dimensions with size one. With this option,\n",
            "        the result will broadcast correctly against the input array.\n",
            "    \n",
            "        If the default value is passed, then `keepdims` will not be\n",
            "        passed through to the `sum` method of sub-classes of\n",
            "        `ndarray`, however any non-default value will be.  If the\n",
            "        sub-class' method does not implement `keepdims` any\n",
            "        exceptions will be raised.\n",
            "    initial : scalar, optional\n",
            "        Starting value for the sum. See `~numpy.ufunc.reduce` for details.\n",
            "    \n",
            "        .. versionadded:: 1.15.0\n",
            "    \n",
            "    where : array_like of bool, optional\n",
            "        Elements to include in the sum. See `~numpy.ufunc.reduce` for details.\n",
            "    \n",
            "        .. versionadded:: 1.17.0\n",
            "    \n",
            "    Returns\n",
            "    -------\n",
            "    sum_along_axis : ndarray\n",
            "        An array with the same shape as `a`, with the specified\n",
            "        axis removed.   If `a` is a 0-d array, or if `axis` is None, a scalar\n",
            "        is returned.  If an output array is specified, a reference to\n",
            "        `out` is returned.\n",
            "    \n",
            "    See Also\n",
            "    --------\n",
            "    ndarray.sum : Equivalent method.\n",
            "    \n",
            "    add.reduce : Equivalent functionality of `add`.\n",
            "    \n",
            "    cumsum : Cumulative sum of array elements.\n",
            "    \n",
            "    trapz : Integration of array values using the composite trapezoidal rule.\n",
            "    \n",
            "    mean, average\n",
            "    \n",
            "    Notes\n",
            "    -----\n",
            "    Arithmetic is modular when using integer types, and no error is\n",
            "    raised on overflow.\n",
            "    \n",
            "    The sum of an empty array is the neutral element 0:\n",
            "    \n",
            "    >>> np.sum([])\n",
            "    0.0\n",
            "    \n",
            "    For floating point numbers the numerical precision of sum (and\n",
            "    ``np.add.reduce``) is in general limited by directly adding each number\n",
            "    individually to the result causing rounding errors in every step.\n",
            "    However, often numpy will use a  numerically better approach (partial\n",
            "    pairwise summation) leading to improved precision in many use-cases.\n",
            "    This improved precision is always provided when no ``axis`` is given.\n",
            "    When ``axis`` is given, it will depend on which axis is summed.\n",
            "    Technically, to provide the best speed possible, the improved precision\n",
            "    is only used when the summation is along the fast axis in memory.\n",
            "    Note that the exact precision may vary depending on other parameters.\n",
            "    In contrast to NumPy, Python's ``math.fsum`` function uses a slower but\n",
            "    more precise approach to summation.\n",
            "    Especially when summing a large number of lower precision floating point\n",
            "    numbers, such as ``float32``, numerical errors can become significant.\n",
            "    In such cases it can be advisable to use `dtype=\"float64\"` to use a higher\n",
            "    precision for the output.\n",
            "    \n",
            "    Examples\n",
            "    --------\n",
            "    >>> np.sum([0.5, 1.5])\n",
            "    2.0\n",
            "    >>> np.sum([0.5, 0.7, 0.2, 1.5], dtype=np.int32)\n",
            "    1\n",
            "    >>> np.sum([[0, 1], [0, 5]])\n",
            "    6\n",
            "    >>> np.sum([[0, 1], [0, 5]], axis=0)\n",
            "    array([0, 6])\n",
            "    >>> np.sum([[0, 1], [0, 5]], axis=1)\n",
            "    array([1, 5])\n",
            "    >>> np.sum([[0, 1], [np.nan, 5]], where=[False, True], axis=1)\n",
            "    array([1., 5.])\n",
            "    \n",
            "    If the accumulator is too small, overflow occurs:\n",
            "    \n",
            "    >>> np.ones(128, dtype=np.int8).sum(dtype=np.int8)\n",
            "    -128\n",
            "    \n",
            "    You can also start the sum with a value other than zero:\n",
            "    \n",
            "    >>> np.sum([10], initial=5)\n",
            "    15\n",
            "\n"
          ]
        }
      ]
    },
    {
      "cell_type": "markdown",
      "source": [
        "En Python existe una gran variedad de módulos, por ejemplo, ....... que permiten hacer fácilmente algunas cosas que hacemos en Excel. Sugiero hacer esa comparación, aparte del módulo math. Puede nombrar random, o alguno que haga cálculos de estadísticas, distribuciones o gráficos. Sería válido para módulos y también paquetes y bibiotecas. Lo puede hacer al final de la definición de bibliotecas"
      ],
      "metadata": {
        "id": "l5QaMc-URoGx"
      }
    },
    {
      "cell_type": "markdown",
      "source": [
        "## Datos de tipo fecha\n",
        "\n",
        "Cuando trabajamos en Excel las fechas se detectan automáticamente si tienen un formato determinado. Así mismo se pueden aplicar operaciones sobre estos datos de forma tal que podemos obtener diferencias entre las fechas.\n",
        "\n",
        "En el caso de Python existe un módulo que permite manejar fechas y horas. Este módulo es `datetime`, que forma parte de la biblioteca estándar de Python. Veamos cómo utilizarlo.\n",
        "\n",
        "Como `datetime` es un módulo debemos importarlo:"
      ],
      "metadata": {
        "id": "B9d3umVSnwnr"
      }
    },
    {
      "cell_type": "code",
      "source": [
        "import datetime"
      ],
      "metadata": {
        "id": "9NAXBgICX8yL"
      },
      "execution_count": 1,
      "outputs": []
    },
    {
      "cell_type": "markdown",
      "source": [
        "Ahora ya podemos acceder a los elementos en este módulo.\n",
        "\n",
        "Para establecer que por ejemplo, _19-04-1810_ es una fecha utilizamos la clase date"
      ],
      "metadata": {
        "id": "no-fmeXOnwqd"
      }
    },
    {
      "cell_type": "code",
      "source": [
        "fecha = datetime.date(day=19, month=4, year=1810)"
      ],
      "metadata": {
        "id": "4b0ny1S4deXv"
      },
      "execution_count": 17,
      "outputs": []
    },
    {
      "cell_type": "markdown",
      "source": [
        "Si mostramos lo que almacena el objeto fecha podemos ver que se trata de un objeto date"
      ],
      "metadata": {
        "id": "vFMnRkYOmfth"
      }
    },
    {
      "cell_type": "code",
      "source": [
        "fecha"
      ],
      "metadata": {
        "colab": {
          "base_uri": "https://localhost:8080/"
        },
        "id": "lRl8VJOrmgPT",
        "outputId": "73acf37e-2839-40f8-be7d-e52ccdcd5f09"
      },
      "execution_count": 9,
      "outputs": [
        {
          "output_type": "execute_result",
          "data": {
            "text/plain": [
              "datetime.date(1830, 4, 19)"
            ]
          },
          "metadata": {},
          "execution_count": 9
        }
      ]
    },
    {
      "cell_type": "code",
      "source": [
        "print(fecha)"
      ],
      "metadata": {
        "colab": {
          "base_uri": "https://localhost:8080/"
        },
        "id": "Re998PstlOSn",
        "outputId": "63b746da-a5e6-41f2-e291-0d3f63b11836"
      },
      "execution_count": 8,
      "outputs": [
        {
          "output_type": "stream",
          "name": "stdout",
          "text": [
            "1830-04-19\n"
          ]
        }
      ]
    },
    {
      "cell_type": "code",
      "source": [
        "fecha.day"
      ],
      "metadata": {
        "colab": {
          "base_uri": "https://localhost:8080/"
        },
        "id": "ublLzRSKlHRn",
        "outputId": "b4e1e81c-895d-4e61-c007-4e4b89e655ab"
      },
      "execution_count": 6,
      "outputs": [
        {
          "output_type": "execute_result",
          "data": {
            "text/plain": [
              "19"
            ]
          },
          "metadata": {},
          "execution_count": 6
        }
      ]
    },
    {
      "cell_type": "code",
      "source": [
        "fecha.month"
      ],
      "metadata": {
        "colab": {
          "base_uri": "https://localhost:8080/"
        },
        "id": "Hk-n_ezllJ-M",
        "outputId": "86fe0bb9-bc44-45cb-b69c-0ae94e313317"
      },
      "execution_count": 7,
      "outputs": [
        {
          "output_type": "execute_result",
          "data": {
            "text/plain": [
              "4"
            ]
          },
          "metadata": {},
          "execution_count": 7
        }
      ]
    },
    {
      "cell_type": "markdown",
      "source": [
        "Si queremos obtener la fecha actual"
      ],
      "metadata": {
        "id": "UteVW05oqPA0"
      }
    },
    {
      "cell_type": "code",
      "source": [
        "datetime.date.today()"
      ],
      "metadata": {
        "colab": {
          "base_uri": "https://localhost:8080/"
        },
        "id": "twHgM0N2qOQ9",
        "outputId": "f1668473-9d0a-4636-b569-645f83b8c7b0"
      },
      "execution_count": 10,
      "outputs": [
        {
          "output_type": "execute_result",
          "data": {
            "text/plain": [
              "datetime.date(2022, 4, 20)"
            ]
          },
          "metadata": {},
          "execution_count": 10
        }
      ]
    },
    {
      "cell_type": "markdown",
      "source": [
        "Horas y fechas\n",
        "\n",
        "Con datetime y la clase datetime podemos almacenar fechas y horas\n",
        "\n",
        "`datetime.datetime(year, month, day, hour=0, minute=0, second=0, microsecond=0, tzinfo=None, *, fold=0)`"
      ],
      "metadata": {
        "id": "iS72kJIY-xOx"
      }
    },
    {
      "cell_type": "markdown",
      "source": [
        "También podemos obtener la fecha y la hora actuales con"
      ],
      "metadata": {
        "id": "0eAot7qT_3Pm"
      }
    },
    {
      "cell_type": "code",
      "source": [
        "datetime.datetime.today()"
      ],
      "metadata": {
        "colab": {
          "base_uri": "https://localhost:8080/"
        },
        "id": "LUHPeNqnqOT0",
        "outputId": "62946c6a-6d38-49cb-f57c-816480a7bfcd"
      },
      "execution_count": 11,
      "outputs": [
        {
          "output_type": "execute_result",
          "data": {
            "text/plain": [
              "datetime.datetime(2022, 4, 20, 17, 23, 17, 256938)"
            ]
          },
          "metadata": {},
          "execution_count": 11
        }
      ]
    },
    {
      "cell_type": "code",
      "source": [
        "from datetime import datetime\n",
        "datetime.fromisoformat('2011-11-04')\n",
        "\n",
        "datetime.fromisoformat('2011-11-04T00:05:23')\n",
        "\n",
        "datetime.fromisoformat('2011-11-04 00:05:23.283')\n",
        "\n",
        "datetime.fromisoformat('2011-11-04 00:05:23.283+00:00')\n",
        "\n",
        "datetime.fromisoformat('2011-11-04T00:05:23+04:00')   "
      ],
      "metadata": {
        "colab": {
          "base_uri": "https://localhost:8080/"
        },
        "id": "Rhc0DAPQ_--_",
        "outputId": "3d27108e-8771-4d49-e2f8-916e382fa966"
      },
      "execution_count": 13,
      "outputs": [
        {
          "output_type": "execute_result",
          "data": {
            "text/plain": [
              "datetime.datetime(2022, 4, 20, 17, 24, 40, 164687)"
            ]
          },
          "metadata": {},
          "execution_count": 13
        }
      ]
    }
  ]
}